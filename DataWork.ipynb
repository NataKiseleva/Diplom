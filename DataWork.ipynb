{
  "nbformat": 4,
  "nbformat_minor": 0,
  "metadata": {
    "colab": {
      "name": "DataWork.ipynb",
      "provenance": [],
      "authorship_tag": "ABX9TyMEQGbu4eZiKWGe8h65iGh1",
      "include_colab_link": true
    },
    "kernelspec": {
      "name": "python3",
      "display_name": "Python 3"
    },
    "language_info": {
      "name": "python"
    }
  },
  "cells": [
    {
      "cell_type": "markdown",
      "metadata": {
        "id": "view-in-github",
        "colab_type": "text"
      },
      "source": [
        "<a href=\"https://colab.research.google.com/github/NataKiseleva/Diplom/blob/main/DataWork.ipynb\" target=\"_parent\"><img src=\"https://colab.research.google.com/assets/colab-badge.svg\" alt=\"Open In Colab\"/></a>"
      ]
    },
    {
      "cell_type": "code",
      "execution_count": null,
      "metadata": {
        "id": "p70ngbLQjoQ3"
      },
      "outputs": [],
      "source": [
        "with open('new_eng.txt') as f:\n",
        "    even = list(map(str.strip, f.readlines()))"
      ]
    },
    {
      "cell_type": "code",
      "source": [
        "import pandas as pd"
      ],
      "metadata": {
        "id": "_YVrsTackVei"
      },
      "execution_count": null,
      "outputs": []
    },
    {
      "cell_type": "code",
      "source": [
        "even"
      ],
      "metadata": {
        "id": "lc07Njei22ip"
      },
      "execution_count": null,
      "outputs": []
    },
    {
      "cell_type": "code",
      "source": [
        "len(even)"
      ],
      "metadata": {
        "colab": {
          "base_uri": "https://localhost:8080/"
        },
        "id": "Bm1eC2vk7CmS",
        "outputId": "4020899e-6f35-4a4d-e6ee-d13b50f7e9cc"
      },
      "execution_count": null,
      "outputs": [
        {
          "output_type": "execute_result",
          "data": {
            "text/plain": [
              "1694"
            ]
          },
          "metadata": {},
          "execution_count": 4
        }
      ]
    },
    {
      "cell_type": "code",
      "source": [
        "for line in even:\n",
        "  if '/t' in line:\n",
        "    pass\n",
        "  else:\n",
        "    line = line.replace('\t', '/t', 1)\n",
        "    print(line)"
      ],
      "metadata": {
        "id": "csNsDRxj3rAp"
      },
      "execution_count": null,
      "outputs": []
    },
    {
      "cell_type": "code",
      "source": [
        "df = pd.DataFrame(columns = ['original', 'markup'])\n",
        "\n",
        "for line in even:\n",
        "  if line:\n",
        "    if '\\t' in line:\n",
        "      pass\n",
        "    else:\n",
        "      line = line.replace('\t', '\\t', 1)\n",
        "    if '\\t' in line:\n",
        "      print(line.split('\\t'))\n",
        "      if len(line.split('\\t')) == 2:\n",
        "        original, markup = line.split('\\t')\n",
        "    else:\n",
        "      if len(line.split(' ')) == 2:\n",
        "        original, markup = line.split(' ')\n",
        "    d = {'original': original, 'markup': markup}\n",
        "    df = df.append(d, ignore_index=True)"
      ],
      "metadata": {
        "id": "Df6lJoK2kHLM"
      },
      "execution_count": null,
      "outputs": []
    },
    {
      "cell_type": "code",
      "source": [
        "def some_changing_function(text):\n",
        "  list_1 = text.split()\n",
        "  list_2 = []\n",
        "  for i in list_1:\n",
        "    if '_' in i:\n",
        "      i = re.sub('_.+', '', i)\n",
        "    list_2.append(i)\n",
        "  return '/'.join(list_2)\n",
        "    "
      ],
      "metadata": {
        "id": "0FNY4tPzkzIg"
      },
      "execution_count": null,
      "outputs": []
    },
    {
      "cell_type": "code",
      "source": [
        "import re"
      ],
      "metadata": {
        "id": "uYq_KzU5lKZD"
      },
      "execution_count": null,
      "outputs": []
    },
    {
      "cell_type": "code",
      "source": [
        "df['new_markup'] = df.markup.apply(some_changing_function)"
      ],
      "metadata": {
        "id": "8idiyynbnymk"
      },
      "execution_count": null,
      "outputs": []
    },
    {
      "cell_type": "code",
      "source": [
        "df"
      ],
      "metadata": {
        "colab": {
          "base_uri": "https://localhost:8080/",
          "height": 423
        },
        "id": "XOUm3S8nfp94",
        "outputId": "10007501-4213-47bc-d00b-ceddf8483682"
      },
      "execution_count": null,
      "outputs": [
        {
          "output_type": "execute_result",
          "data": {
            "text/plain": [
              "           original            markup        new_markup\n",
              "0       accompanied     ac/compani/ed     ac/compani/ed\n",
              "1     accompaniment   ac/compani/ment   ac/compani/ment\n",
              "2     acknowledging   ac/knowledg/ing   ac/knowledg/ing\n",
              "3       acquisition      acquis/ition      acquis/ition\n",
              "4     acquisitions'  acquis/ition/s/'  acquis/ition/s/'\n",
              "...             ...               ...               ...\n",
              "1689        yowling          yowl/ing          yowl/ing\n",
              "1690         zany's           zany/'s           zany/'s\n",
              "1691        zeniths          zenith/s          zenith/s\n",
              "1692         zodiac            zodiac            zodiac\n",
              "1693       zombie's         zombie/'s         zombie/'s\n",
              "\n",
              "[1694 rows x 3 columns]"
            ],
            "text/html": [
              "\n",
              "  <div id=\"df-6b84d401-c653-43fc-8478-2c8d17051ca5\">\n",
              "    <div class=\"colab-df-container\">\n",
              "      <div>\n",
              "<style scoped>\n",
              "    .dataframe tbody tr th:only-of-type {\n",
              "        vertical-align: middle;\n",
              "    }\n",
              "\n",
              "    .dataframe tbody tr th {\n",
              "        vertical-align: top;\n",
              "    }\n",
              "\n",
              "    .dataframe thead th {\n",
              "        text-align: right;\n",
              "    }\n",
              "</style>\n",
              "<table border=\"1\" class=\"dataframe\">\n",
              "  <thead>\n",
              "    <tr style=\"text-align: right;\">\n",
              "      <th></th>\n",
              "      <th>original</th>\n",
              "      <th>markup</th>\n",
              "      <th>new_markup</th>\n",
              "    </tr>\n",
              "  </thead>\n",
              "  <tbody>\n",
              "    <tr>\n",
              "      <th>0</th>\n",
              "      <td>accompanied</td>\n",
              "      <td>ac/compani/ed</td>\n",
              "      <td>ac/compani/ed</td>\n",
              "    </tr>\n",
              "    <tr>\n",
              "      <th>1</th>\n",
              "      <td>accompaniment</td>\n",
              "      <td>ac/compani/ment</td>\n",
              "      <td>ac/compani/ment</td>\n",
              "    </tr>\n",
              "    <tr>\n",
              "      <th>2</th>\n",
              "      <td>acknowledging</td>\n",
              "      <td>ac/knowledg/ing</td>\n",
              "      <td>ac/knowledg/ing</td>\n",
              "    </tr>\n",
              "    <tr>\n",
              "      <th>3</th>\n",
              "      <td>acquisition</td>\n",
              "      <td>acquis/ition</td>\n",
              "      <td>acquis/ition</td>\n",
              "    </tr>\n",
              "    <tr>\n",
              "      <th>4</th>\n",
              "      <td>acquisitions'</td>\n",
              "      <td>acquis/ition/s/'</td>\n",
              "      <td>acquis/ition/s/'</td>\n",
              "    </tr>\n",
              "    <tr>\n",
              "      <th>...</th>\n",
              "      <td>...</td>\n",
              "      <td>...</td>\n",
              "      <td>...</td>\n",
              "    </tr>\n",
              "    <tr>\n",
              "      <th>1689</th>\n",
              "      <td>yowling</td>\n",
              "      <td>yowl/ing</td>\n",
              "      <td>yowl/ing</td>\n",
              "    </tr>\n",
              "    <tr>\n",
              "      <th>1690</th>\n",
              "      <td>zany's</td>\n",
              "      <td>zany/'s</td>\n",
              "      <td>zany/'s</td>\n",
              "    </tr>\n",
              "    <tr>\n",
              "      <th>1691</th>\n",
              "      <td>zeniths</td>\n",
              "      <td>zenith/s</td>\n",
              "      <td>zenith/s</td>\n",
              "    </tr>\n",
              "    <tr>\n",
              "      <th>1692</th>\n",
              "      <td>zodiac</td>\n",
              "      <td>zodiac</td>\n",
              "      <td>zodiac</td>\n",
              "    </tr>\n",
              "    <tr>\n",
              "      <th>1693</th>\n",
              "      <td>zombie's</td>\n",
              "      <td>zombie/'s</td>\n",
              "      <td>zombie/'s</td>\n",
              "    </tr>\n",
              "  </tbody>\n",
              "</table>\n",
              "<p>1694 rows × 3 columns</p>\n",
              "</div>\n",
              "      <button class=\"colab-df-convert\" onclick=\"convertToInteractive('df-6b84d401-c653-43fc-8478-2c8d17051ca5')\"\n",
              "              title=\"Convert this dataframe to an interactive table.\"\n",
              "              style=\"display:none;\">\n",
              "        \n",
              "  <svg xmlns=\"http://www.w3.org/2000/svg\" height=\"24px\"viewBox=\"0 0 24 24\"\n",
              "       width=\"24px\">\n",
              "    <path d=\"M0 0h24v24H0V0z\" fill=\"none\"/>\n",
              "    <path d=\"M18.56 5.44l.94 2.06.94-2.06 2.06-.94-2.06-.94-.94-2.06-.94 2.06-2.06.94zm-11 1L8.5 8.5l.94-2.06 2.06-.94-2.06-.94L8.5 2.5l-.94 2.06-2.06.94zm10 10l.94 2.06.94-2.06 2.06-.94-2.06-.94-.94-2.06-.94 2.06-2.06.94z\"/><path d=\"M17.41 7.96l-1.37-1.37c-.4-.4-.92-.59-1.43-.59-.52 0-1.04.2-1.43.59L10.3 9.45l-7.72 7.72c-.78.78-.78 2.05 0 2.83L4 21.41c.39.39.9.59 1.41.59.51 0 1.02-.2 1.41-.59l7.78-7.78 2.81-2.81c.8-.78.8-2.07 0-2.86zM5.41 20L4 18.59l7.72-7.72 1.47 1.35L5.41 20z\"/>\n",
              "  </svg>\n",
              "      </button>\n",
              "      \n",
              "  <style>\n",
              "    .colab-df-container {\n",
              "      display:flex;\n",
              "      flex-wrap:wrap;\n",
              "      gap: 12px;\n",
              "    }\n",
              "\n",
              "    .colab-df-convert {\n",
              "      background-color: #E8F0FE;\n",
              "      border: none;\n",
              "      border-radius: 50%;\n",
              "      cursor: pointer;\n",
              "      display: none;\n",
              "      fill: #1967D2;\n",
              "      height: 32px;\n",
              "      padding: 0 0 0 0;\n",
              "      width: 32px;\n",
              "    }\n",
              "\n",
              "    .colab-df-convert:hover {\n",
              "      background-color: #E2EBFA;\n",
              "      box-shadow: 0px 1px 2px rgba(60, 64, 67, 0.3), 0px 1px 3px 1px rgba(60, 64, 67, 0.15);\n",
              "      fill: #174EA6;\n",
              "    }\n",
              "\n",
              "    [theme=dark] .colab-df-convert {\n",
              "      background-color: #3B4455;\n",
              "      fill: #D2E3FC;\n",
              "    }\n",
              "\n",
              "    [theme=dark] .colab-df-convert:hover {\n",
              "      background-color: #434B5C;\n",
              "      box-shadow: 0px 1px 3px 1px rgba(0, 0, 0, 0.15);\n",
              "      filter: drop-shadow(0px 1px 2px rgba(0, 0, 0, 0.3));\n",
              "      fill: #FFFFFF;\n",
              "    }\n",
              "  </style>\n",
              "\n",
              "      <script>\n",
              "        const buttonEl =\n",
              "          document.querySelector('#df-6b84d401-c653-43fc-8478-2c8d17051ca5 button.colab-df-convert');\n",
              "        buttonEl.style.display =\n",
              "          google.colab.kernel.accessAllowed ? 'block' : 'none';\n",
              "\n",
              "        async function convertToInteractive(key) {\n",
              "          const element = document.querySelector('#df-6b84d401-c653-43fc-8478-2c8d17051ca5');\n",
              "          const dataTable =\n",
              "            await google.colab.kernel.invokeFunction('convertToInteractive',\n",
              "                                                     [key], {});\n",
              "          if (!dataTable) return;\n",
              "\n",
              "          const docLinkHtml = 'Like what you see? Visit the ' +\n",
              "            '<a target=\"_blank\" href=https://colab.research.google.com/notebooks/data_table.ipynb>data table notebook</a>'\n",
              "            + ' to learn more about interactive tables.';\n",
              "          element.innerHTML = '';\n",
              "          dataTable['output_type'] = 'display_data';\n",
              "          await google.colab.output.renderOutput(dataTable, element);\n",
              "          const docLink = document.createElement('div');\n",
              "          docLink.innerHTML = docLinkHtml;\n",
              "          element.appendChild(docLink);\n",
              "        }\n",
              "      </script>\n",
              "    </div>\n",
              "  </div>\n",
              "  "
            ]
          },
          "metadata": {},
          "execution_count": 6
        }
      ]
    },
    {
      "cell_type": "code",
      "source": [
        "df[['original', 'new_markup']].to_csv('new_c.txt', sep='\\t', index=False, header=False)"
      ],
      "metadata": {
        "id": "aJVGuBWxojIc"
      },
      "execution_count": null,
      "outputs": []
    },
    {
      "cell_type": "code",
      "source": [
        "def counter(text):\n",
        "    text = text.replace(\"\\n\", \" \")\n",
        "    text = text.replace(\",\", \"\").replace(\".\", \"\").replace(\"?\", \"\").replace(\"!\", \"\").replace(\"—\", \"\")\n",
        "    text = text.lower() \n",
        "    words = text.split() \n",
        "    return words "
      ],
      "metadata": {
        "id": "n_iH9mW2pCtQ"
      },
      "execution_count": null,
      "outputs": []
    },
    {
      "cell_type": "code",
      "source": [
        "nonrep_segments = list()\n",
        "for text in df['new_markup']:\n",
        "  words = text.split('/')\n",
        "  for word in words:\n",
        "    if word in nonrep_segments:\n",
        "      pass\n",
        "    else:\n",
        "      nonrep_segments.append(word)"
      ],
      "metadata": {
        "id": "f0szy3G-ZmSd"
      },
      "execution_count": null,
      "outputs": []
    },
    {
      "cell_type": "code",
      "source": [
        "nonrep_segments"
      ],
      "metadata": {
        "id": "i4HzEvFtap2e"
      },
      "execution_count": null,
      "outputs": []
    },
    {
      "cell_type": "code",
      "source": [
        "masseg = [0] * len(nonrep_segments) \n",
        "for i in range(len(nonrep_segments)): \n",
        "    masseg[i] = [0] * 2"
      ],
      "metadata": {
        "id": "3hdwb28TaxeQ"
      },
      "execution_count": null,
      "outputs": []
    },
    {
      "cell_type": "code",
      "source": [
        "for i in range(0, len(masseg)):\n",
        "  k = nonrep_segments[i]\n",
        "  masseg[i][0] = k\n",
        "  for text in df['new_markup']:\n",
        "    words = text.split('/')\n",
        "    for word in words: \n",
        "      if word == masseg[i][0]:\n",
        "        masseg[i][1] +=1\n",
        "print(masseg)"
      ],
      "metadata": {
        "colab": {
          "base_uri": "https://localhost:8080/"
        },
        "id": "EUR9sEQ2bB1q",
        "outputId": "c45b8cb4-9abf-4ba3-b96e-20481f145164"
      },
      "execution_count": null,
      "outputs": [
        {
          "output_type": "stream",
          "name": "stdout",
          "text": [
            "[['ac', 3], ['compani', 2], ['ed', 126], ['ment', 11], ['knowledg', 1], ['ing', 112], ['acquis', 2], ['ition', 3], ['s', 455], [\"'\", 111], ['acupuncture', 2], [\"'s\", 196], ['ad', 2], ['judg', 1], ['advant', 1], ['age', 11], ['ous', 8], ['ly', 46], ['a', 6], ['fire', 5], ['less', 11], ['ness', 28], ['air', 3], ['lock', 1], ['speed', 2], ['algeria', 1], ['algeri', 1], ['an', 10], ['alter', 2], ['alumni', 1], ['alumnus', 1], ['anti', 1], ['matter', 3], ['any', 2], ['how', 1], ['place', 4], ['part', 5], ['archa', 2], ['ism', 5], ['arch', 2], ['deacon', 2], ['archetyp', 1], ['al', 21], ['archetype', 1], ['archimandrite', 1], ['arrange', 2], ['astr', 1], ['onom', 2], ['er', 100], ['aureola', 1], ['back', 4], ['pedal', 1], ['bad', 2], ['-', 79], ['off', 3], ['ballet', 2], ['bane', 2], ['batiste', 2], ['bat', 3], ['men', 3], ['beach', 2], ['head', 7], ['wear', 3], ['bed', 3], ['sore', 1], ['bequeath', 2], ['berth', 2], ['best', 1], ['looking', 3], ['be', 2], ['stir', 1], ['bethel', 2], ['betray', 2], ['billi', 2], ['es', 57], ['bi', 3], ['ite', 4], ['blind', 1], ['bluster', 2], ['book', 3], ['shop', 4], ['boot', 2], ['lace', 2], ['bound', 2], ['ari', 4], ['bount', 1], ['eous', 2], ['bounti', 1], ['ful', 12], ['bread-and-butter', 1], ['brib', 1], ['ery', 4], ['bribe', 1], ['brush', 3], ['wood', 3], ['buckl', 1], ['buckle', 1], ['by', 2], ['pass', 2], ['cacao', 1], ['canker', 2], ['capitulat', 2], ['capsicum', 2], ['card', 3], ['cash', 1], ['ier', 2], ['caucus', 1], ['cauliflower', 2], ['cent', 2], ['centenari', 1], ['centr', 2], ['iz', 10], ['challeng', 2], ['chart', 2], ['cheek', 2], ['y', 12], ['chlorin', 1], ['ate', 7], ['chlorine', 1], ['chocolate', 1], ['choice', 1], ['choic', 1], ['est', 9], ['chok', 1], ['choke', 1], ['chronic', 2], ['ally', 5], ['class', 1], ['clean', 2], ['living', 2], ['clich', 1], ['cliche', 1], ['clothes', 1], ['horse', 3], ['coach', 3], ['coddle', 3], ['coffee', 2], ['cognac', 2], ['coin', 2], ['collect', 1], ['iv', 2], ['ation', 15], ['combust', 2], ['ible', 3], ['conclus', 1], ['ive', 8], ['concurr', 1], ['ence', 4], ['concur', 1], ['consul', 2], ['contin', 1], ['ent', 5], ['co', 3], ['pilot', 2], ['religion', 1], ['ist', 25], ['coterie', 2], ['countr', 1], ['ifi', 3], ['cover', 1], ['coxswain', 2], ['crikey', 1], ['cross', 3], ['country', 1], ['talk', 1], ['crud', 1], ['iti', 7], ['curator', 3], ['ship', 7], ['cusp', 2], ['dangle', 2], ['defect', 2], ['ion', 32], ['or', 17], ['de', 13], ['frost', 3], ['nud', 3], ['derogate', 1], ['derogat', 1], ['describe', 1], ['dice', 1], ['dic', 1], ['i', 17], ['dictat', 2], ['ial', 4], ['dinn', 1], ['serv', 4], ['ice', 3], ['dis', 12], ['agree', 2], ['discipline', 1], ['disciplin', 1], ['cov', 1], ['proportion', 2], ['regard', 2], ['similar', 2], ['taste', 2], ['distill', 2], ['do', 2], ['good', 1], ['donate', 1], ['donat', 1], ['double', 2], ['bass', 1], ['doubl', 1], ['dream', 1], ['duvet', 2], ['earth', 2], ['eating', 2], ['ec', 2], ['olog', 2], ['elder', 2], ['berri', 1], ['em', 3], ['balm', 1], ['embellish', 1], ['entreat', 2], ['expletive', 2], ['explor', 2], ['at', 11], ['ory', 2], ['ex', 2], ['temporan', 1], ['extens', 2], ['facet', 2], ['false', 1], ['hood', 2], ['fame', 2], ['fault', 3], ['fauna', 1], ['felicit', 2], ['fickle', 2], ['fin', 2], ['fistula', 2], ['flabbergast', 2], ['flat', 2], ['foot', 5], ['top', 1], ['flow', 3], ['folk', 2], ['dance', 1], ['lore', 2], ['follow', 1], ['on', 4], ['forbidden', 1], ['forbidd', 1], ['ford', 2], ['fore', 2], ['saw', 2], ['see', 2], ['for', 2], ['t', 2], ['night', 2], ['forward', 3], ['fountain', 3], ['four', 3], ['penny', 1], ['freak', 2], ['fresh', 2], ['fund', 4], ['furr', 3], ['gaiter', 2], ['gawp', 2], ['gibbon', 2], ['gibraltar', 2], ['ian', 5], ['gipsi', 2], ['gladd', 1], ['en', 6], ['glad', 2], ['goo', 2], ['graduate', 1], ['grasping', 1], ['grocer', 2], ['guard', 3], ['gum', 2], ['shoe', 3], ['halt', 2], ['ham', 2], ['hamm', 1], ['string', 3], ['hardest', 1], ['heart', 4], ['hard', 2], ['ware', 2], ['hatch', 1], ['eri', 1], ['have', 1], ['not', 2], ['hav', 1], ['heed', 2], ['holograph', 2], ['honduras', 2], ['hot', 2], ['house', 8], ['hurricane', 2], ['ill', 3], ['import', 3], ['inan', 2], ['ity', 8], ['in', 11], ['describ', 2], ['able', 9], ['industri', 1], ['industry', 1], ['infami', 1], ['fam', 1], ['influenc', 1], ['influent', 1], ['sensitiv', 1], ['tense', 1], ['inter', 4], ['nation', 2], ['iron', 2], ['ic', 14], ['ironi', 1], ['isolate', 1], ['isolat', 1], ['jazz', 2], ['jesuit', 1], ['ical', 5], ['jolli', 1], ['joll', 2], ['judge', 1], ['juvenile', 1], ['knee', 3], ['high', 1], ['cap', 4], ['knit', 1], ['lap', 2], ['launch', 3], ['lay', 2], ['about', 2], ['ledge', 2], ['left', 3], ['hand', 5], ['limit', 2], ['live', 2], ['li', 3], ['stock', 3], ['space', 2], ['glass', 1], ['lord', 2], ['lurid', 2], ['lust', 3], ['madeira', 2], ['man', 9], ['mane', 2], ['mantis', 2], ['marsh', 2], ['mast', 3], ['matrix', 2], ['measur', 1], ['ab', 2], ['meeting', 2], ['merit', 1], ['o', 3], ['craci', 1], ['middle', 2], ['dist', 2], ['ance', 5], ['mild', 2], ['mirth', 1], ['mizzen', 2], ['molly', 2], ['momma', 2], ['money', 2], ['grubb', 1], ['monogam', 1], ['mono', 1], ['phon', 2], ['morale', 2], ['motor', 4], ['ke', 2], ['ize', 12], ['mov', 2], ['muscov', 1], ['muscovy', 1], ['neck', 1], ['negat', 2], ['numismatic', 1], ['numismat', 1], ['stage', 3], ['oil', 2], ['rig', 2], ['one', 2], ['time', 3], ['orate', 1], ['orat', 1], ['out', 10], ['skirts', 1], ['stay', 2], ['oval', 2], ['over', 10], ['produce', 1], ['lapp', 2], ['own', 2], ['palat', 1], ['palate', 1], ['word', 1], ['past', 2], ['pastor', 2], ['per', 3], ['fume', 1], ['peri', 2], ['perma', 1], ['perman', 1], ['enci', 1], ['persuad', 1], ['suas', 2], ['plac', 1], ['pleas', 1], ['plectrum', 2], ['pol', 1], ['ar', 3], ['pontific', 2], ['poof', 2], ['poor', 2], ['popinjay', 1], ['post-mortem', 1], ['postmortem', 1], ['pott', 2], ['potter', 1], ['precept', 2], ['precipitate', 1], ['precipitat', 1], ['pre', 3], ['dispos', 2], ['pret', 1], ['ious', 1], ['pro', 1], ['prod', 1], ['prodd', 1], ['produc', 1], ['profess', 2], ['protest', 3], ['ant', 8], ['protract', 1], ['proviso', 2], ['prune', 3], ['pupa', 1], ['pup', 1], ['purr', 2], ['put', 2], ['putrefi', 2], ['putrefy', 1], ['radio', 2], ['act', 3], ['therap', 1], ['ramp', 1], ['rat-a-tat-tat', 1], ['re', 22], ['appear', 1], ['red', 1], ['reduce', 1], ['reduc', 1], ['refract', 2], ['regress', 2], ['regulat', 3], ['rein', 2], ['juven', 1], ['remorse', 3], ['remunerate', 1], ['remunerat', 1], ['press', 2], ['search', 2], ['seat', 2], ['un', 17], ['rigg', 1], ['right', 2], ['rock', 3], ['rococo', 1], ['rollick', 2], ['romant', 2], ['round', 3], ['up', 4], ['rowan', 1], ['berry', 1], ['rowdi', 2], ['sacrist', 2], ['salt', 2], ['sandal', 1], ['sang', 1], ['sax', 2], ['phone', 1], ['score', 3], ['board', 3], ['scor', 1], ['scribble', 1], ['scribbl', 1], ['sensitive', 1], ['serpent', 2], ['ine', 1], ['settle', 1], ['settl', 1], ['seven', 2], ['teen', 1], ['shanty', 1], ['town', 2], ['shay', 2], ['sheer', 2], ['shenanigan', 2], ['shogun', 2], ['show', 2], ['biz', 1], ['sicili', 2], ['sing', 1], ['sinking', 1], ['sip', 4], ['six', 1], ['th', 3], ['skirl', 1], ['smooch', 2], ['smooth', 1], ['snap', 1], ['snapp', 1], ['ish', 5], ['snob', 2], ['soda', 1], ['sod', 1], ['ium', 1], ['soft', 1], ['pedall', 1], ['spasmod', 1], ['spast', 1], ['sped', 1], ['standard', 2], ['stand', 3], ['stirr', 1], ['stodg', 1], ['straf', 1], ['strafe', 1], ['streak', 2], ['strung', 1], ['sub', 3], ['substanti', 1], ['sucrose', 1], ['suffuse', 2], ['suppos', 1], ['supposed', 1], ['surviv', 2], ['suture', 2], ['swede', 2], ['sybar', 1], ['it', 2], ['symbol', 2], ['talking', 1], ['point', 3], ['tangle', 1], ['tape', 2], ['measure', 1], ['tartar', 2], ['test', 4], ['drive', 1], ['therapi', 1], ['timbre', 2], ['toe', 3], ['toll', 2], ['gate', 3], ['tot', 2], ['totem', 2], ['pole', 2], ['women', 1], ['train', 3], ['training', 1], ['transient', 2], ['treat', 1], ['trespass', 2], ['tri', 2], ['trivial', 2], ['try', 2], ['turn', 3], ['turning', 1], ['tusk', 2], ['tut', 1], ['tutt', 1], ['twentie', 1], ['twenty', 1], ['under', 7], ['grad', 2], ['tak', 2], ['done', 1], ['offic', 1], ['placed', 1], ['seem', 2], ['tangl', 1], ['vanquish', 2], ['vast', 2], ['venezuela', 1], ['venezuel', 1], ['vict', 1], ['ori', 1], ['victor', 1], ['video', 1], ['vile', 1], ['vil', 1], ['visa', 2], ['wak', 1], ['wari', 1], ['war', 1], ['like', 2], ['warm', 3], ['wary', 1], ['wash', 2], ['woman', 3], ['weari', 1], ['wedg', 2], ['white', 2], ['work', 8], ['world', 1], ['weary', 1], ['worse', 1], ['wors', 1], ['year', 3], ['yeast', 2], ['ablative', 1], ['abound', 1], ['abrogate', 1], ['us', 1], ['accent', 1], ['accord', 1], ['r', 1], ['ess', 1], ['adder', 1], ['adult', 1], ['advers', 1], ['aegis', 1], ['aesthete', 1], ['ag', 2], ['grand', 1], ['agronomy', 1], ['aides-memoire', 1], ['aim', 1], ['line', 3], ['alarm', 1], ['alchem', 1], ['long', 3], ['side', 2], ['amalgam', 1], ['ame', 1], ['ameliorate', 1], ['amhara', 1], ['amnesia', 1], ['ampere', 1], ['anal', 1], ['yst', 1], ['anarch', 1], ['anatomy', 1], ['andante', 1], ['angelica', 1], ['animat', 1], ['anorexia', 1], ['antenna', 1], ['anthrop', 1], ['append', 1], ['arbitr', 1], ['arbitrat', 1], ['way', 5], ['arm', 1], ['our', 1], ['clad', 2], ['ass', 1], ['asset', 1], ['atom', 1], ['attend', 1], ['attenuat', 1], ['attitude', 1], ['attorn', 1], ['ey', 1], ['augment', 1], ['author', 1], ['babel', 1], ['babu', 1], ['baccalaureate', 1], ['bench', 1], ['bag', 1], ['pipe', 1], ['bail', 1], ['band', 2], ['banquet', 1], ['banshee', 1], ['bashful', 1], ['battery', 1], ['bay', 1], ['bear', 2], ['bearing', 1], ['skin', 2], ['beating', 1], ['beaut', 1], ['ician', 1], ['get', 1], ['beginn', 1], ['behave', 1], ['beheld', 1], ['benefactor', 1], ['biceps', 1], ['lingual', 1], ['bit', 1], ['bite', 1], ['blabb', 1], ['blimp', 1], ['blink', 2], ['bock', 1], ['bolshev', 1], ['bond', 1], ['hold', 3], ['bonni', 1], ['boogie', 1], ['bounc', 1], ['bourse', 1], ['bowel', 1], ['bowl', 1], ['bow', 2], ['braggadocio', 1], ['bravura', 1], ['bread', 1], ['winn', 2], ['break', 1], ['fast', 2], ['breath', 1], ['breech', 1], ['bring', 1], ['brisk', 1], ['broad', 1], ['mind', 4], ['buffalo', 1], ['buffet', 2], ['building', 1], ['bulk', 1], ['bull', 2], ['doz', 1], ['shit', 1], ['bump', 1], ['bungle', 1], ['bunk', 1], ['busi', 1], ['cabal', 1], ['cable', 1], ['caddie', 1], ['carcino', 1], ['gen', 1], ['cardinal', 2], ['caricatur', 1], ['carpetbagger', 1], ['carri', 2], ['carton', 1], ['castrate', 1], ['casual', 1], [\"cat-o'-nine-tails\", 1], ['catastrophe', 1], ['catechism', 1], ['cathode', 1], ['cease', 1], ['celery', 1], ['centuri', 1], ['cereal', 1], ['cerebrum', 1], ['chain', 2], ['gang', 2], ['chair', 1], ['chancellor', 1], ['chaperon', 1], ['charg', 1], ['chase', 1], ['chauvinism', 1], ['cheer', 2], ['chestnut', 1], ['chigger', 1], ['chivi', 1], ['citron', 1], ['claw', 1], ['clay', 1], ['cut', 1], ['clew', 1], ['climax', 1], ['op', 1], ['coda', 1], ['codeine', 1], ['cognate', 1], ['coincid', 1], ['col', 1], ['lapse', 1], ['com', 1], ['mingle', 1], ['commun', 1], ['compensat', 1], ['complet', 1], ['compliment', 1], ['compos', 1], ['compromise', 1], ['comput', 1], ['conceit', 1], ['concess', 1], ['conciliat', 2], ['concord', 1], ['conferr', 1], ['confine', 1], ['confiscat', 1], ['conflat', 1], ['con', 1], ['form', 1], ['confus', 1], ['congress', 1], ['conserv', 1], ['contempt', 1], ['conting', 1], ['ency', 4], ['control', 1], ['convers', 1], ['convert', 1], ['convict', 1], ['coolie', 1], ['corinth', 1], ['corner', 1], ['corn', 1], ['starch', 1], ['corrall', 1], ['corroborat', 1], ['corsage', 1], ['corvette', 1], ['cote', 1], ['counterfeit', 1], ['covet', 1], ['cramp', 1], ['crayon', 1], ['creat', 1], ['cremat', 1], ['oria', 1], ['cri', 1], ['crimin', 2], ['crocodile', 1], ['crooked', 1], ['index', 1], ['crossing', 1], ['crow', 1], ['cul-de-sac', 1], ['culprit', 1], ['cult', 1], ['curs', 1], ['cuticle', 1], ['cyclops', 1], ['dadd', 1], ['daguerreotype', 1], ['daiquiri', 1], ['dandi', 1], ['dandl', 1], ['danny', 1], ['date', 1], ['debas', 1], ['brief', 1], ['december', 1], ['dec', 1], ['cipher', 1], ['claim', 1], ['clam', 1], ['declar', 1], ['dedicat', 1], ['defeat', 1], ['defend', 1], ['human', 1], ['delud', 1], ['moral', 1], ['deplor', 1], ['deput', 1], ['derv', 1], ['design', 1], ['detract', 1], ['valu', 1], ['devi', 1], ['anci', 1], ['differ', 1], ['dik', 1], ['diplomat', 1], ['order', 2], ['orient', 1], ['passion', 1], ['dissolute', 1], ['divorc', 1], ['ee', 1], ['domestic', 1], ['dominat', 1], ['clutch', 1], ['dressing', 2], ['drip', 1], ['drum', 1], ['drunk', 1], ['dubbin', 1], ['dude', 1], ['duell', 1], ['dump', 1], ['duti', 1], ['dynamic', 1], ['ear', 1], ['plug', 1], ['eaves', 1], ['eel', 2], ['egot', 1], ['elect', 1], ['eer', 1], ['elevat', 1], ['elite', 1], ['boss', 1], ['end', 1], ['entitle', 1], ['entitl', 1], ['equal', 1], ['equerry', 1], ['equipp', 1], ['eschew', 1], ['espouse', 1], ['estimat', 1], ['ewer', 1], ['exculpat', 1], ['exit', 1], ['exorbit', 1], ['express', 1], ['extreme', 1], ['fair', 1], ['fairy', 1], ['land', 1], ['fanci', 1], ['farm', 1], ['fawn', 1], ['feast', 1], ['fence', 1], ['ferment', 1], ['field', 1], ['fig', 1], ['leaf', 1], ['film', 1], ['final', 1], ['eat', 1], ['power', 2], ['proof', 1], ['storm', 1], ['fizz', 1], ['l', 2], ['flambeau', 1], ['fled', 1], ['flirt', 1], ['flitt', 1], ['floe', 1], ['fluff', 1], ['fluid', 1], ['flurri', 1], ['fall', 1], ['fopp', 1], ['post', 1], ['wheel', 1], ['freight', 1], ['frisian', 1], ['frivol', 1], ['frivolous', 1], ['frolic', 1], ['some', 1], ['frown', 1], ['frugal', 1], ['further', 1], ['galley', 1], ['game', 1], ['cock', 2], ['garbage', 1], ['can', 1], ['gas', 2], ['ify', 1], ['light', 1], ['crash', 1], ['geese', 1], ['gelding', 1], ['german', 1], ['giant', 1], ['giraffe', 1], ['giv', 1], ['gladiator', 1], ['glide', 1], ['glower', 1], ['glow', 1], ['god', 1], ['parent', 1], ['gor', 1], ['gourmand', 1], ['gran', 1], ['dad', 1], ['graph', 2], ['griffon', 1], ['gross', 1], ['grow', 1], ['gull', 1], ['habitue', 1], ['hagiographi', 1], ['halo', 1], ['hamlet', 1], ['maid', 1], ['pick', 1], ['hap', 1], ['harbour', 1], ['harridan', 1], ['lamp', 1], ['heal', 1], ['heap', 1], ['broken', 1], ['burn', 1], ['heav', 1], ['hebra', 1], ['help', 1], ['hemisphere', 1], ['heron', 1], ['hesse', 1], ['hew', 1], ['hi', 1], ['fi', 1], ['hitch', 2], ['hik', 1], ['hoar', 1], ['home', 1], ['homogenize', 1], ['hook', 4], ['worm', 1], ['horrid', 1], ['horr', 1], ['if', 1], ['keeping', 1], ['hugg', 1], ['hydroponic', 1], ['hydro', 1], ['therapy', 1], ['hyperbol', 1], ['idem', 1], ['idol', 1], ['ignomini', 1], ['omen', 1], ['im', 3], ['mutab', 1], ['person', 1], ['ponder', 1], ['impregnable', 1], ['improvis', 1], ['accurate', 1], ['incipient', 1], ['incumb', 1], ['digniti', 1], ['felic', 1], ['infidel', 1], ['infinitive', 1], ['ingot', 1], ['ingredient', 1], ['instigat', 1], ['institut', 1], ['insulat', 1], ['sure', 2], ['chang', 1], ['medi', 1], ['ary', 1], ['pos', 3], ['intimat', 1], ['inundate', 1], ['valid', 1], ['violate', 1], ['irony', 1], ['jarr', 1], ['jell-o', 1], ['jogg', 1], ['join', 1], ['jok', 1], ['ific', 2], ['joy', 1], ['junction', 1], ['jungle', 1], ['junk', 1], ['katydid', 1], ['keel', 1], ['haul', 1], ['khan', 1], ['kidd', 1], ['kid', 1], ['kip', 1], ['kirk', 1], ['kitchen', 1], ['ette', 2], ['knead', 1], ['knesset', 1], ['knife', 1], ['knock', 1], ['knuckle', 1], ['koran', 1], ['laboratori', 1], ['lachrymose', 1], ['lady', 1], ['bug', 1], ['wing', 1], ['larv', 1], ['lega', 1], ['ci', 1], ['legg', 1], ['libb', 1], ['liberal', 1], ['lick', 1], ['life', 1], ['boat', 2], ['linden', 1], ['linguist', 1], ['liquefy', 1], ['litigate', 1], ['loft', 1], ['loon', 1], ['lotus', 1], ['louvr', 1], ['louvre', 1], ['low', 1], ['key', 1], ['luck', 1], ['lurch', 1], ['lye', 1], ['machismo', 1], ['magistrate', 1], ['mal', 1], ['nutrition', 1], ['malt', 1], ['ster', 1], ['malversation', 1], ['mandate', 1], ['mangl', 1], ['manicure', 1], ['manicur', 1], ['mantel', 1], ['maroon', 2], ['mascot', 1], ['mathematic', 1], ['matriarch', 1], ['maxi', 1], ['meadow', 1], ['meditate', 1], ['mediterranean', 1], ['memento', 1], ['menac', 1], ['mere', 1], ['method', 1], ['mid', 1], ['summer', 1], ['migraine', 1], ['militia', 1], ['read', 1], ['ministr', 1], ['mis', 5], ['appropriate', 1], ['fit', 1], ['giving', 2], ['led', 1], ['understand', 1], ['mitigate', 1], ['mitt', 1], ['mixt', 1], ['ure', 1], ['modell', 1], ['modific', 1], ['moist', 1], ['mood', 1], ['moo', 1], ['morn', 1], ['mosque', 1], ['mural', 1], ['mush', 1], ['muss', 1], ['muzzle', 1], ['muzzl', 1], ['narrow', 1], ['nasal', 1], ['nature', 1], ['navi', 1], ['needle', 1], ['negotiat', 1], ['neighbour', 1], ['net', 1], ['nick', 1], ['nihil', 2], ['ninni', 1], ['nipple', 1], ['nobbl', 1], ['noble', 1], ['non-profit-making', 1], ['nostalgia', 1], ['nourish', 1], ['nuisance', 1], ['number', 1], ['plate', 1], ['numer', 1], ['num', 1], ['skull', 1], ['nut', 1], ['oak', 1], ['oboe', 1], ['office', 1], ['omnivorous', 1], ['opin', 1], ['oppress', 1], ['orb', 1], ['ordain', 1], ['come', 1], ['law', 1], ['balanc', 1], ['burden', 1], ['throw', 2], ['pal', 1], ['pamphlet', 1], ['pan', 1], ['handl', 1], ['pantheon', 1], ['paprika', 1], ['paragon', 1], ['parasol', 1], ['park', 1], ['parliament', 1], ['patriot', 1], ['pea', 1], ['peel', 1], ['pegg', 1], ['pellet', 1], ['penetrate', 1], ['pension', 1], ['percept', 1], ['ib', 1], ['perch', 1], ['perforat', 1], ['persona', 1], ['pervad', 1], ['pest', 1], ['phaeton', 1], ['phi', 1], ['photo', 3], ['copi', 1], ['gravure', 1], ['phrenolog', 1], ['physiognomy', 1], ['pianola', 1], ['piano', 1], ['picket', 1], ['pieta', 1], ['pig', 1], ['let', 1], ['pink', 1], ['pith', 1], ['pizza', 1], ['plaice', 1], ['plaid', 1], ['pled', 1], ['plenitude', 1], ['plight', 1], ['plopp', 1], ['pluck', 1], ['plumb', 1], ['plush', 1], ['polling', 1], ['booth', 1], ['poop', 1], ['poppy', 1], ['porn', 1], ['praise', 1], ['precarious', 1], ['precede', 1], ['predict', 2], ['prefect', 1], ['premise', 1], ['pack', 1], ['prepar', 1], ['pres', 1], ['ur', 1], ['prevaricat', 1], ['prevent', 1], ['prim', 1], ['prize', 1], ['fight', 1], ['probabil', 1], ['profan', 1], ['prognoses', 1], ['project', 1], ['propagat', 1], ['prophesy', 1], ['prop', 1], ['jet', 1], ['prorog', 1], ['proselyt', 1], ['proud', 1], ['provoking', 1], ['psyche', 1], ['psychiatr', 1], ['puce', 1], ['pugnac', 1], ['pull', 1], ['pullman', 1], ['puls', 1], ['punch', 1], ['punic', 1], ['punish', 1], ['pun', 1], ['pur', 1], ['purport', 1], ['push', 1], ['quake', 1], ['quango', 1], ['quas', 1], ['quiet', 1], ['quinine', 1], ['quixote', 1], ['rack', 1], ['rail', 2], ['car', 1], ['raisin', 1], ['rational', 2], ['ravine', 1], ['align', 1], ['real', 1], ['ty', 1], ['bind', 1], ['build', 1], ['commend', 1], ['count', 1], ['recrudesc', 1], ['rectangle', 1], ['dress', 1], ['reek', 1], ['face', 1], ['referendum', 1], ['regalia', 1], ['region', 1], ['relic', 1], ['rent', 1], ['repatriat', 1], ['repeal', 1], ['repell', 1], ['republic', 1], ['run', 1], ['reserv', 1], ['shuffl', 1], ['resist', 1], ['reson', 1], ['respect', 1], ['respons', 1], ['ibil', 1], ['took', 1], ['revel', 1], ['revere', 1], ['revert', 1], ['reviv', 1], ['revok', 1], ['revolt', 1], ['ribald', 2], ['ry', 1], ['rigid', 1], ['rising', 1], ['road', 1], ['robin', 1], ['rodeo', 1], ['rod', 1], ['roll', 1], ['rom', 1], ['rough', 1], ['rous', 1], ['ruffle', 1], ['ruin', 1], ['rum', 1], ['ruminat', 1], ['rumpl', 1], ['sabah', 1], ['sackbut', 1], ['safe', 1], ['salad', 1], ['sale', 2], ['room', 2], ['sales', 1], ['clerk', 1], ['salon', 1], ['salvo', 1], ['sampl', 1], ['sanitaria', 1], ['saturn', 1], ['saxon', 1], ['scallop', 1], ['scant', 1], ['sceptic', 1], ['schedule', 1], ['schnitzel', 1], ['schol', 1], ['school', 2], ['girl', 1], ['mistress', 1], ['scullion', 1], ['se', 1], ['sea', 3], ['legs', 1], ['lion', 1], ['borne', 1], ['season', 1], ['seasoning', 1], ['secretari', 1], ['seize', 1], ['self', 1], ['will', 1], ['september', 1], ['sequel', 1], ['seri', 2], ['seychellois', 1], ['sforzandi', 1], ['shallow', 1], ['shank', 1], ['sheila', 1], ['lift', 2], ['short', 1], ['circuit', 1], ['shower', 1], ['swipe', 1], ['siding', 1], ['silent', 1], ['silo', 1], ['simulate', 1], ['sin', 1], ['ski', 1], ['skimmed', 1], ['milk', 1], ['skulk', 1], ['slack', 1], ['sleazy', 1], ['slice', 1], ['slick', 1], ['slott', 1], ['slough', 1], ['sniff', 1], ['snook', 1], ['soap', 1], ['sol', 1], ['ution', 1], ['sopp', 1], ['sou', 1], ['speak', 1], ['speculat', 1], ['splash', 1], ['spread', 2], ['squeak', 2], ['squint', 2], ['stable', 1], ['whisper', 2], ['stalwart', 1], ['starkers', 1], ['state', 1], ['station', 1], ['statue', 1], ['statu', 1], ['steam', 1], ['steril', 1], ['sterna', 1], ['steward', 1], ['stint', 1], ['store', 1], ['strangul', 1], ['stream', 1], ['strode', 1], ['stroll', 1], ['sturdy', 1], ['sequent', 1], ['urban', 1], ['suffici', 1], ['suffix', 1], ['sulph', 1], ['ide', 1], ['summari', 1], ['summar', 1], ['sun', 2], ['roof', 1], ['surgeon', 1], ['surli', 1], ['sweet', 1], ['switch', 1], ['taboo', 1], ['tackle', 1], ['tally', 1], ['tamp', 1], ['tangible', 1], ['tang', 1], ['tarry', 1], ['tast', 1], ['tatt', 1], ['tattl', 1], ['taunt', 1], ['taxi', 1], ['teasel', 1], ['ted', 1], ['tele', 1], ['temper', 1], ['temporiz', 1], ['tempt', 1], ['tenable', 1], ['tenor', 1], ['terr', 1], ['tete-a-tete', 1], ['thanks', 1], ['them', 1], ['atic', 1], ['theodolite', 1], ['thresh', 1], ['tie', 1], ['timpan', 1], ['tired', 1], ['toil', 1], ['tomato', 1], ['tooth', 2], ['ache', 1], ['topaz', 1], ['tornado', 1], ['torpedo', 1], ['tortur', 1], ['tournament', 1], ['tout', 1], ['tow', 1], ['to', 1], ['ward', 2], ['towell', 1], ['tract', 1], ['traffick', 1], ['tramp', 1], ['le', 1], ['transcend', 1], ['transmogrific', 1], ['trash', 1], ['treasure', 1], ['trellis', 1], ['trend', 1], ['trestle', 1], ['table', 1], ['triad', 1], ['tribun', 1], ['triplex', 1], ['triumvir', 1], ['truce', 1], ['truck', 1], ['trump', 1], ['et', 1], ['tug', 1], ['tureen', 1], ['coat', 2], ['twang', 1], ['twin', 1], ['twine', 1], ['twit', 1], ['two', 2], ['ply', 1], ['abridged', 1], ['adopted', 1], ['undertaking', 1], ['undies', 1], ['equivocal', 1], ['heard', 1], ['reserved', 1], ['seeing', 1], ['stairs', 1], ['urchin', 1], ['vacillat', 1], ['vassal', 1], ['vaudeville', 1], ['ventriloqu', 1], ['venue', 1], ['vers', 1], ['vice', 1], ['regal', 1], ['vicuna', 1], ['vine', 1], ['yard', 1], ['volunteer', 1], ['vote', 1], ['vouch', 1], ['saf', 1], ['vulgar', 1], ['waist', 2], ['walk', 1], ['want', 1], ['watch', 1], ['water', 1], ['course', 1], ['wax', 1], ['welsh', 1], ['whin', 1], ['whipp', 1], ['whoop', 1], ['wilton', 1], ['winc', 1], ['wipe', 1], ['wis', 1], ['dom', 1], ['with', 1], ['wit', 1], ['witness', 1], ['womb', 1], ['worship', 1], ['worshipp', 1], ['wreak', 1], ['yeti', 1], ['yowl', 1], ['zany', 1], ['zenith', 1], ['zodiac', 1], ['zombie', 1]]\n"
          ]
        }
      ]
    },
    {
      "cell_type": "code",
      "source": [
        "len(masseg)"
      ],
      "metadata": {
        "colab": {
          "base_uri": "https://localhost:8080/"
        },
        "id": "N44xt89gbjhx",
        "outputId": "2a484e77-3cd7-4c3f-d3d0-7845a3b46fcc"
      },
      "execution_count": null,
      "outputs": [
        {
          "output_type": "execute_result",
          "data": {
            "text/plain": [
              "963"
            ]
          },
          "metadata": {},
          "execution_count": 12
        }
      ]
    },
    {
      "cell_type": "code",
      "source": [
        "for l in range(0, len(masseg)):\n",
        "  for m in range(0, len(masseg)-1):\n",
        "    if masseg[m][1] > masseg[m + 1][1]:\n",
        "      t =  masseg[m]\n",
        "      masseg[m] = masseg[m + 1]\n",
        "      masseg[m + 1] = t\n",
        "print(masseg)"
      ],
      "metadata": {
        "colab": {
          "base_uri": "https://localhost:8080/"
        },
        "id": "ouwj3QKFbnhG",
        "outputId": "09993c41-6e9c-44db-f9df-1785f010a049"
      },
      "execution_count": null,
      "outputs": [
        {
          "output_type": "stream",
          "name": "stdout",
          "text": [
            "[['knowledg', 1], ['judg', 1], ['advant', 1], ['lock', 1], ['algeria', 1], ['algeri', 1], ['alumni', 1], ['alumnus', 1], ['anti', 1], ['how', 1], ['archetyp', 1], ['archetype', 1], ['archimandrite', 1], ['astr', 1], ['aureola', 1], ['pedal', 1], ['sore', 1], ['best', 1], ['stir', 1], ['blind', 1], ['bount', 1], ['bounti', 1], ['bread-and-butter', 1], ['brib', 1], ['bribe', 1], ['buckl', 1], ['buckle', 1], ['cacao', 1], ['cash', 1], ['caucus', 1], ['centenari', 1], ['chlorin', 1], ['chlorine', 1], ['chocolate', 1], ['choice', 1], ['choic', 1], ['chok', 1], ['choke', 1], ['class', 1], ['clich', 1], ['cliche', 1], ['clothes', 1], ['collect', 1], ['conclus', 1], ['concurr', 1], ['concur', 1], ['contin', 1], ['religion', 1], ['countr', 1], ['cover', 1], ['crikey', 1], ['country', 1], ['talk', 1], ['crud', 1], ['derogate', 1], ['derogat', 1], ['describe', 1], ['dice', 1], ['dic', 1], ['dinn', 1], ['discipline', 1], ['disciplin', 1], ['cov', 1], ['good', 1], ['donate', 1], ['donat', 1], ['bass', 1], ['doubl', 1], ['dream', 1], ['berri', 1], ['balm', 1], ['embellish', 1], ['temporan', 1], ['false', 1], ['fauna', 1], ['top', 1], ['dance', 1], ['follow', 1], ['forbidden', 1], ['forbidd', 1], ['penny', 1], ['gladd', 1], ['graduate', 1], ['grasping', 1], ['hamm', 1], ['hardest', 1], ['hatch', 1], ['eri', 1], ['have', 1], ['hav', 1], ['industri', 1], ['industry', 1], ['infami', 1], ['fam', 1], ['influenc', 1], ['influent', 1], ['sensitiv', 1], ['tense', 1], ['ironi', 1], ['isolate', 1], ['isolat', 1], ['jesuit', 1], ['jolli', 1], ['judge', 1], ['juvenile', 1], ['high', 1], ['knit', 1], ['glass', 1], ['measur', 1], ['merit', 1], ['craci', 1], ['mirth', 1], ['grubb', 1], ['monogam', 1], ['mono', 1], ['muscov', 1], ['muscovy', 1], ['neck', 1], ['numismatic', 1], ['numismat', 1], ['orate', 1], ['orat', 1], ['skirts', 1], ['produce', 1], ['palat', 1], ['palate', 1], ['word', 1], ['fume', 1], ['perma', 1], ['perman', 1], ['enci', 1], ['persuad', 1], ['plac', 1], ['pleas', 1], ['pol', 1], ['popinjay', 1], ['post-mortem', 1], ['postmortem', 1], ['potter', 1], ['precipitate', 1], ['precipitat', 1], ['pret', 1], ['ious', 1], ['pro', 1], ['prod', 1], ['prodd', 1], ['produc', 1], ['protract', 1], ['pupa', 1], ['pup', 1], ['putrefy', 1], ['therap', 1], ['ramp', 1], ['rat-a-tat-tat', 1], ['appear', 1], ['red', 1], ['reduce', 1], ['reduc', 1], ['juven', 1], ['remunerate', 1], ['remunerat', 1], ['rigg', 1], ['rococo', 1], ['rowan', 1], ['berry', 1], ['sandal', 1], ['sang', 1], ['phone', 1], ['scor', 1], ['scribble', 1], ['scribbl', 1], ['sensitive', 1], ['ine', 1], ['settle', 1], ['settl', 1], ['teen', 1], ['shanty', 1], ['biz', 1], ['sing', 1], ['sinking', 1], ['six', 1], ['skirl', 1], ['smooth', 1], ['snap', 1], ['snapp', 1], ['soda', 1], ['sod', 1], ['ium', 1], ['soft', 1], ['pedall', 1], ['spasmod', 1], ['spast', 1], ['sped', 1], ['stirr', 1], ['stodg', 1], ['straf', 1], ['strafe', 1], ['strung', 1], ['substanti', 1], ['sucrose', 1], ['suppos', 1], ['supposed', 1], ['sybar', 1], ['talking', 1], ['tangle', 1], ['measure', 1], ['drive', 1], ['therapi', 1], ['women', 1], ['training', 1], ['treat', 1], ['turning', 1], ['tut', 1], ['tutt', 1], ['twentie', 1], ['twenty', 1], ['done', 1], ['offic', 1], ['placed', 1], ['tangl', 1], ['venezuela', 1], ['venezuel', 1], ['vict', 1], ['ori', 1], ['victor', 1], ['video', 1], ['vile', 1], ['vil', 1], ['wak', 1], ['wari', 1], ['war', 1], ['wary', 1], ['weari', 1], ['world', 1], ['weary', 1], ['worse', 1], ['wors', 1], ['ablative', 1], ['abound', 1], ['abrogate', 1], ['us', 1], ['accent', 1], ['accord', 1], ['r', 1], ['ess', 1], ['adder', 1], ['adult', 1], ['advers', 1], ['aegis', 1], ['aesthete', 1], ['grand', 1], ['agronomy', 1], ['aides-memoire', 1], ['aim', 1], ['alarm', 1], ['alchem', 1], ['amalgam', 1], ['ame', 1], ['ameliorate', 1], ['amhara', 1], ['amnesia', 1], ['ampere', 1], ['anal', 1], ['yst', 1], ['anarch', 1], ['anatomy', 1], ['andante', 1], ['angelica', 1], ['animat', 1], ['anorexia', 1], ['antenna', 1], ['anthrop', 1], ['append', 1], ['arbitr', 1], ['arbitrat', 1], ['arm', 1], ['our', 1], ['ass', 1], ['asset', 1], ['atom', 1], ['attend', 1], ['attenuat', 1], ['attitude', 1], ['attorn', 1], ['ey', 1], ['augment', 1], ['author', 1], ['babel', 1], ['babu', 1], ['baccalaureate', 1], ['bench', 1], ['bag', 1], ['pipe', 1], ['bail', 1], ['banquet', 1], ['banshee', 1], ['bashful', 1], ['battery', 1], ['bay', 1], ['bearing', 1], ['beating', 1], ['beaut', 1], ['ician', 1], ['get', 1], ['beginn', 1], ['behave', 1], ['beheld', 1], ['benefactor', 1], ['biceps', 1], ['lingual', 1], ['bit', 1], ['bite', 1], ['blabb', 1], ['blimp', 1], ['bock', 1], ['bolshev', 1], ['bond', 1], ['bonni', 1], ['boogie', 1], ['bounc', 1], ['bourse', 1], ['bowel', 1], ['bowl', 1], ['braggadocio', 1], ['bravura', 1], ['bread', 1], ['break', 1], ['breath', 1], ['breech', 1], ['bring', 1], ['brisk', 1], ['broad', 1], ['buffalo', 1], ['building', 1], ['bulk', 1], ['doz', 1], ['shit', 1], ['bump', 1], ['bungle', 1], ['bunk', 1], ['busi', 1], ['cabal', 1], ['cable', 1], ['caddie', 1], ['carcino', 1], ['gen', 1], ['caricatur', 1], ['carpetbagger', 1], ['carton', 1], ['castrate', 1], ['casual', 1], [\"cat-o'-nine-tails\", 1], ['catastrophe', 1], ['catechism', 1], ['cathode', 1], ['cease', 1], ['celery', 1], ['centuri', 1], ['cereal', 1], ['cerebrum', 1], ['chair', 1], ['chancellor', 1], ['chaperon', 1], ['charg', 1], ['chase', 1], ['chauvinism', 1], ['chestnut', 1], ['chigger', 1], ['chivi', 1], ['citron', 1], ['claw', 1], ['clay', 1], ['cut', 1], ['clew', 1], ['climax', 1], ['op', 1], ['coda', 1], ['codeine', 1], ['cognate', 1], ['coincid', 1], ['col', 1], ['lapse', 1], ['com', 1], ['mingle', 1], ['commun', 1], ['compensat', 1], ['complet', 1], ['compliment', 1], ['compos', 1], ['compromise', 1], ['comput', 1], ['conceit', 1], ['concess', 1], ['concord', 1], ['conferr', 1], ['confine', 1], ['confiscat', 1], ['conflat', 1], ['con', 1], ['form', 1], ['confus', 1], ['congress', 1], ['conserv', 1], ['contempt', 1], ['conting', 1], ['control', 1], ['convers', 1], ['convert', 1], ['convict', 1], ['coolie', 1], ['corinth', 1], ['corner', 1], ['corn', 1], ['starch', 1], ['corrall', 1], ['corroborat', 1], ['corsage', 1], ['corvette', 1], ['cote', 1], ['counterfeit', 1], ['covet', 1], ['cramp', 1], ['crayon', 1], ['creat', 1], ['cremat', 1], ['oria', 1], ['cri', 1], ['crocodile', 1], ['crooked', 1], ['index', 1], ['crossing', 1], ['crow', 1], ['cul-de-sac', 1], ['culprit', 1], ['cult', 1], ['curs', 1], ['cuticle', 1], ['cyclops', 1], ['dadd', 1], ['daguerreotype', 1], ['daiquiri', 1], ['dandi', 1], ['dandl', 1], ['danny', 1], ['date', 1], ['debas', 1], ['brief', 1], ['december', 1], ['dec', 1], ['cipher', 1], ['claim', 1], ['clam', 1], ['declar', 1], ['dedicat', 1], ['defeat', 1], ['defend', 1], ['human', 1], ['delud', 1], ['moral', 1], ['deplor', 1], ['deput', 1], ['derv', 1], ['design', 1], ['detract', 1], ['valu', 1], ['devi', 1], ['anci', 1], ['differ', 1], ['dik', 1], ['diplomat', 1], ['orient', 1], ['passion', 1], ['dissolute', 1], ['divorc', 1], ['ee', 1], ['domestic', 1], ['dominat', 1], ['clutch', 1], ['drip', 1], ['drum', 1], ['drunk', 1], ['dubbin', 1], ['dude', 1], ['duell', 1], ['dump', 1], ['duti', 1], ['dynamic', 1], ['ear', 1], ['plug', 1], ['eaves', 1], ['egot', 1], ['elect', 1], ['eer', 1], ['elevat', 1], ['elite', 1], ['boss', 1], ['end', 1], ['entitle', 1], ['entitl', 1], ['equal', 1], ['equerry', 1], ['equipp', 1], ['eschew', 1], ['espouse', 1], ['estimat', 1], ['ewer', 1], ['exculpat', 1], ['exit', 1], ['exorbit', 1], ['express', 1], ['extreme', 1], ['fair', 1], ['fairy', 1], ['land', 1], ['fanci', 1], ['farm', 1], ['fawn', 1], ['feast', 1], ['fence', 1], ['ferment', 1], ['field', 1], ['fig', 1], ['leaf', 1], ['film', 1], ['final', 1], ['eat', 1], ['proof', 1], ['storm', 1], ['fizz', 1], ['flambeau', 1], ['fled', 1], ['flirt', 1], ['flitt', 1], ['floe', 1], ['fluff', 1], ['fluid', 1], ['flurri', 1], ['fall', 1], ['fopp', 1], ['post', 1], ['wheel', 1], ['freight', 1], ['frisian', 1], ['frivol', 1], ['frivolous', 1], ['frolic', 1], ['some', 1], ['frown', 1], ['frugal', 1], ['further', 1], ['galley', 1], ['game', 1], ['garbage', 1], ['can', 1], ['ify', 1], ['light', 1], ['crash', 1], ['geese', 1], ['gelding', 1], ['german', 1], ['giant', 1], ['giraffe', 1], ['giv', 1], ['gladiator', 1], ['glide', 1], ['glower', 1], ['glow', 1], ['god', 1], ['parent', 1], ['gor', 1], ['gourmand', 1], ['gran', 1], ['dad', 1], ['griffon', 1], ['gross', 1], ['grow', 1], ['gull', 1], ['habitue', 1], ['hagiographi', 1], ['halo', 1], ['hamlet', 1], ['maid', 1], ['pick', 1], ['hap', 1], ['harbour', 1], ['harridan', 1], ['lamp', 1], ['heal', 1], ['heap', 1], ['broken', 1], ['burn', 1], ['heav', 1], ['hebra', 1], ['help', 1], ['hemisphere', 1], ['heron', 1], ['hesse', 1], ['hew', 1], ['hi', 1], ['fi', 1], ['hik', 1], ['hoar', 1], ['home', 1], ['homogenize', 1], ['worm', 1], ['horrid', 1], ['horr', 1], ['if', 1], ['keeping', 1], ['hugg', 1], ['hydroponic', 1], ['hydro', 1], ['therapy', 1], ['hyperbol', 1], ['idem', 1], ['idol', 1], ['ignomini', 1], ['omen', 1], ['mutab', 1], ['person', 1], ['ponder', 1], ['impregnable', 1], ['improvis', 1], ['accurate', 1], ['incipient', 1], ['incumb', 1], ['digniti', 1], ['felic', 1], ['infidel', 1], ['infinitive', 1], ['ingot', 1], ['ingredient', 1], ['instigat', 1], ['institut', 1], ['insulat', 1], ['chang', 1], ['medi', 1], ['ary', 1], ['intimat', 1], ['inundate', 1], ['valid', 1], ['violate', 1], ['irony', 1], ['jarr', 1], ['jell-o', 1], ['jogg', 1], ['join', 1], ['jok', 1], ['joy', 1], ['junction', 1], ['jungle', 1], ['junk', 1], ['katydid', 1], ['keel', 1], ['haul', 1], ['khan', 1], ['kidd', 1], ['kid', 1], ['kip', 1], ['kirk', 1], ['kitchen', 1], ['knead', 1], ['knesset', 1], ['knife', 1], ['knock', 1], ['knuckle', 1], ['koran', 1], ['laboratori', 1], ['lachrymose', 1], ['lady', 1], ['bug', 1], ['wing', 1], ['larv', 1], ['lega', 1], ['ci', 1], ['legg', 1], ['libb', 1], ['liberal', 1], ['lick', 1], ['life', 1], ['linden', 1], ['linguist', 1], ['liquefy', 1], ['litigate', 1], ['loft', 1], ['loon', 1], ['lotus', 1], ['louvr', 1], ['louvre', 1], ['low', 1], ['key', 1], ['luck', 1], ['lurch', 1], ['lye', 1], ['machismo', 1], ['magistrate', 1], ['mal', 1], ['nutrition', 1], ['malt', 1], ['ster', 1], ['malversation', 1], ['mandate', 1], ['mangl', 1], ['manicure', 1], ['manicur', 1], ['mantel', 1], ['mascot', 1], ['mathematic', 1], ['matriarch', 1], ['maxi', 1], ['meadow', 1], ['meditate', 1], ['mediterranean', 1], ['memento', 1], ['menac', 1], ['mere', 1], ['method', 1], ['mid', 1], ['summer', 1], ['migraine', 1], ['militia', 1], ['read', 1], ['ministr', 1], ['appropriate', 1], ['fit', 1], ['led', 1], ['understand', 1], ['mitigate', 1], ['mitt', 1], ['mixt', 1], ['ure', 1], ['modell', 1], ['modific', 1], ['moist', 1], ['mood', 1], ['moo', 1], ['morn', 1], ['mosque', 1], ['mural', 1], ['mush', 1], ['muss', 1], ['muzzle', 1], ['muzzl', 1], ['narrow', 1], ['nasal', 1], ['nature', 1], ['navi', 1], ['needle', 1], ['negotiat', 1], ['neighbour', 1], ['net', 1], ['nick', 1], ['ninni', 1], ['nipple', 1], ['nobbl', 1], ['noble', 1], ['non-profit-making', 1], ['nostalgia', 1], ['nourish', 1], ['nuisance', 1], ['number', 1], ['plate', 1], ['numer', 1], ['num', 1], ['skull', 1], ['nut', 1], ['oak', 1], ['oboe', 1], ['office', 1], ['omnivorous', 1], ['opin', 1], ['oppress', 1], ['orb', 1], ['ordain', 1], ['come', 1], ['law', 1], ['balanc', 1], ['burden', 1], ['pal', 1], ['pamphlet', 1], ['pan', 1], ['handl', 1], ['pantheon', 1], ['paprika', 1], ['paragon', 1], ['parasol', 1], ['park', 1], ['parliament', 1], ['patriot', 1], ['pea', 1], ['peel', 1], ['pegg', 1], ['pellet', 1], ['penetrate', 1], ['pension', 1], ['percept', 1], ['ib', 1], ['perch', 1], ['perforat', 1], ['persona', 1], ['pervad', 1], ['pest', 1], ['phaeton', 1], ['phi', 1], ['copi', 1], ['gravure', 1], ['phrenolog', 1], ['physiognomy', 1], ['pianola', 1], ['piano', 1], ['picket', 1], ['pieta', 1], ['pig', 1], ['let', 1], ['pink', 1], ['pith', 1], ['pizza', 1], ['plaice', 1], ['plaid', 1], ['pled', 1], ['plenitude', 1], ['plight', 1], ['plopp', 1], ['pluck', 1], ['plumb', 1], ['plush', 1], ['polling', 1], ['booth', 1], ['poop', 1], ['poppy', 1], ['porn', 1], ['praise', 1], ['precarious', 1], ['precede', 1], ['prefect', 1], ['premise', 1], ['pack', 1], ['prepar', 1], ['pres', 1], ['ur', 1], ['prevaricat', 1], ['prevent', 1], ['prim', 1], ['prize', 1], ['fight', 1], ['probabil', 1], ['profan', 1], ['prognoses', 1], ['project', 1], ['propagat', 1], ['prophesy', 1], ['prop', 1], ['jet', 1], ['prorog', 1], ['proselyt', 1], ['proud', 1], ['provoking', 1], ['psyche', 1], ['psychiatr', 1], ['puce', 1], ['pugnac', 1], ['pull', 1], ['pullman', 1], ['puls', 1], ['punch', 1], ['punic', 1], ['punish', 1], ['pun', 1], ['pur', 1], ['purport', 1], ['push', 1], ['quake', 1], ['quango', 1], ['quas', 1], ['quiet', 1], ['quinine', 1], ['quixote', 1], ['rack', 1], ['car', 1], ['raisin', 1], ['ravine', 1], ['align', 1], ['real', 1], ['ty', 1], ['bind', 1], ['build', 1], ['commend', 1], ['count', 1], ['recrudesc', 1], ['rectangle', 1], ['dress', 1], ['reek', 1], ['face', 1], ['referendum', 1], ['regalia', 1], ['region', 1], ['relic', 1], ['rent', 1], ['repatriat', 1], ['repeal', 1], ['repell', 1], ['republic', 1], ['run', 1], ['reserv', 1], ['shuffl', 1], ['resist', 1], ['reson', 1], ['respect', 1], ['respons', 1], ['ibil', 1], ['took', 1], ['revel', 1], ['revere', 1], ['revert', 1], ['reviv', 1], ['revok', 1], ['revolt', 1], ['ry', 1], ['rigid', 1], ['rising', 1], ['road', 1], ['robin', 1], ['rodeo', 1], ['rod', 1], ['roll', 1], ['rom', 1], ['rough', 1], ['rous', 1], ['ruffle', 1], ['ruin', 1], ['rum', 1], ['ruminat', 1], ['rumpl', 1], ['sabah', 1], ['sackbut', 1], ['safe', 1], ['salad', 1], ['sales', 1], ['clerk', 1], ['salon', 1], ['salvo', 1], ['sampl', 1], ['sanitaria', 1], ['saturn', 1], ['saxon', 1], ['scallop', 1], ['scant', 1], ['sceptic', 1], ['schedule', 1], ['schnitzel', 1], ['schol', 1], ['girl', 1], ['mistress', 1], ['scullion', 1], ['se', 1], ['legs', 1], ['lion', 1], ['borne', 1], ['season', 1], ['seasoning', 1], ['secretari', 1], ['seize', 1], ['self', 1], ['will', 1], ['september', 1], ['sequel', 1], ['seychellois', 1], ['sforzandi', 1], ['shallow', 1], ['shank', 1], ['sheila', 1], ['short', 1], ['circuit', 1], ['shower', 1], ['swipe', 1], ['siding', 1], ['silent', 1], ['silo', 1], ['simulate', 1], ['sin', 1], ['ski', 1], ['skimmed', 1], ['milk', 1], ['skulk', 1], ['slack', 1], ['sleazy', 1], ['slice', 1], ['slick', 1], ['slott', 1], ['slough', 1], ['sniff', 1], ['snook', 1], ['soap', 1], ['sol', 1], ['ution', 1], ['sopp', 1], ['sou', 1], ['speak', 1], ['speculat', 1], ['splash', 1], ['stable', 1], ['stalwart', 1], ['starkers', 1], ['state', 1], ['station', 1], ['statue', 1], ['statu', 1], ['steam', 1], ['steril', 1], ['sterna', 1], ['steward', 1], ['stint', 1], ['store', 1], ['strangul', 1], ['stream', 1], ['strode', 1], ['stroll', 1], ['sturdy', 1], ['sequent', 1], ['urban', 1], ['suffici', 1], ['suffix', 1], ['sulph', 1], ['ide', 1], ['summari', 1], ['summar', 1], ['roof', 1], ['surgeon', 1], ['surli', 1], ['sweet', 1], ['switch', 1], ['taboo', 1], ['tackle', 1], ['tally', 1], ['tamp', 1], ['tangible', 1], ['tang', 1], ['tarry', 1], ['tast', 1], ['tatt', 1], ['tattl', 1], ['taunt', 1], ['taxi', 1], ['teasel', 1], ['ted', 1], ['tele', 1], ['temper', 1], ['temporiz', 1], ['tempt', 1], ['tenable', 1], ['tenor', 1], ['terr', 1], ['tete-a-tete', 1], ['thanks', 1], ['them', 1], ['atic', 1], ['theodolite', 1], ['thresh', 1], ['tie', 1], ['timpan', 1], ['tired', 1], ['toil', 1], ['tomato', 1], ['ache', 1], ['topaz', 1], ['tornado', 1], ['torpedo', 1], ['tortur', 1], ['tournament', 1], ['tout', 1], ['tow', 1], ['to', 1], ['towell', 1], ['tract', 1], ['traffick', 1], ['tramp', 1], ['le', 1], ['transcend', 1], ['transmogrific', 1], ['trash', 1], ['treasure', 1], ['trellis', 1], ['trend', 1], ['trestle', 1], ['table', 1], ['triad', 1], ['tribun', 1], ['triplex', 1], ['triumvir', 1], ['truce', 1], ['truck', 1], ['trump', 1], ['et', 1], ['tug', 1], ['tureen', 1], ['twang', 1], ['twin', 1], ['twine', 1], ['twit', 1], ['ply', 1], ['abridged', 1], ['adopted', 1], ['undertaking', 1], ['undies', 1], ['equivocal', 1], ['heard', 1], ['reserved', 1], ['seeing', 1], ['stairs', 1], ['urchin', 1], ['vacillat', 1], ['vassal', 1], ['vaudeville', 1], ['ventriloqu', 1], ['venue', 1], ['vers', 1], ['vice', 1], ['regal', 1], ['vicuna', 1], ['vine', 1], ['yard', 1], ['volunteer', 1], ['vote', 1], ['vouch', 1], ['saf', 1], ['vulgar', 1], ['walk', 1], ['want', 1], ['watch', 1], ['water', 1], ['course', 1], ['wax', 1], ['welsh', 1], ['whin', 1], ['whipp', 1], ['whoop', 1], ['wilton', 1], ['winc', 1], ['wipe', 1], ['wis', 1], ['dom', 1], ['with', 1], ['wit', 1], ['witness', 1], ['womb', 1], ['worship', 1], ['worshipp', 1], ['wreak', 1], ['yeti', 1], ['yowl', 1], ['zany', 1], ['zenith', 1], ['zodiac', 1], ['zombie', 1], ['compani', 2], ['acquis', 2], ['acupuncture', 2], ['ad', 2], ['speed', 2], ['alter', 2], ['any', 2], ['archa', 2], ['arch', 2], ['deacon', 2], ['arrange', 2], ['onom', 2], ['bad', 2], ['ballet', 2], ['bane', 2], ['batiste', 2], ['beach', 2], ['bequeath', 2], ['berth', 2], ['be', 2], ['bethel', 2], ['betray', 2], ['billi', 2], ['bluster', 2], ['boot', 2], ['lace', 2], ['bound', 2], ['eous', 2], ['by', 2], ['pass', 2], ['canker', 2], ['capitulat', 2], ['capsicum', 2], ['ier', 2], ['cauliflower', 2], ['cent', 2], ['centr', 2], ['challeng', 2], ['chart', 2], ['cheek', 2], ['chronic', 2], ['clean', 2], ['living', 2], ['coffee', 2], ['cognac', 2], ['coin', 2], ['iv', 2], ['combust', 2], ['consul', 2], ['pilot', 2], ['coterie', 2], ['coxswain', 2], ['cusp', 2], ['dangle', 2], ['defect', 2], ['dictat', 2], ['agree', 2], ['proportion', 2], ['regard', 2], ['similar', 2], ['taste', 2], ['distill', 2], ['do', 2], ['double', 2], ['duvet', 2], ['earth', 2], ['eating', 2], ['ec', 2], ['olog', 2], ['elder', 2], ['entreat', 2], ['expletive', 2], ['explor', 2], ['ory', 2], ['ex', 2], ['extens', 2], ['facet', 2], ['hood', 2], ['fame', 2], ['felicit', 2], ['fickle', 2], ['fin', 2], ['fistula', 2], ['flabbergast', 2], ['flat', 2], ['folk', 2], ['lore', 2], ['ford', 2], ['fore', 2], ['saw', 2], ['see', 2], ['for', 2], ['t', 2], ['night', 2], ['freak', 2], ['fresh', 2], ['gaiter', 2], ['gawp', 2], ['gibbon', 2], ['gibraltar', 2], ['gipsi', 2], ['glad', 2], ['goo', 2], ['grocer', 2], ['gum', 2], ['halt', 2], ['ham', 2], ['hard', 2], ['ware', 2], ['not', 2], ['heed', 2], ['holograph', 2], ['honduras', 2], ['hot', 2], ['hurricane', 2], ['inan', 2], ['describ', 2], ['nation', 2], ['iron', 2], ['jazz', 2], ['joll', 2], ['lap', 2], ['lay', 2], ['about', 2], ['ledge', 2], ['limit', 2], ['live', 2], ['space', 2], ['lord', 2], ['lurid', 2], ['madeira', 2], ['mane', 2], ['mantis', 2], ['marsh', 2], ['matrix', 2], ['ab', 2], ['meeting', 2], ['middle', 2], ['dist', 2], ['mild', 2], ['mizzen', 2], ['molly', 2], ['momma', 2], ['money', 2], ['phon', 2], ['morale', 2], ['ke', 2], ['mov', 2], ['negat', 2], ['oil', 2], ['rig', 2], ['one', 2], ['stay', 2], ['oval', 2], ['lapp', 2], ['own', 2], ['past', 2], ['pastor', 2], ['peri', 2], ['suas', 2], ['plectrum', 2], ['pontific', 2], ['poof', 2], ['poor', 2], ['pott', 2], ['precept', 2], ['dispos', 2], ['profess', 2], ['proviso', 2], ['purr', 2], ['put', 2], ['putrefi', 2], ['radio', 2], ['refract', 2], ['regress', 2], ['rein', 2], ['press', 2], ['search', 2], ['seat', 2], ['right', 2], ['rollick', 2], ['romant', 2], ['rowdi', 2], ['sacrist', 2], ['salt', 2], ['sax', 2], ['serpent', 2], ['seven', 2], ['town', 2], ['shay', 2], ['sheer', 2], ['shenanigan', 2], ['shogun', 2], ['show', 2], ['sicili', 2], ['smooch', 2], ['snob', 2], ['standard', 2], ['streak', 2], ['suffuse', 2], ['surviv', 2], ['suture', 2], ['swede', 2], ['it', 2], ['symbol', 2], ['tape', 2], ['tartar', 2], ['timbre', 2], ['toll', 2], ['tot', 2], ['totem', 2], ['pole', 2], ['transient', 2], ['trespass', 2], ['tri', 2], ['trivial', 2], ['try', 2], ['tusk', 2], ['grad', 2], ['tak', 2], ['seem', 2], ['vanquish', 2], ['vast', 2], ['visa', 2], ['like', 2], ['wash', 2], ['wedg', 2], ['white', 2], ['yeast', 2], ['ag', 2], ['side', 2], ['clad', 2], ['band', 2], ['bear', 2], ['skin', 2], ['blink', 2], ['bow', 2], ['winn', 2], ['fast', 2], ['buffet', 2], ['bull', 2], ['cardinal', 2], ['carri', 2], ['chain', 2], ['gang', 2], ['cheer', 2], ['conciliat', 2], ['crimin', 2], ['order', 2], ['dressing', 2], ['eel', 2], ['power', 2], ['l', 2], ['cock', 2], ['gas', 2], ['graph', 2], ['hitch', 2], ['sure', 2], ['ific', 2], ['ette', 2], ['boat', 2], ['maroon', 2], ['giving', 2], ['nihil', 2], ['throw', 2], ['predict', 2], ['rail', 2], ['rational', 2], ['ribald', 2], ['sale', 2], ['room', 2], ['school', 2], ['seri', 2], ['lift', 2], ['spread', 2], ['squeak', 2], ['squint', 2], ['whisper', 2], ['sun', 2], ['tooth', 2], ['ward', 2], ['coat', 2], ['two', 2], ['waist', 2], ['ac', 3], ['ition', 3], ['air', 3], ['matter', 3], ['off', 3], ['bat', 3], ['men', 3], ['wear', 3], ['bed', 3], ['looking', 3], ['bi', 3], ['book', 3], ['brush', 3], ['wood', 3], ['card', 3], ['horse', 3], ['coach', 3], ['coddle', 3], ['ible', 3], ['co', 3], ['ifi', 3], ['cross', 3], ['curator', 3], ['frost', 3], ['nud', 3], ['ice', 3], ['em', 3], ['fault', 3], ['flow', 3], ['forward', 3], ['fountain', 3], ['four', 3], ['furr', 3], ['guard', 3], ['shoe', 3], ['string', 3], ['ill', 3], ['import', 3], ['knee', 3], ['launch', 3], ['left', 3], ['li', 3], ['stock', 3], ['lust', 3], ['mast', 3], ['o', 3], ['stage', 3], ['time', 3], ['per', 3], ['ar', 3], ['pre', 3], ['protest', 3], ['prune', 3], ['act', 3], ['regulat', 3], ['remorse', 3], ['rock', 3], ['round', 3], ['score', 3], ['board', 3], ['th', 3], ['stand', 3], ['sub', 3], ['point', 3], ['toe', 3], ['gate', 3], ['train', 3], ['turn', 3], ['warm', 3], ['woman', 3], ['year', 3], ['line', 3], ['long', 3], ['hold', 3], ['im', 3], ['pos', 3], ['photo', 3], ['sea', 3], ['place', 4], ['back', 4], ['ite', 4], ['shop', 4], ['ari', 4], ['ery', 4], ['ence', 4], ['ial', 4], ['serv', 4], ['on', 4], ['fund', 4], ['heart', 4], ['inter', 4], ['cap', 4], ['motor', 4], ['up', 4], ['sip', 4], ['test', 4], ['mind', 4], ['ency', 4], ['hook', 4], ['fire', 5], ['part', 5], ['ism', 5], ['ally', 5], ['ent', 5], ['foot', 5], ['ian', 5], ['ical', 5], ['hand', 5], ['ance', 5], ['ish', 5], ['way', 5], ['mis', 5], ['a', 6], ['en', 6], ['head', 7], ['ate', 7], ['iti', 7], ['ship', 7], ['under', 7], ['ous', 8], ['ive', 8], ['house', 8], ['ity', 8], ['ant', 8], ['work', 8], ['est', 9], ['able', 9], ['man', 9], ['an', 10], ['iz', 10], ['out', 10], ['over', 10], ['ment', 11], ['age', 11], ['less', 11], ['at', 11], ['in', 11], ['ful', 12], ['y', 12], ['dis', 12], ['ize', 12], ['de', 13], ['ic', 14], ['ation', 15], ['or', 17], ['i', 17], ['un', 17], ['al', 21], ['re', 22], ['ist', 25], ['ness', 28], ['ion', 32], ['ly', 46], ['es', 57], ['-', 79], ['er', 100], [\"'\", 111], ['ing', 112], ['ed', 126], [\"'s\", 196], ['s', 455]]\n"
          ]
        }
      ]
    },
    {
      "cell_type": "code",
      "source": [
        "from pandas.core.indexes.datetimes import date_range\n",
        "Statseg = list()\n",
        "for l in range(0, len(masseg) + 1):\n",
        "  if l > 0:\n",
        "    flag = 0\n",
        "    for k in range(0, len(Statseg)):\n",
        "      if masseg[l-1][1] == Statseg[k][0]:\n",
        "        flag = 1\n",
        "      else:\n",
        "        flag = 0\n",
        "    if flag == 0:\n",
        "      Statseg.append([masseg[l-1][1], Counts])\n",
        "  Counts = 0\n",
        "  for m in range(0, len(masseg)):\n",
        "    if l < len(masseg):\n",
        "      if masseg[l][1] == masseg[m][1]:\n",
        "        Counts += 1"
      ],
      "metadata": {
        "id": "hrvpiq6_cHBH"
      },
      "execution_count": null,
      "outputs": []
    },
    {
      "cell_type": "code",
      "source": [
        "sum_seg = 0\n",
        "for k in range(0, len(Statseg)):\n",
        "  sum_seg += Statseg[k][0]"
      ],
      "metadata": {
        "id": "NuyKqjRyeLCF"
      },
      "execution_count": null,
      "outputs": []
    },
    {
      "cell_type": "code",
      "source": [
        "sum_seg"
      ],
      "metadata": {
        "colab": {
          "base_uri": "https://localhost:8080/"
        },
        "id": "9fnCKO2VfYLA",
        "outputId": "362b2b6a-5b5e-484e-d495-9b4c01c25076"
      },
      "execution_count": null,
      "outputs": [
        {
          "output_type": "execute_result",
          "data": {
            "text/plain": [
              "1564"
            ]
          },
          "metadata": {},
          "execution_count": 12
        }
      ]
    },
    {
      "cell_type": "code",
      "source": [
        "len(Statseg)/2"
      ],
      "metadata": {
        "colab": {
          "base_uri": "https://localhost:8080/"
        },
        "id": "Gf6zurBRgiGW",
        "outputId": "eef5c69e-def3-4128-c003-61c60b88ee18"
      },
      "execution_count": null,
      "outputs": [
        {
          "output_type": "execute_result",
          "data": {
            "text/plain": [
              "21.0"
            ]
          },
          "metadata": {},
          "execution_count": 13
        }
      ]
    },
    {
      "cell_type": "code",
      "source": [
        " Statseg[int(len(Statseg)/2)][0]"
      ],
      "metadata": {
        "colab": {
          "base_uri": "https://localhost:8080/"
        },
        "id": "BWs1HjHxgcxO",
        "outputId": "21f766e3-8109-458e-b98f-04e59c5380fb"
      },
      "execution_count": null,
      "outputs": [
        {
          "output_type": "execute_result",
          "data": {
            "text/plain": [
              "24"
            ]
          },
          "metadata": {},
          "execution_count": 36
        }
      ]
    },
    {
      "cell_type": "code",
      "source": [
        "for l in range(0, len(masseg)):\n",
        "  masseg[l][1] = (masseg[l][1] -Statseg[int(len(Statseg)/2)][0])/sum_seg\n",
        "print(masseg)"
      ],
      "metadata": {
        "colab": {
          "base_uri": "https://localhost:8080/"
        },
        "id": "WobLC7D9ffWd",
        "outputId": "c5815e32-7215-495c-cdc3-198ad9fc7cd8"
      },
      "execution_count": null,
      "outputs": [
        {
          "output_type": "stream",
          "name": "stdout",
          "text": [
            "[['knowledg', -0.010342598577892695], ['judg', -0.010342598577892695], ['advant', -0.010342598577892695], ['lock', -0.010342598577892695], ['algeria', -0.010342598577892695], ['algeri', -0.010342598577892695], ['alumni', -0.010342598577892695], ['alumnus', -0.010342598577892695], ['anti', -0.010342598577892695], ['how', -0.010342598577892695], ['archetyp', -0.010342598577892695], ['archetype', -0.010342598577892695], ['archimandrite', -0.010342598577892695], ['astr', -0.010342598577892695], ['aureola', -0.010342598577892695], ['pedal', -0.010342598577892695], ['sore', -0.010342598577892695], ['best', -0.010342598577892695], ['stir', -0.010342598577892695], ['blind', -0.010342598577892695], ['bount', -0.010342598577892695], ['bounti', -0.010342598577892695], ['bread-and-butter', -0.010342598577892695], ['brib', -0.010342598577892695], ['bribe', -0.010342598577892695], ['buckl', -0.010342598577892695], ['buckle', -0.010342598577892695], ['cacao', -0.010342598577892695], ['cash', -0.010342598577892695], ['caucus', -0.010342598577892695], ['centenari', -0.010342598577892695], ['chlorin', -0.010342598577892695], ['chlorine', -0.010342598577892695], ['chocolate', -0.010342598577892695], ['choice', -0.010342598577892695], ['choic', -0.010342598577892695], ['chok', -0.010342598577892695], ['choke', -0.010342598577892695], ['class', -0.010342598577892695], ['clich', -0.010342598577892695], ['cliche', -0.010342598577892695], ['clothes', -0.010342598577892695], ['collect', -0.010342598577892695], ['conclus', -0.010342598577892695], ['concurr', -0.010342598577892695], ['concur', -0.010342598577892695], ['contin', -0.010342598577892695], ['religion', -0.010342598577892695], ['countr', -0.010342598577892695], ['cover', -0.010342598577892695], ['crikey', -0.010342598577892695], ['country', -0.010342598577892695], ['talk', -0.010342598577892695], ['crud', -0.010342598577892695], ['derogate', -0.010342598577892695], ['derogat', -0.010342598577892695], ['describe', -0.010342598577892695], ['dice', -0.010342598577892695], ['dic', -0.010342598577892695], ['dinn', -0.010342598577892695], ['discipline', -0.010342598577892695], ['disciplin', -0.010342598577892695], ['cov', -0.010342598577892695], ['good', -0.010342598577892695], ['donate', -0.010342598577892695], ['donat', -0.010342598577892695], ['bass', -0.010342598577892695], ['doubl', -0.010342598577892695], ['dream', -0.010342598577892695], ['berri', -0.010342598577892695], ['balm', -0.010342598577892695], ['embellish', -0.010342598577892695], ['temporan', -0.010342598577892695], ['false', -0.010342598577892695], ['fauna', -0.010342598577892695], ['top', -0.010342598577892695], ['dance', -0.010342598577892695], ['follow', -0.010342598577892695], ['forbidden', -0.010342598577892695], ['forbidd', -0.010342598577892695], ['penny', -0.010342598577892695], ['gladd', -0.010342598577892695], ['graduate', -0.010342598577892695], ['grasping', -0.010342598577892695], ['hamm', -0.010342598577892695], ['hardest', -0.010342598577892695], ['hatch', -0.010342598577892695], ['eri', -0.010342598577892695], ['have', -0.010342598577892695], ['hav', -0.010342598577892695], ['industri', -0.010342598577892695], ['industry', -0.010342598577892695], ['infami', -0.010342598577892695], ['fam', -0.010342598577892695], ['influenc', -0.010342598577892695], ['influent', -0.010342598577892695], ['sensitiv', -0.010342598577892695], ['tense', -0.010342598577892695], ['ironi', -0.010342598577892695], ['isolate', -0.010342598577892695], ['isolat', -0.010342598577892695], ['jesuit', -0.010342598577892695], ['jolli', -0.010342598577892695], ['judge', -0.010342598577892695], ['juvenile', -0.010342598577892695], ['high', -0.010342598577892695], ['knit', -0.010342598577892695], ['glass', -0.010342598577892695], ['measur', -0.010342598577892695], ['merit', -0.010342598577892695], ['craci', -0.010342598577892695], ['mirth', -0.010342598577892695], ['grubb', -0.010342598577892695], ['monogam', -0.010342598577892695], ['mono', -0.010342598577892695], ['muscov', -0.010342598577892695], ['muscovy', -0.010342598577892695], ['neck', -0.010342598577892695], ['numismatic', -0.010342598577892695], ['numismat', -0.010342598577892695], ['orate', -0.010342598577892695], ['orat', -0.010342598577892695], ['skirts', -0.010342598577892695], ['produce', -0.010342598577892695], ['palat', -0.010342598577892695], ['palate', -0.010342598577892695], ['word', -0.010342598577892695], ['fume', -0.010342598577892695], ['perma', -0.010342598577892695], ['perman', -0.010342598577892695], ['enci', -0.010342598577892695], ['persuad', -0.010342598577892695], ['plac', -0.010342598577892695], ['pleas', -0.010342598577892695], ['pol', -0.010342598577892695], ['popinjay', -0.010342598577892695], ['post-mortem', -0.010342598577892695], ['postmortem', -0.010342598577892695], ['potter', -0.010342598577892695], ['precipitate', -0.010342598577892695], ['precipitat', -0.010342598577892695], ['pret', -0.010342598577892695], ['ious', -0.010342598577892695], ['pro', -0.010342598577892695], ['prod', -0.010342598577892695], ['prodd', -0.010342598577892695], ['produc', -0.010342598577892695], ['protract', -0.010342598577892695], ['pupa', -0.010342598577892695], ['pup', -0.010342598577892695], ['putrefy', -0.010342598577892695], ['therap', -0.010342598577892695], ['ramp', -0.010342598577892695], ['rat-a-tat-tat', -0.010342598577892695], ['appear', -0.010342598577892695], ['red', -0.010342598577892695], ['reduce', -0.010342598577892695], ['reduc', -0.010342598577892695], ['juven', -0.010342598577892695], ['remunerate', -0.010342598577892695], ['remunerat', -0.010342598577892695], ['rigg', -0.010342598577892695], ['rococo', -0.010342598577892695], ['rowan', -0.010342598577892695], ['berry', -0.010342598577892695], ['sandal', -0.010342598577892695], ['sang', -0.010342598577892695], ['phone', -0.010342598577892695], ['scor', -0.010342598577892695], ['scribble', -0.010342598577892695], ['scribbl', -0.010342598577892695], ['sensitive', -0.010342598577892695], ['ine', -0.010342598577892695], ['settle', -0.010342598577892695], ['settl', -0.010342598577892695], ['teen', -0.010342598577892695], ['shanty', -0.010342598577892695], ['biz', -0.010342598577892695], ['sing', -0.010342598577892695], ['sinking', -0.010342598577892695], ['six', -0.010342598577892695], ['skirl', -0.010342598577892695], ['smooth', -0.010342598577892695], ['snap', -0.010342598577892695], ['snapp', -0.010342598577892695], ['soda', -0.010342598577892695], ['sod', -0.010342598577892695], ['ium', -0.010342598577892695], ['soft', -0.010342598577892695], ['pedall', -0.010342598577892695], ['spasmod', -0.010342598577892695], ['spast', -0.010342598577892695], ['sped', -0.010342598577892695], ['stirr', -0.010342598577892695], ['stodg', -0.010342598577892695], ['straf', -0.010342598577892695], ['strafe', -0.010342598577892695], ['strung', -0.010342598577892695], ['substanti', -0.010342598577892695], ['sucrose', -0.010342598577892695], ['suppos', -0.010342598577892695], ['supposed', -0.010342598577892695], ['sybar', -0.010342598577892695], ['talking', -0.010342598577892695], ['tangle', -0.010342598577892695], ['measure', -0.010342598577892695], ['drive', -0.010342598577892695], ['therapi', -0.010342598577892695], ['women', -0.010342598577892695], ['training', -0.010342598577892695], ['treat', -0.010342598577892695], ['turning', -0.010342598577892695], ['tut', -0.010342598577892695], ['tutt', -0.010342598577892695], ['twentie', -0.010342598577892695], ['twenty', -0.010342598577892695], ['done', -0.010342598577892695], ['offic', -0.010342598577892695], ['placed', -0.010342598577892695], ['tangl', -0.010342598577892695], ['venezuela', -0.010342598577892695], ['venezuel', -0.010342598577892695], ['vict', -0.010342598577892695], ['ori', -0.010342598577892695], ['victor', -0.010342598577892695], ['video', -0.010342598577892695], ['vile', -0.010342598577892695], ['vil', -0.010342598577892695], ['wak', -0.010342598577892695], ['wari', -0.010342598577892695], ['war', -0.010342598577892695], ['wary', -0.010342598577892695], ['weari', -0.010342598577892695], ['world', -0.010342598577892695], ['weary', -0.010342598577892695], ['worse', -0.010342598577892695], ['wors', -0.010342598577892695], ['ablative', -0.010342598577892695], ['abound', -0.010342598577892695], ['abrogate', -0.010342598577892695], ['us', -0.010342598577892695], ['accent', -0.010342598577892695], ['accord', -0.010342598577892695], ['r', -0.010342598577892695], ['ess', -0.010342598577892695], ['adder', -0.010342598577892695], ['adult', -0.010342598577892695], ['advers', -0.010342598577892695], ['aegis', -0.010342598577892695], ['aesthete', -0.010342598577892695], ['grand', -0.010342598577892695], ['agronomy', -0.010342598577892695], ['aides-memoire', -0.010342598577892695], ['aim', -0.010342598577892695], ['alarm', -0.010342598577892695], ['alchem', -0.010342598577892695], ['amalgam', -0.010342598577892695], ['ame', -0.010342598577892695], ['ameliorate', -0.010342598577892695], ['amhara', -0.010342598577892695], ['amnesia', -0.010342598577892695], ['ampere', -0.010342598577892695], ['anal', -0.010342598577892695], ['yst', -0.010342598577892695], ['anarch', -0.010342598577892695], ['anatomy', -0.010342598577892695], ['andante', -0.010342598577892695], ['angelica', -0.010342598577892695], ['animat', -0.010342598577892695], ['anorexia', -0.010342598577892695], ['antenna', -0.010342598577892695], ['anthrop', -0.010342598577892695], ['append', -0.010342598577892695], ['arbitr', -0.010342598577892695], ['arbitrat', -0.010342598577892695], ['arm', -0.010342598577892695], ['our', -0.010342598577892695], ['ass', -0.010342598577892695], ['asset', -0.010342598577892695], ['atom', -0.010342598577892695], ['attend', -0.010342598577892695], ['attenuat', -0.010342598577892695], ['attitude', -0.010342598577892695], ['attorn', -0.010342598577892695], ['ey', -0.010342598577892695], ['augment', -0.010342598577892695], ['author', -0.010342598577892695], ['babel', -0.010342598577892695], ['babu', -0.010342598577892695], ['baccalaureate', -0.010342598577892695], ['bench', -0.010342598577892695], ['bag', -0.010342598577892695], ['pipe', -0.010342598577892695], ['bail', -0.010342598577892695], ['banquet', -0.010342598577892695], ['banshee', -0.010342598577892695], ['bashful', -0.010342598577892695], ['battery', -0.010342598577892695], ['bay', -0.010342598577892695], ['bearing', -0.010342598577892695], ['beating', -0.010342598577892695], ['beaut', -0.010342598577892695], ['ician', -0.010342598577892695], ['get', -0.010342598577892695], ['beginn', -0.010342598577892695], ['behave', -0.010342598577892695], ['beheld', -0.010342598577892695], ['benefactor', -0.010342598577892695], ['biceps', -0.010342598577892695], ['lingual', -0.010342598577892695], ['bit', -0.010342598577892695], ['bite', -0.010342598577892695], ['blabb', -0.010342598577892695], ['blimp', -0.010342598577892695], ['bock', -0.010342598577892695], ['bolshev', -0.010342598577892695], ['bond', -0.010342598577892695], ['bonni', -0.010342598577892695], ['boogie', -0.010342598577892695], ['bounc', -0.010342598577892695], ['bourse', -0.010342598577892695], ['bowel', -0.010342598577892695], ['bowl', -0.010342598577892695], ['braggadocio', -0.010342598577892695], ['bravura', -0.010342598577892695], ['bread', -0.010342598577892695], ['break', -0.010342598577892695], ['breath', -0.010342598577892695], ['breech', -0.010342598577892695], ['bring', -0.010342598577892695], ['brisk', -0.010342598577892695], ['broad', -0.010342598577892695], ['buffalo', -0.010342598577892695], ['building', -0.010342598577892695], ['bulk', -0.010342598577892695], ['doz', -0.010342598577892695], ['shit', -0.010342598577892695], ['bump', -0.010342598577892695], ['bungle', -0.010342598577892695], ['bunk', -0.010342598577892695], ['busi', -0.010342598577892695], ['cabal', -0.010342598577892695], ['cable', -0.010342598577892695], ['caddie', -0.010342598577892695], ['carcino', -0.010342598577892695], ['gen', -0.010342598577892695], ['caricatur', -0.010342598577892695], ['carpetbagger', -0.010342598577892695], ['carton', -0.010342598577892695], ['castrate', -0.010342598577892695], ['casual', -0.010342598577892695], [\"cat-o'-nine-tails\", -0.010342598577892695], ['catastrophe', -0.010342598577892695], ['catechism', -0.010342598577892695], ['cathode', -0.010342598577892695], ['cease', -0.010342598577892695], ['celery', -0.010342598577892695], ['centuri', -0.010342598577892695], ['cereal', -0.010342598577892695], ['cerebrum', -0.010342598577892695], ['chair', -0.010342598577892695], ['chancellor', -0.010342598577892695], ['chaperon', -0.010342598577892695], ['charg', -0.010342598577892695], ['chase', -0.010342598577892695], ['chauvinism', -0.010342598577892695], ['chestnut', -0.010342598577892695], ['chigger', -0.010342598577892695], ['chivi', -0.010342598577892695], ['citron', -0.010342598577892695], ['claw', -0.010342598577892695], ['clay', -0.010342598577892695], ['cut', -0.010342598577892695], ['clew', -0.010342598577892695], ['climax', -0.010342598577892695], ['op', -0.010342598577892695], ['coda', -0.010342598577892695], ['codeine', -0.010342598577892695], ['cognate', -0.010342598577892695], ['coincid', -0.010342598577892695], ['col', -0.010342598577892695], ['lapse', -0.010342598577892695], ['com', -0.010342598577892695], ['mingle', -0.010342598577892695], ['commun', -0.010342598577892695], ['compensat', -0.010342598577892695], ['complet', -0.010342598577892695], ['compliment', -0.010342598577892695], ['compos', -0.010342598577892695], ['compromise', -0.010342598577892695], ['comput', -0.010342598577892695], ['conceit', -0.010342598577892695], ['concess', -0.010342598577892695], ['concord', -0.010342598577892695], ['conferr', -0.010342598577892695], ['confine', -0.010342598577892695], ['confiscat', -0.010342598577892695], ['conflat', -0.010342598577892695], ['con', -0.010342598577892695], ['form', -0.010342598577892695], ['confus', -0.010342598577892695], ['congress', -0.010342598577892695], ['conserv', -0.010342598577892695], ['contempt', -0.010342598577892695], ['conting', -0.010342598577892695], ['control', -0.010342598577892695], ['convers', -0.010342598577892695], ['convert', -0.010342598577892695], ['convict', -0.010342598577892695], ['coolie', -0.010342598577892695], ['corinth', -0.010342598577892695], ['corner', -0.010342598577892695], ['corn', -0.010342598577892695], ['starch', -0.010342598577892695], ['corrall', -0.010342598577892695], ['corroborat', -0.010342598577892695], ['corsage', -0.010342598577892695], ['corvette', -0.010342598577892695], ['cote', -0.010342598577892695], ['counterfeit', -0.010342598577892695], ['covet', -0.010342598577892695], ['cramp', -0.010342598577892695], ['crayon', -0.010342598577892695], ['creat', -0.010342598577892695], ['cremat', -0.010342598577892695], ['oria', -0.010342598577892695], ['cri', -0.010342598577892695], ['crocodile', -0.010342598577892695], ['crooked', -0.010342598577892695], ['index', -0.010342598577892695], ['crossing', -0.010342598577892695], ['crow', -0.010342598577892695], ['cul-de-sac', -0.010342598577892695], ['culprit', -0.010342598577892695], ['cult', -0.010342598577892695], ['curs', -0.010342598577892695], ['cuticle', -0.010342598577892695], ['cyclops', -0.010342598577892695], ['dadd', -0.010342598577892695], ['daguerreotype', -0.010342598577892695], ['daiquiri', -0.010342598577892695], ['dandi', -0.010342598577892695], ['dandl', -0.010342598577892695], ['danny', -0.010342598577892695], ['date', -0.010342598577892695], ['debas', -0.010342598577892695], ['brief', -0.010342598577892695], ['december', -0.010342598577892695], ['dec', -0.010342598577892695], ['cipher', -0.010342598577892695], ['claim', -0.010342598577892695], ['clam', -0.010342598577892695], ['declar', -0.010342598577892695], ['dedicat', -0.010342598577892695], ['defeat', -0.010342598577892695], ['defend', -0.010342598577892695], ['human', -0.010342598577892695], ['delud', -0.010342598577892695], ['moral', -0.010342598577892695], ['deplor', -0.010342598577892695], ['deput', -0.010342598577892695], ['derv', -0.010342598577892695], ['design', -0.010342598577892695], ['detract', -0.010342598577892695], ['valu', -0.010342598577892695], ['devi', -0.010342598577892695], ['anci', -0.010342598577892695], ['differ', -0.010342598577892695], ['dik', -0.010342598577892695], ['diplomat', -0.010342598577892695], ['orient', -0.010342598577892695], ['passion', -0.010342598577892695], ['dissolute', -0.010342598577892695], ['divorc', -0.010342598577892695], ['ee', -0.010342598577892695], ['domestic', -0.010342598577892695], ['dominat', -0.010342598577892695], ['clutch', -0.010342598577892695], ['drip', -0.010342598577892695], ['drum', -0.010342598577892695], ['drunk', -0.010342598577892695], ['dubbin', -0.010342598577892695], ['dude', -0.010342598577892695], ['duell', -0.010342598577892695], ['dump', -0.010342598577892695], ['duti', -0.010342598577892695], ['dynamic', -0.010342598577892695], ['ear', -0.010342598577892695], ['plug', -0.010342598577892695], ['eaves', -0.010342598577892695], ['egot', -0.010342598577892695], ['elect', -0.010342598577892695], ['eer', -0.010342598577892695], ['elevat', -0.010342598577892695], ['elite', -0.010342598577892695], ['boss', -0.010342598577892695], ['end', -0.010342598577892695], ['entitle', -0.010342598577892695], ['entitl', -0.010342598577892695], ['equal', -0.010342598577892695], ['equerry', -0.010342598577892695], ['equipp', -0.010342598577892695], ['eschew', -0.010342598577892695], ['espouse', -0.010342598577892695], ['estimat', -0.010342598577892695], ['ewer', -0.010342598577892695], ['exculpat', -0.010342598577892695], ['exit', -0.010342598577892695], ['exorbit', -0.010342598577892695], ['express', -0.010342598577892695], ['extreme', -0.010342598577892695], ['fair', -0.010342598577892695], ['fairy', -0.010342598577892695], ['land', -0.010342598577892695], ['fanci', -0.010342598577892695], ['farm', -0.010342598577892695], ['fawn', -0.010342598577892695], ['feast', -0.010342598577892695], ['fence', -0.010342598577892695], ['ferment', -0.010342598577892695], ['field', -0.010342598577892695], ['fig', -0.010342598577892695], ['leaf', -0.010342598577892695], ['film', -0.010342598577892695], ['final', -0.010342598577892695], ['eat', -0.010342598577892695], ['proof', -0.010342598577892695], ['storm', -0.010342598577892695], ['fizz', -0.010342598577892695], ['flambeau', -0.010342598577892695], ['fled', -0.010342598577892695], ['flirt', -0.010342598577892695], ['flitt', -0.010342598577892695], ['floe', -0.010342598577892695], ['fluff', -0.010342598577892695], ['fluid', -0.010342598577892695], ['flurri', -0.010342598577892695], ['fall', -0.010342598577892695], ['fopp', -0.010342598577892695], ['post', -0.010342598577892695], ['wheel', -0.010342598577892695], ['freight', -0.010342598577892695], ['frisian', -0.010342598577892695], ['frivol', -0.010342598577892695], ['frivolous', -0.010342598577892695], ['frolic', -0.010342598577892695], ['some', -0.010342598577892695], ['frown', -0.010342598577892695], ['frugal', -0.010342598577892695], ['further', -0.010342598577892695], ['galley', -0.010342598577892695], ['game', -0.010342598577892695], ['garbage', -0.010342598577892695], ['can', -0.010342598577892695], ['ify', -0.010342598577892695], ['light', -0.010342598577892695], ['crash', -0.010342598577892695], ['geese', -0.010342598577892695], ['gelding', -0.010342598577892695], ['german', -0.010342598577892695], ['giant', -0.010342598577892695], ['giraffe', -0.010342598577892695], ['giv', -0.010342598577892695], ['gladiator', -0.010342598577892695], ['glide', -0.010342598577892695], ['glower', -0.010342598577892695], ['glow', -0.010342598577892695], ['god', -0.010342598577892695], ['parent', -0.010342598577892695], ['gor', -0.010342598577892695], ['gourmand', -0.010342598577892695], ['gran', -0.010342598577892695], ['dad', -0.010342598577892695], ['griffon', -0.010342598577892695], ['gross', -0.010342598577892695], ['grow', -0.010342598577892695], ['gull', -0.010342598577892695], ['habitue', -0.010342598577892695], ['hagiographi', -0.010342598577892695], ['halo', -0.010342598577892695], ['hamlet', -0.010342598577892695], ['maid', -0.010342598577892695], ['pick', -0.010342598577892695], ['hap', -0.010342598577892695], ['harbour', -0.010342598577892695], ['harridan', -0.010342598577892695], ['lamp', -0.010342598577892695], ['heal', -0.010342598577892695], ['heap', -0.010342598577892695], ['broken', -0.010342598577892695], ['burn', -0.010342598577892695], ['heav', -0.010342598577892695], ['hebra', -0.010342598577892695], ['help', -0.010342598577892695], ['hemisphere', -0.010342598577892695], ['heron', -0.010342598577892695], ['hesse', -0.010342598577892695], ['hew', -0.010342598577892695], ['hi', -0.010342598577892695], ['fi', -0.010342598577892695], ['hik', -0.010342598577892695], ['hoar', -0.010342598577892695], ['home', -0.010342598577892695], ['homogenize', -0.010342598577892695], ['worm', -0.010342598577892695], ['horrid', -0.010342598577892695], ['horr', -0.010342598577892695], ['if', -0.010342598577892695], ['keeping', -0.010342598577892695], ['hugg', -0.010342598577892695], ['hydroponic', -0.010342598577892695], ['hydro', -0.010342598577892695], ['therapy', -0.010342598577892695], ['hyperbol', -0.010342598577892695], ['idem', -0.010342598577892695], ['idol', -0.010342598577892695], ['ignomini', -0.010342598577892695], ['omen', -0.010342598577892695], ['mutab', -0.010342598577892695], ['person', -0.010342598577892695], ['ponder', -0.010342598577892695], ['impregnable', -0.010342598577892695], ['improvis', -0.010342598577892695], ['accurate', -0.010342598577892695], ['incipient', -0.010342598577892695], ['incumb', -0.010342598577892695], ['digniti', -0.010342598577892695], ['felic', -0.010342598577892695], ['infidel', -0.010342598577892695], ['infinitive', -0.010342598577892695], ['ingot', -0.010342598577892695], ['ingredient', -0.010342598577892695], ['instigat', -0.010342598577892695], ['institut', -0.010342598577892695], ['insulat', -0.010342598577892695], ['chang', -0.010342598577892695], ['medi', -0.010342598577892695], ['ary', -0.010342598577892695], ['intimat', -0.010342598577892695], ['inundate', -0.010342598577892695], ['valid', -0.010342598577892695], ['violate', -0.010342598577892695], ['irony', -0.010342598577892695], ['jarr', -0.010342598577892695], ['jell-o', -0.010342598577892695], ['jogg', -0.010342598577892695], ['join', -0.010342598577892695], ['jok', -0.010342598577892695], ['joy', -0.010342598577892695], ['junction', -0.010342598577892695], ['jungle', -0.010342598577892695], ['junk', -0.010342598577892695], ['katydid', -0.010342598577892695], ['keel', -0.010342598577892695], ['haul', -0.010342598577892695], ['khan', -0.010342598577892695], ['kidd', -0.010342598577892695], ['kid', -0.010342598577892695], ['kip', -0.010342598577892695], ['kirk', -0.010342598577892695], ['kitchen', -0.010342598577892695], ['knead', -0.010342598577892695], ['knesset', -0.010342598577892695], ['knife', -0.010342598577892695], ['knock', -0.010342598577892695], ['knuckle', -0.010342598577892695], ['koran', -0.010342598577892695], ['laboratori', -0.010342598577892695], ['lachrymose', -0.010342598577892695], ['lady', -0.010342598577892695], ['bug', -0.010342598577892695], ['wing', -0.010342598577892695], ['larv', -0.010342598577892695], ['lega', -0.010342598577892695], ['ci', -0.010342598577892695], ['legg', -0.010342598577892695], ['libb', -0.010342598577892695], ['liberal', -0.010342598577892695], ['lick', -0.010342598577892695], ['life', -0.010342598577892695], ['linden', -0.010342598577892695], ['linguist', -0.010342598577892695], ['liquefy', -0.010342598577892695], ['litigate', -0.010342598577892695], ['loft', -0.010342598577892695], ['loon', -0.010342598577892695], ['lotus', -0.010342598577892695], ['louvr', -0.010342598577892695], ['louvre', -0.010342598577892695], ['low', -0.010342598577892695], ['key', -0.010342598577892695], ['luck', -0.010342598577892695], ['lurch', -0.010342598577892695], ['lye', -0.010342598577892695], ['machismo', -0.010342598577892695], ['magistrate', -0.010342598577892695], ['mal', -0.010342598577892695], ['nutrition', -0.010342598577892695], ['malt', -0.010342598577892695], ['ster', -0.010342598577892695], ['malversation', -0.010342598577892695], ['mandate', -0.010342598577892695], ['mangl', -0.010342598577892695], ['manicure', -0.010342598577892695], ['manicur', -0.010342598577892695], ['mantel', -0.010342598577892695], ['mascot', -0.010342598577892695], ['mathematic', -0.010342598577892695], ['matriarch', -0.010342598577892695], ['maxi', -0.010342598577892695], ['meadow', -0.010342598577892695], ['meditate', -0.010342598577892695], ['mediterranean', -0.010342598577892695], ['memento', -0.010342598577892695], ['menac', -0.010342598577892695], ['mere', -0.010342598577892695], ['method', -0.010342598577892695], ['mid', -0.010342598577892695], ['summer', -0.010342598577892695], ['migraine', -0.010342598577892695], ['militia', -0.010342598577892695], ['read', -0.010342598577892695], ['ministr', -0.010342598577892695], ['appropriate', -0.010342598577892695], ['fit', -0.010342598577892695], ['led', -0.010342598577892695], ['understand', -0.010342598577892695], ['mitigate', -0.010342598577892695], ['mitt', -0.010342598577892695], ['mixt', -0.010342598577892695], ['ure', -0.010342598577892695], ['modell', -0.010342598577892695], ['modific', -0.010342598577892695], ['moist', -0.010342598577892695], ['mood', -0.010342598577892695], ['moo', -0.010342598577892695], ['morn', -0.010342598577892695], ['mosque', -0.010342598577892695], ['mural', -0.010342598577892695], ['mush', -0.010342598577892695], ['muss', -0.010342598577892695], ['muzzle', -0.010342598577892695], ['muzzl', -0.010342598577892695], ['narrow', -0.010342598577892695], ['nasal', -0.010342598577892695], ['nature', -0.010342598577892695], ['navi', -0.010342598577892695], ['needle', -0.010342598577892695], ['negotiat', -0.010342598577892695], ['neighbour', -0.010342598577892695], ['net', -0.010342598577892695], ['nick', -0.010342598577892695], ['ninni', -0.010342598577892695], ['nipple', -0.010342598577892695], ['nobbl', -0.010342598577892695], ['noble', -0.010342598577892695], ['non-profit-making', -0.010342598577892695], ['nostalgia', -0.010342598577892695], ['nourish', -0.010342598577892695], ['nuisance', -0.010342598577892695], ['number', -0.010342598577892695], ['plate', -0.010342598577892695], ['numer', -0.010342598577892695], ['num', -0.010342598577892695], ['skull', -0.010342598577892695], ['nut', -0.010342598577892695], ['oak', -0.010342598577892695], ['oboe', -0.010342598577892695], ['office', -0.010342598577892695], ['omnivorous', -0.010342598577892695], ['opin', -0.010342598577892695], ['oppress', -0.010342598577892695], ['orb', -0.010342598577892695], ['ordain', -0.010342598577892695], ['come', -0.010342598577892695], ['law', -0.010342598577892695], ['balanc', -0.010342598577892695], ['burden', -0.010342598577892695], ['pal', -0.010342598577892695], ['pamphlet', -0.010342598577892695], ['pan', -0.010342598577892695], ['handl', -0.010342598577892695], ['pantheon', -0.010342598577892695], ['paprika', -0.010342598577892695], ['paragon', -0.010342598577892695], ['parasol', -0.010342598577892695], ['park', -0.010342598577892695], ['parliament', -0.010342598577892695], ['patriot', -0.010342598577892695], ['pea', -0.010342598577892695], ['peel', -0.010342598577892695], ['pegg', -0.010342598577892695], ['pellet', -0.010342598577892695], ['penetrate', -0.010342598577892695], ['pension', -0.010342598577892695], ['percept', -0.010342598577892695], ['ib', -0.010342598577892695], ['perch', -0.010342598577892695], ['perforat', -0.010342598577892695], ['persona', -0.010342598577892695], ['pervad', -0.010342598577892695], ['pest', -0.010342598577892695], ['phaeton', -0.010342598577892695], ['phi', -0.010342598577892695], ['copi', -0.010342598577892695], ['gravure', -0.010342598577892695], ['phrenolog', -0.010342598577892695], ['physiognomy', -0.010342598577892695], ['pianola', -0.010342598577892695], ['piano', -0.010342598577892695], ['picket', -0.010342598577892695], ['pieta', -0.010342598577892695], ['pig', -0.010342598577892695], ['let', -0.010342598577892695], ['pink', -0.010342598577892695], ['pith', -0.010342598577892695], ['pizza', -0.010342598577892695], ['plaice', -0.010342598577892695], ['plaid', -0.010342598577892695], ['pled', -0.010342598577892695], ['plenitude', -0.010342598577892695], ['plight', -0.010342598577892695], ['plopp', -0.010342598577892695], ['pluck', -0.010342598577892695], ['plumb', -0.010342598577892695], ['plush', -0.010342598577892695], ['polling', -0.010342598577892695], ['booth', -0.010342598577892695], ['poop', -0.010342598577892695], ['poppy', -0.010342598577892695], ['porn', -0.010342598577892695], ['praise', -0.010342598577892695], ['precarious', -0.010342598577892695], ['precede', -0.010342598577892695], ['prefect', -0.010342598577892695], ['premise', -0.010342598577892695], ['pack', -0.010342598577892695], ['prepar', -0.010342598577892695], ['pres', -0.010342598577892695], ['ur', -0.010342598577892695], ['prevaricat', -0.010342598577892695], ['prevent', -0.010342598577892695], ['prim', -0.010342598577892695], ['prize', -0.010342598577892695], ['fight', -0.010342598577892695], ['probabil', -0.010342598577892695], ['profan', -0.010342598577892695], ['prognoses', -0.010342598577892695], ['project', -0.010342598577892695], ['propagat', -0.010342598577892695], ['prophesy', -0.010342598577892695], ['prop', -0.010342598577892695], ['jet', -0.010342598577892695], ['prorog', -0.010342598577892695], ['proselyt', -0.010342598577892695], ['proud', -0.010342598577892695], ['provoking', -0.010342598577892695], ['psyche', -0.010342598577892695], ['psychiatr', -0.010342598577892695], ['puce', -0.010342598577892695], ['pugnac', -0.010342598577892695], ['pull', -0.010342598577892695], ['pullman', -0.010342598577892695], ['puls', -0.010342598577892695], ['punch', -0.010342598577892695], ['punic', -0.010342598577892695], ['punish', -0.010342598577892695], ['pun', -0.010342598577892695], ['pur', -0.010342598577892695], ['purport', -0.010342598577892695], ['push', -0.010342598577892695], ['quake', -0.010342598577892695], ['quango', -0.010342598577892695], ['quas', -0.010342598577892695], ['quiet', -0.010342598577892695], ['quinine', -0.010342598577892695], ['quixote', -0.010342598577892695], ['rack', -0.010342598577892695], ['car', -0.010342598577892695], ['raisin', -0.010342598577892695], ['ravine', -0.010342598577892695], ['align', -0.010342598577892695], ['real', -0.010342598577892695], ['ty', -0.010342598577892695], ['bind', -0.010342598577892695], ['build', -0.010342598577892695], ['commend', -0.010342598577892695], ['count', -0.010342598577892695], ['recrudesc', -0.010342598577892695], ['rectangle', -0.010342598577892695], ['dress', -0.010342598577892695], ['reek', -0.010342598577892695], ['face', -0.010342598577892695], ['referendum', -0.010342598577892695], ['regalia', -0.010342598577892695], ['region', -0.010342598577892695], ['relic', -0.010342598577892695], ['rent', -0.010342598577892695], ['repatriat', -0.010342598577892695], ['repeal', -0.010342598577892695], ['repell', -0.010342598577892695], ['republic', -0.010342598577892695], ['run', -0.010342598577892695], ['reserv', -0.010342598577892695], ['shuffl', -0.010342598577892695], ['resist', -0.010342598577892695], ['reson', -0.010342598577892695], ['respect', -0.010342598577892695], ['respons', -0.010342598577892695], ['ibil', -0.010342598577892695], ['took', -0.010342598577892695], ['revel', -0.010342598577892695], ['revere', -0.010342598577892695], ['revert', -0.010342598577892695], ['reviv', -0.010342598577892695], ['revok', -0.010342598577892695], ['revolt', -0.010342598577892695], ['ry', -0.010342598577892695], ['rigid', -0.010342598577892695], ['rising', -0.010342598577892695], ['road', -0.010342598577892695], ['robin', -0.010342598577892695], ['rodeo', -0.010342598577892695], ['rod', -0.010342598577892695], ['roll', -0.010342598577892695], ['rom', -0.010342598577892695], ['rough', -0.010342598577892695], ['rous', -0.010342598577892695], ['ruffle', -0.010342598577892695], ['ruin', -0.010342598577892695], ['rum', -0.010342598577892695], ['ruminat', -0.010342598577892695], ['rumpl', -0.010342598577892695], ['sabah', -0.010342598577892695], ['sackbut', -0.010342598577892695], ['safe', -0.010342598577892695], ['salad', -0.010342598577892695], ['sales', -0.010342598577892695], ['clerk', -0.010342598577892695], ['salon', -0.010342598577892695], ['salvo', -0.010342598577892695], ['sampl', -0.010342598577892695], ['sanitaria', -0.010342598577892695], ['saturn', -0.010342598577892695], ['saxon', -0.010342598577892695], ['scallop', -0.010342598577892695], ['scant', -0.010342598577892695], ['sceptic', -0.010342598577892695], ['schedule', -0.010342598577892695], ['schnitzel', -0.010342598577892695], ['schol', -0.010342598577892695], ['girl', -0.010342598577892695], ['mistress', -0.010342598577892695], ['scullion', -0.010342598577892695], ['se', -0.010342598577892695], ['legs', -0.010342598577892695], ['lion', -0.010342598577892695], ['borne', -0.010342598577892695], ['season', -0.010342598577892695], ['seasoning', -0.010342598577892695], ['secretari', -0.010342598577892695], ['seize', -0.010342598577892695], ['self', -0.010342598577892695], ['will', -0.010342598577892695], ['september', -0.010342598577892695], ['sequel', -0.010342598577892695], ['seychellois', -0.010342598577892695], ['sforzandi', -0.010342598577892695], ['shallow', -0.010342598577892695], ['shank', -0.010342598577892695], ['sheila', -0.010342598577892695], ['short', -0.010342598577892695], ['circuit', -0.010342598577892695], ['shower', -0.010342598577892695], ['swipe', -0.010342598577892695], ['siding', -0.010342598577892695], ['silent', -0.010342598577892695], ['silo', -0.010342598577892695], ['simulate', -0.010342598577892695], ['sin', -0.010342598577892695], ['ski', -0.010342598577892695], ['skimmed', -0.010342598577892695], ['milk', -0.010342598577892695], ['skulk', -0.010342598577892695], ['slack', -0.010342598577892695], ['sleazy', -0.010342598577892695], ['slice', -0.010342598577892695], ['slick', -0.010342598577892695], ['slott', -0.010342598577892695], ['slough', -0.010342598577892695], ['sniff', -0.010342598577892695], ['snook', -0.010342598577892695], ['soap', -0.010342598577892695], ['sol', -0.010342598577892695], ['ution', -0.010342598577892695], ['sopp', -0.010342598577892695], ['sou', -0.010342598577892695], ['speak', -0.010342598577892695], ['speculat', -0.010342598577892695], ['splash', -0.010342598577892695], ['stable', -0.010342598577892695], ['stalwart', -0.010342598577892695], ['starkers', -0.010342598577892695], ['state', -0.010342598577892695], ['station', -0.010342598577892695], ['statue', -0.010342598577892695], ['statu', -0.010342598577892695], ['steam', -0.010342598577892695], ['steril', -0.010342598577892695], ['sterna', -0.010342598577892695], ['steward', -0.010342598577892695], ['stint', -0.010342598577892695], ['store', -0.010342598577892695], ['strangul', -0.010342598577892695], ['stream', -0.010342598577892695], ['strode', -0.010342598577892695], ['stroll', -0.010342598577892695], ['sturdy', -0.010342598577892695], ['sequent', -0.010342598577892695], ['urban', -0.010342598577892695], ['suffici', -0.010342598577892695], ['suffix', -0.010342598577892695], ['sulph', -0.010342598577892695], ['ide', -0.010342598577892695], ['summari', -0.010342598577892695], ['summar', -0.010342598577892695], ['roof', -0.010342598577892695], ['surgeon', -0.010342598577892695], ['surli', -0.010342598577892695], ['sweet', -0.010342598577892695], ['switch', -0.010342598577892695], ['taboo', -0.010342598577892695], ['tackle', -0.010342598577892695], ['tally', -0.010342598577892695], ['tamp', -0.010342598577892695], ['tangible', -0.010342598577892695], ['tang', -0.010342598577892695], ['tarry', -0.010342598577892695], ['tast', -0.010342598577892695], ['tatt', -0.010342598577892695], ['tattl', -0.010342598577892695], ['taunt', -0.010342598577892695], ['taxi', -0.010342598577892695], ['teasel', -0.010342598577892695], ['ted', -0.010342598577892695], ['tele', -0.010342598577892695], ['temper', -0.010342598577892695], ['temporiz', -0.010342598577892695], ['tempt', -0.010342598577892695], ['tenable', -0.010342598577892695], ['tenor', -0.010342598577892695], ['terr', -0.010342598577892695], ['tete-a-tete', -0.010342598577892695], ['thanks', -0.010342598577892695], ['them', -0.010342598577892695], ['atic', -0.010342598577892695], ['theodolite', -0.010342598577892695], ['thresh', -0.010342598577892695], ['tie', -0.010342598577892695], ['timpan', -0.010342598577892695], ['tired', -0.010342598577892695], ['toil', -0.010342598577892695], ['tomato', -0.010342598577892695], ['ache', -0.010342598577892695], ['topaz', -0.010342598577892695], ['tornado', -0.010342598577892695], ['torpedo', -0.010342598577892695], ['tortur', -0.010342598577892695], ['tournament', -0.010342598577892695], ['tout', -0.010342598577892695], ['tow', -0.010342598577892695], ['to', -0.010342598577892695], ['towell', -0.010342598577892695], ['tract', -0.010342598577892695], ['traffick', -0.010342598577892695], ['tramp', -0.010342598577892695], ['le', -0.010342598577892695], ['transcend', -0.010342598577892695], ['transmogrific', -0.010342598577892695], ['trash', -0.010342598577892695], ['treasure', -0.010342598577892695], ['trellis', -0.010342598577892695], ['trend', -0.010342598577892695], ['trestle', -0.010342598577892695], ['table', -0.010342598577892695], ['triad', -0.010342598577892695], ['tribun', -0.010342598577892695], ['triplex', -0.010342598577892695], ['triumvir', -0.010342598577892695], ['truce', -0.010342598577892695], ['truck', -0.010342598577892695], ['trump', -0.010342598577892695], ['et', -0.010342598577892695], ['tug', -0.010342598577892695], ['tureen', -0.010342598577892695], ['twang', -0.010342598577892695], ['twin', -0.010342598577892695], ['twine', -0.010342598577892695], ['twit', -0.010342598577892695], ['ply', -0.010342598577892695], ['abridged', -0.010342598577892695], ['adopted', -0.010342598577892695], ['undertaking', -0.010342598577892695], ['undies', -0.010342598577892695], ['equivocal', -0.010342598577892695], ['heard', -0.010342598577892695], ['reserved', -0.010342598577892695], ['seeing', -0.010342598577892695], ['stairs', -0.010342598577892695], ['urchin', -0.010342598577892695], ['vacillat', -0.010342598577892695], ['vassal', -0.010342598577892695], ['vaudeville', -0.010342598577892695], ['ventriloqu', -0.010342598577892695], ['venue', -0.010342598577892695], ['vers', -0.010342598577892695], ['vice', -0.010342598577892695], ['regal', -0.010342598577892695], ['vicuna', -0.010342598577892695], ['vine', -0.010342598577892695], ['yard', -0.010342598577892695], ['volunteer', -0.010342598577892695], ['vote', -0.010342598577892695], ['vouch', -0.010342598577892695], ['saf', -0.010342598577892695], ['vulgar', -0.010342598577892695], ['walk', -0.010342598577892695], ['want', -0.010342598577892695], ['watch', -0.010342598577892695], ['water', -0.010342598577892695], ['course', -0.010342598577892695], ['wax', -0.010342598577892695], ['welsh', -0.010342598577892695], ['whin', -0.010342598577892695], ['whipp', -0.010342598577892695], ['whoop', -0.010342598577892695], ['wilton', -0.010342598577892695], ['winc', -0.010342598577892695], ['wipe', -0.010342598577892695], ['wis', -0.010342598577892695], ['dom', -0.010342598577892695], ['with', -0.010342598577892695], ['wit', -0.010342598577892695], ['witness', -0.010342598577892695], ['womb', -0.010342598577892695], ['worship', -0.010342598577892695], ['worshipp', -0.010342598577892695], ['wreak', -0.010342598577892695], ['yeti', -0.010342598577892695], ['yowl', -0.010342598577892695], ['zany', -0.010342598577892695], ['zenith', -0.010342598577892695], ['zodiac', -0.010342598577892695], ['zombie', -0.010342598577892695], ['compani', -0.009696186166774402], ['acquis', -0.009696186166774402], ['acupuncture', -0.009696186166774402], ['ad', -0.009696186166774402], ['speed', -0.009696186166774402], ['alter', -0.009696186166774402], ['any', -0.009696186166774402], ['archa', -0.009696186166774402], ['arch', -0.009696186166774402], ['deacon', -0.009696186166774402], ['arrange', -0.009696186166774402], ['onom', -0.009696186166774402], ['bad', -0.009696186166774402], ['ballet', -0.009696186166774402], ['bane', -0.009696186166774402], ['batiste', -0.009696186166774402], ['beach', -0.009696186166774402], ['bequeath', -0.009696186166774402], ['berth', -0.009696186166774402], ['be', -0.009696186166774402], ['bethel', -0.009696186166774402], ['betray', -0.009696186166774402], ['billi', -0.009696186166774402], ['bluster', -0.009696186166774402], ['boot', -0.009696186166774402], ['lace', -0.009696186166774402], ['bound', -0.009696186166774402], ['eous', -0.009696186166774402], ['by', -0.009696186166774402], ['pass', -0.009696186166774402], ['canker', -0.009696186166774402], ['capitulat', -0.009696186166774402], ['capsicum', -0.009696186166774402], ['ier', -0.009696186166774402], ['cauliflower', -0.009696186166774402], ['cent', -0.009696186166774402], ['centr', -0.009696186166774402], ['challeng', -0.009696186166774402], ['chart', -0.009696186166774402], ['cheek', -0.009696186166774402], ['chronic', -0.009696186166774402], ['clean', -0.009696186166774402], ['living', -0.009696186166774402], ['coffee', -0.009696186166774402], ['cognac', -0.009696186166774402], ['coin', -0.009696186166774402], ['iv', -0.009696186166774402], ['combust', -0.009696186166774402], ['consul', -0.009696186166774402], ['pilot', -0.009696186166774402], ['coterie', -0.009696186166774402], ['coxswain', -0.009696186166774402], ['cusp', -0.009696186166774402], ['dangle', -0.009696186166774402], ['defect', -0.009696186166774402], ['dictat', -0.009696186166774402], ['agree', -0.009696186166774402], ['proportion', -0.009696186166774402], ['regard', -0.009696186166774402], ['similar', -0.009696186166774402], ['taste', -0.009696186166774402], ['distill', -0.009696186166774402], ['do', -0.009696186166774402], ['double', -0.009696186166774402], ['duvet', -0.009696186166774402], ['earth', -0.009696186166774402], ['eating', -0.009696186166774402], ['ec', -0.009696186166774402], ['olog', -0.009696186166774402], ['elder', -0.009696186166774402], ['entreat', -0.009696186166774402], ['expletive', -0.009696186166774402], ['explor', -0.009696186166774402], ['ory', -0.009696186166774402], ['ex', -0.009696186166774402], ['extens', -0.009696186166774402], ['facet', -0.009696186166774402], ['hood', -0.009696186166774402], ['fame', -0.009696186166774402], ['felicit', -0.009696186166774402], ['fickle', -0.009696186166774402], ['fin', -0.009696186166774402], ['fistula', -0.009696186166774402], ['flabbergast', -0.009696186166774402], ['flat', -0.009696186166774402], ['folk', -0.009696186166774402], ['lore', -0.009696186166774402], ['ford', -0.009696186166774402], ['fore', -0.009696186166774402], ['saw', -0.009696186166774402], ['see', -0.009696186166774402], ['for', -0.009696186166774402], ['t', -0.009696186166774402], ['night', -0.009696186166774402], ['freak', -0.009696186166774402], ['fresh', -0.009696186166774402], ['gaiter', -0.009696186166774402], ['gawp', -0.009696186166774402], ['gibbon', -0.009696186166774402], ['gibraltar', -0.009696186166774402], ['gipsi', -0.009696186166774402], ['glad', -0.009696186166774402], ['goo', -0.009696186166774402], ['grocer', -0.009696186166774402], ['gum', -0.009696186166774402], ['halt', -0.009696186166774402], ['ham', -0.009696186166774402], ['hard', -0.009696186166774402], ['ware', -0.009696186166774402], ['not', -0.009696186166774402], ['heed', -0.009696186166774402], ['holograph', -0.009696186166774402], ['honduras', -0.009696186166774402], ['hot', -0.009696186166774402], ['hurricane', -0.009696186166774402], ['inan', -0.009696186166774402], ['describ', -0.009696186166774402], ['nation', -0.009696186166774402], ['iron', -0.009696186166774402], ['jazz', -0.009696186166774402], ['joll', -0.009696186166774402], ['lap', -0.009696186166774402], ['lay', -0.009696186166774402], ['about', -0.009696186166774402], ['ledge', -0.009696186166774402], ['limit', -0.009696186166774402], ['live', -0.009696186166774402], ['space', -0.009696186166774402], ['lord', -0.009696186166774402], ['lurid', -0.009696186166774402], ['madeira', -0.009696186166774402], ['mane', -0.009696186166774402], ['mantis', -0.009696186166774402], ['marsh', -0.009696186166774402], ['matrix', -0.009696186166774402], ['ab', -0.009696186166774402], ['meeting', -0.009696186166774402], ['middle', -0.009696186166774402], ['dist', -0.009696186166774402], ['mild', -0.009696186166774402], ['mizzen', -0.009696186166774402], ['molly', -0.009696186166774402], ['momma', -0.009696186166774402], ['money', -0.009696186166774402], ['phon', -0.009696186166774402], ['morale', -0.009696186166774402], ['ke', -0.009696186166774402], ['mov', -0.009696186166774402], ['negat', -0.009696186166774402], ['oil', -0.009696186166774402], ['rig', -0.009696186166774402], ['one', -0.009696186166774402], ['stay', -0.009696186166774402], ['oval', -0.009696186166774402], ['lapp', -0.009696186166774402], ['own', -0.009696186166774402], ['past', -0.009696186166774402], ['pastor', -0.009696186166774402], ['peri', -0.009696186166774402], ['suas', -0.009696186166774402], ['plectrum', -0.009696186166774402], ['pontific', -0.009696186166774402], ['poof', -0.009696186166774402], ['poor', -0.009696186166774402], ['pott', -0.009696186166774402], ['precept', -0.009696186166774402], ['dispos', -0.009696186166774402], ['profess', -0.009696186166774402], ['proviso', -0.009696186166774402], ['purr', -0.009696186166774402], ['put', -0.009696186166774402], ['putrefi', -0.009696186166774402], ['radio', -0.009696186166774402], ['refract', -0.009696186166774402], ['regress', -0.009696186166774402], ['rein', -0.009696186166774402], ['press', -0.009696186166774402], ['search', -0.009696186166774402], ['seat', -0.009696186166774402], ['right', -0.009696186166774402], ['rollick', -0.009696186166774402], ['romant', -0.009696186166774402], ['rowdi', -0.009696186166774402], ['sacrist', -0.009696186166774402], ['salt', -0.009696186166774402], ['sax', -0.009696186166774402], ['serpent', -0.009696186166774402], ['seven', -0.009696186166774402], ['town', -0.009696186166774402], ['shay', -0.009696186166774402], ['sheer', -0.009696186166774402], ['shenanigan', -0.009696186166774402], ['shogun', -0.009696186166774402], ['show', -0.009696186166774402], ['sicili', -0.009696186166774402], ['smooch', -0.009696186166774402], ['snob', -0.009696186166774402], ['standard', -0.009696186166774402], ['streak', -0.009696186166774402], ['suffuse', -0.009696186166774402], ['surviv', -0.009696186166774402], ['suture', -0.009696186166774402], ['swede', -0.009696186166774402], ['it', -0.009696186166774402], ['symbol', -0.009696186166774402], ['tape', -0.009696186166774402], ['tartar', -0.009696186166774402], ['timbre', -0.009696186166774402], ['toll', -0.009696186166774402], ['tot', -0.009696186166774402], ['totem', -0.009696186166774402], ['pole', -0.009696186166774402], ['transient', -0.009696186166774402], ['trespass', -0.009696186166774402], ['tri', -0.009696186166774402], ['trivial', -0.009696186166774402], ['try', -0.009696186166774402], ['tusk', -0.009696186166774402], ['grad', -0.009696186166774402], ['tak', -0.009696186166774402], ['seem', -0.009696186166774402], ['vanquish', -0.009696186166774402], ['vast', -0.009696186166774402], ['visa', -0.009696186166774402], ['like', -0.009696186166774402], ['wash', -0.009696186166774402], ['wedg', -0.009696186166774402], ['white', -0.009696186166774402], ['yeast', -0.009696186166774402], ['ag', -0.009696186166774402], ['side', -0.009696186166774402], ['clad', -0.009696186166774402], ['band', -0.009696186166774402], ['bear', -0.009696186166774402], ['skin', -0.009696186166774402], ['blink', -0.009696186166774402], ['bow', -0.009696186166774402], ['winn', -0.009696186166774402], ['fast', -0.009696186166774402], ['buffet', -0.009696186166774402], ['bull', -0.009696186166774402], ['cardinal', -0.009696186166774402], ['carri', -0.009696186166774402], ['chain', -0.009696186166774402], ['gang', -0.009696186166774402], ['cheer', -0.009696186166774402], ['conciliat', -0.009696186166774402], ['crimin', -0.009696186166774402], ['order', -0.009696186166774402], ['dressing', -0.009696186166774402], ['eel', -0.009696186166774402], ['power', -0.009696186166774402], ['l', -0.009696186166774402], ['cock', -0.009696186166774402], ['gas', -0.009696186166774402], ['graph', -0.009696186166774402], ['hitch', -0.009696186166774402], ['sure', -0.009696186166774402], ['ific', -0.009696186166774402], ['ette', -0.009696186166774402], ['boat', -0.009696186166774402], ['maroon', -0.009696186166774402], ['giving', -0.009696186166774402], ['nihil', -0.009696186166774402], ['throw', -0.009696186166774402], ['predict', -0.009696186166774402], ['rail', -0.009696186166774402], ['rational', -0.009696186166774402], ['ribald', -0.009696186166774402], ['sale', -0.009696186166774402], ['room', -0.009696186166774402], ['school', -0.009696186166774402], ['seri', -0.009696186166774402], ['lift', -0.009696186166774402], ['spread', -0.009696186166774402], ['squeak', -0.009696186166774402], ['squint', -0.009696186166774402], ['whisper', -0.009696186166774402], ['sun', -0.009696186166774402], ['tooth', -0.009696186166774402], ['ward', -0.009696186166774402], ['coat', -0.009696186166774402], ['two', -0.009696186166774402], ['waist', -0.009696186166774402], ['ac', -0.00904977375565611], ['ition', -0.00904977375565611], ['air', -0.00904977375565611], ['matter', -0.00904977375565611], ['off', -0.00904977375565611], ['bat', -0.00904977375565611], ['men', -0.00904977375565611], ['wear', -0.00904977375565611], ['bed', -0.00904977375565611], ['looking', -0.00904977375565611], ['bi', -0.00904977375565611], ['book', -0.00904977375565611], ['brush', -0.00904977375565611], ['wood', -0.00904977375565611], ['card', -0.00904977375565611], ['horse', -0.00904977375565611], ['coach', -0.00904977375565611], ['coddle', -0.00904977375565611], ['ible', -0.00904977375565611], ['co', -0.00904977375565611], ['ifi', -0.00904977375565611], ['cross', -0.00904977375565611], ['curator', -0.00904977375565611], ['frost', -0.00904977375565611], ['nud', -0.00904977375565611], ['ice', -0.00904977375565611], ['em', -0.00904977375565611], ['fault', -0.00904977375565611], ['flow', -0.00904977375565611], ['forward', -0.00904977375565611], ['fountain', -0.00904977375565611], ['four', -0.00904977375565611], ['furr', -0.00904977375565611], ['guard', -0.00904977375565611], ['shoe', -0.00904977375565611], ['string', -0.00904977375565611], ['ill', -0.00904977375565611], ['import', -0.00904977375565611], ['knee', -0.00904977375565611], ['launch', -0.00904977375565611], ['left', -0.00904977375565611], ['li', -0.00904977375565611], ['stock', -0.00904977375565611], ['lust', -0.00904977375565611], ['mast', -0.00904977375565611], ['o', -0.00904977375565611], ['stage', -0.00904977375565611], ['time', -0.00904977375565611], ['per', -0.00904977375565611], ['ar', -0.00904977375565611], ['pre', -0.00904977375565611], ['protest', -0.00904977375565611], ['prune', -0.00904977375565611], ['act', -0.00904977375565611], ['regulat', -0.00904977375565611], ['remorse', -0.00904977375565611], ['rock', -0.00904977375565611], ['round', -0.00904977375565611], ['score', -0.00904977375565611], ['board', -0.00904977375565611], ['th', -0.00904977375565611], ['stand', -0.00904977375565611], ['sub', -0.00904977375565611], ['point', -0.00904977375565611], ['toe', -0.00904977375565611], ['gate', -0.00904977375565611], ['train', -0.00904977375565611], ['turn', -0.00904977375565611], ['warm', -0.00904977375565611], ['woman', -0.00904977375565611], ['year', -0.00904977375565611], ['line', -0.00904977375565611], ['long', -0.00904977375565611], ['hold', -0.00904977375565611], ['im', -0.00904977375565611], ['pos', -0.00904977375565611], ['photo', -0.00904977375565611], ['sea', -0.00904977375565611], ['place', -0.008403361344537815], ['back', -0.008403361344537815], ['ite', -0.008403361344537815], ['shop', -0.008403361344537815], ['ari', -0.008403361344537815], ['ery', -0.008403361344537815], ['ence', -0.008403361344537815], ['ial', -0.008403361344537815], ['serv', -0.008403361344537815], ['on', -0.008403361344537815], ['fund', -0.008403361344537815], ['heart', -0.008403361344537815], ['inter', -0.008403361344537815], ['cap', -0.008403361344537815], ['motor', -0.008403361344537815], ['up', -0.008403361344537815], ['sip', -0.008403361344537815], ['test', -0.008403361344537815], ['mind', -0.008403361344537815], ['ency', -0.008403361344537815], ['hook', -0.008403361344537815], ['fire', -0.007756948933419522], ['part', -0.007756948933419522], ['ism', -0.007756948933419522], ['ally', -0.007756948933419522], ['ent', -0.007756948933419522], ['foot', -0.007756948933419522], ['ian', -0.007756948933419522], ['ical', -0.007756948933419522], ['hand', -0.007756948933419522], ['ance', -0.007756948933419522], ['ish', -0.007756948933419522], ['way', -0.007756948933419522], ['mis', -0.007756948933419522], ['a', -0.007110536522301228], ['en', -0.007110536522301228], ['head', -0.006464124111182934], ['ate', -0.006464124111182934], ['iti', -0.006464124111182934], ['ship', -0.006464124111182934], ['under', -0.006464124111182934], ['ous', -0.005817711700064641], ['ive', -0.005817711700064641], ['house', -0.005817711700064641], ['ity', -0.005817711700064641], ['ant', -0.005817711700064641], ['work', -0.005817711700064641], ['est', -0.005171299288946348], ['able', -0.005171299288946348], ['man', -0.005171299288946348], ['an', -0.004524886877828055], ['iz', -0.004524886877828055], ['out', -0.004524886877828055], ['over', -0.004524886877828055], ['ment', -0.003878474466709761], ['age', -0.003878474466709761], ['less', -0.003878474466709761], ['at', -0.003878474466709761], ['in', -0.003878474466709761], ['ful', -0.003232062055591467], ['y', -0.003232062055591467], ['dis', -0.003232062055591467], ['ize', -0.003232062055591467], ['de', -0.002585649644473174], ['ic', -0.0019392372333548805], ['ation', -0.001292824822236587], ['or', 0.0], ['i', 0.0], ['un', 0.0], ['al', 0.002585649644473174], ['re', 0.003232062055591467], ['ist', 0.005171299288946348], ['ness', 0.007110536522301228], ['ion', 0.009696186166774402], ['ly', 0.01874595992243051], ['es', 0.025856496444731737], ['-', 0.0400775694893342], ['er', 0.053652230122818355], [\"'\", 0.060762766645119586], ['ing', 0.06140917905623788], ['ed', 0.07045895281189399], [\"'s\", 0.11570782159017454], ['s', 0.28312863606981253]]\n"
          ]
        }
      ]
    },
    {
      "cell_type": "code",
      "source": [
        "def function_segments(text):\n",
        "  koef = 0\n",
        "  r = 0\n",
        "  segments = text.split('/')\n",
        "  for seg in segments:\n",
        "    for l in range(0, len(masseg)):\n",
        "      if masseg[l][0] == seg:\n",
        "        koef += masseg[l][1]\n",
        "        r += 1\n",
        "  return koef/r\n"
      ],
      "metadata": {
        "id": "NHvWuycWg1Q3"
      },
      "execution_count": null,
      "outputs": []
    },
    {
      "cell_type": "code",
      "source": [
        "df['seg_markup'] = df.markup.apply(function_segments)"
      ],
      "metadata": {
        "id": "xOd7PDPOiRrz"
      },
      "execution_count": null,
      "outputs": []
    },
    {
      "cell_type": "code",
      "source": [
        "df"
      ],
      "metadata": {
        "colab": {
          "base_uri": "https://localhost:8080/",
          "height": 423
        },
        "id": "xNpqmGbriiJu",
        "outputId": "a11a8128-927e-48a7-b5b0-ba7bdda0e5e1"
      },
      "execution_count": null,
      "outputs": [
        {
          "output_type": "execute_result",
          "data": {
            "text/plain": [
              "           original            markup        new_markup  seg_markup\n",
              "0       accompanied     ac/compani/ed     ac/compani/ed    0.017238\n",
              "1     accompaniment   ac/compani/ment   ac/compani/ment   -0.007541\n",
              "2     acknowledging   ac/knowledg/ing   ac/knowledg/ing    0.014006\n",
              "3       acquisition      acquis/ition      acquis/ition   -0.009373\n",
              "4     acquisitions'  acquis/ition/s/'  acquis/ition/s/'    0.081286\n",
              "...             ...               ...               ...         ...\n",
              "1689        yowling          yowl/ing          yowl/ing    0.025533\n",
              "1690         zany's           zany/'s           zany/'s    0.052683\n",
              "1691        zeniths          zenith/s          zenith/s    0.136393\n",
              "1692         zodiac            zodiac            zodiac   -0.010343\n",
              "1693       zombie's         zombie/'s         zombie/'s    0.052683\n",
              "\n",
              "[1694 rows x 4 columns]"
            ],
            "text/html": [
              "\n",
              "  <div id=\"df-f1d33bc0-1ecc-41f6-b4c7-95fab62a1038\">\n",
              "    <div class=\"colab-df-container\">\n",
              "      <div>\n",
              "<style scoped>\n",
              "    .dataframe tbody tr th:only-of-type {\n",
              "        vertical-align: middle;\n",
              "    }\n",
              "\n",
              "    .dataframe tbody tr th {\n",
              "        vertical-align: top;\n",
              "    }\n",
              "\n",
              "    .dataframe thead th {\n",
              "        text-align: right;\n",
              "    }\n",
              "</style>\n",
              "<table border=\"1\" class=\"dataframe\">\n",
              "  <thead>\n",
              "    <tr style=\"text-align: right;\">\n",
              "      <th></th>\n",
              "      <th>original</th>\n",
              "      <th>markup</th>\n",
              "      <th>new_markup</th>\n",
              "      <th>seg_markup</th>\n",
              "    </tr>\n",
              "  </thead>\n",
              "  <tbody>\n",
              "    <tr>\n",
              "      <th>0</th>\n",
              "      <td>accompanied</td>\n",
              "      <td>ac/compani/ed</td>\n",
              "      <td>ac/compani/ed</td>\n",
              "      <td>0.017238</td>\n",
              "    </tr>\n",
              "    <tr>\n",
              "      <th>1</th>\n",
              "      <td>accompaniment</td>\n",
              "      <td>ac/compani/ment</td>\n",
              "      <td>ac/compani/ment</td>\n",
              "      <td>-0.007541</td>\n",
              "    </tr>\n",
              "    <tr>\n",
              "      <th>2</th>\n",
              "      <td>acknowledging</td>\n",
              "      <td>ac/knowledg/ing</td>\n",
              "      <td>ac/knowledg/ing</td>\n",
              "      <td>0.014006</td>\n",
              "    </tr>\n",
              "    <tr>\n",
              "      <th>3</th>\n",
              "      <td>acquisition</td>\n",
              "      <td>acquis/ition</td>\n",
              "      <td>acquis/ition</td>\n",
              "      <td>-0.009373</td>\n",
              "    </tr>\n",
              "    <tr>\n",
              "      <th>4</th>\n",
              "      <td>acquisitions'</td>\n",
              "      <td>acquis/ition/s/'</td>\n",
              "      <td>acquis/ition/s/'</td>\n",
              "      <td>0.081286</td>\n",
              "    </tr>\n",
              "    <tr>\n",
              "      <th>...</th>\n",
              "      <td>...</td>\n",
              "      <td>...</td>\n",
              "      <td>...</td>\n",
              "      <td>...</td>\n",
              "    </tr>\n",
              "    <tr>\n",
              "      <th>1689</th>\n",
              "      <td>yowling</td>\n",
              "      <td>yowl/ing</td>\n",
              "      <td>yowl/ing</td>\n",
              "      <td>0.025533</td>\n",
              "    </tr>\n",
              "    <tr>\n",
              "      <th>1690</th>\n",
              "      <td>zany's</td>\n",
              "      <td>zany/'s</td>\n",
              "      <td>zany/'s</td>\n",
              "      <td>0.052683</td>\n",
              "    </tr>\n",
              "    <tr>\n",
              "      <th>1691</th>\n",
              "      <td>zeniths</td>\n",
              "      <td>zenith/s</td>\n",
              "      <td>zenith/s</td>\n",
              "      <td>0.136393</td>\n",
              "    </tr>\n",
              "    <tr>\n",
              "      <th>1692</th>\n",
              "      <td>zodiac</td>\n",
              "      <td>zodiac</td>\n",
              "      <td>zodiac</td>\n",
              "      <td>-0.010343</td>\n",
              "    </tr>\n",
              "    <tr>\n",
              "      <th>1693</th>\n",
              "      <td>zombie's</td>\n",
              "      <td>zombie/'s</td>\n",
              "      <td>zombie/'s</td>\n",
              "      <td>0.052683</td>\n",
              "    </tr>\n",
              "  </tbody>\n",
              "</table>\n",
              "<p>1694 rows × 4 columns</p>\n",
              "</div>\n",
              "      <button class=\"colab-df-convert\" onclick=\"convertToInteractive('df-f1d33bc0-1ecc-41f6-b4c7-95fab62a1038')\"\n",
              "              title=\"Convert this dataframe to an interactive table.\"\n",
              "              style=\"display:none;\">\n",
              "        \n",
              "  <svg xmlns=\"http://www.w3.org/2000/svg\" height=\"24px\"viewBox=\"0 0 24 24\"\n",
              "       width=\"24px\">\n",
              "    <path d=\"M0 0h24v24H0V0z\" fill=\"none\"/>\n",
              "    <path d=\"M18.56 5.44l.94 2.06.94-2.06 2.06-.94-2.06-.94-.94-2.06-.94 2.06-2.06.94zm-11 1L8.5 8.5l.94-2.06 2.06-.94-2.06-.94L8.5 2.5l-.94 2.06-2.06.94zm10 10l.94 2.06.94-2.06 2.06-.94-2.06-.94-.94-2.06-.94 2.06-2.06.94z\"/><path d=\"M17.41 7.96l-1.37-1.37c-.4-.4-.92-.59-1.43-.59-.52 0-1.04.2-1.43.59L10.3 9.45l-7.72 7.72c-.78.78-.78 2.05 0 2.83L4 21.41c.39.39.9.59 1.41.59.51 0 1.02-.2 1.41-.59l7.78-7.78 2.81-2.81c.8-.78.8-2.07 0-2.86zM5.41 20L4 18.59l7.72-7.72 1.47 1.35L5.41 20z\"/>\n",
              "  </svg>\n",
              "      </button>\n",
              "      \n",
              "  <style>\n",
              "    .colab-df-container {\n",
              "      display:flex;\n",
              "      flex-wrap:wrap;\n",
              "      gap: 12px;\n",
              "    }\n",
              "\n",
              "    .colab-df-convert {\n",
              "      background-color: #E8F0FE;\n",
              "      border: none;\n",
              "      border-radius: 50%;\n",
              "      cursor: pointer;\n",
              "      display: none;\n",
              "      fill: #1967D2;\n",
              "      height: 32px;\n",
              "      padding: 0 0 0 0;\n",
              "      width: 32px;\n",
              "    }\n",
              "\n",
              "    .colab-df-convert:hover {\n",
              "      background-color: #E2EBFA;\n",
              "      box-shadow: 0px 1px 2px rgba(60, 64, 67, 0.3), 0px 1px 3px 1px rgba(60, 64, 67, 0.15);\n",
              "      fill: #174EA6;\n",
              "    }\n",
              "\n",
              "    [theme=dark] .colab-df-convert {\n",
              "      background-color: #3B4455;\n",
              "      fill: #D2E3FC;\n",
              "    }\n",
              "\n",
              "    [theme=dark] .colab-df-convert:hover {\n",
              "      background-color: #434B5C;\n",
              "      box-shadow: 0px 1px 3px 1px rgba(0, 0, 0, 0.15);\n",
              "      filter: drop-shadow(0px 1px 2px rgba(0, 0, 0, 0.3));\n",
              "      fill: #FFFFFF;\n",
              "    }\n",
              "  </style>\n",
              "\n",
              "      <script>\n",
              "        const buttonEl =\n",
              "          document.querySelector('#df-f1d33bc0-1ecc-41f6-b4c7-95fab62a1038 button.colab-df-convert');\n",
              "        buttonEl.style.display =\n",
              "          google.colab.kernel.accessAllowed ? 'block' : 'none';\n",
              "\n",
              "        async function convertToInteractive(key) {\n",
              "          const element = document.querySelector('#df-f1d33bc0-1ecc-41f6-b4c7-95fab62a1038');\n",
              "          const dataTable =\n",
              "            await google.colab.kernel.invokeFunction('convertToInteractive',\n",
              "                                                     [key], {});\n",
              "          if (!dataTable) return;\n",
              "\n",
              "          const docLinkHtml = 'Like what you see? Visit the ' +\n",
              "            '<a target=\"_blank\" href=https://colab.research.google.com/notebooks/data_table.ipynb>data table notebook</a>'\n",
              "            + ' to learn more about interactive tables.';\n",
              "          element.innerHTML = '';\n",
              "          dataTable['output_type'] = 'display_data';\n",
              "          await google.colab.output.renderOutput(dataTable, element);\n",
              "          const docLink = document.createElement('div');\n",
              "          docLink.innerHTML = docLinkHtml;\n",
              "          element.appendChild(docLink);\n",
              "        }\n",
              "      </script>\n",
              "    </div>\n",
              "  </div>\n",
              "  "
            ]
          },
          "metadata": {},
          "execution_count": 16
        }
      ]
    },
    {
      "cell_type": "code",
      "source": [
        "sorted_df = df.sort_values(by='seg_markup')\n",
        "print(sorted_df)\n"
      ],
      "metadata": {
        "colab": {
          "base_uri": "https://localhost:8080/"
        },
        "id": "xkhEL4E1jv9A",
        "outputId": "ef0cc77d-41c7-4777-838d-83b53feb34e8"
      },
      "execution_count": null,
      "outputs": [
        {
          "output_type": "stream",
          "name": "stdout",
          "text": [
            "     original   markup new_markup  seg_markup\n",
            "1511   slough   slough     slough   -0.010343\n",
            "468   putrefy  putrefy    putrefy   -0.010343\n",
            "1045    giant    giant      giant   -0.010343\n",
            "1574   teasel   teasel     teasel   -0.010343\n",
            "813    caddie   caddie     caddie   -0.010343\n",
            "...       ...      ...        ...         ...\n",
            "502     rocks   rock/s     rock/s    0.137039\n",
            "1584    tests   test/s     test/s    0.137363\n",
            "552      sips    sip/s      sip/s    0.137363\n",
            "238     funds   fund/s     fund/s    0.137363\n",
            "284    houses  house/s    house/s    0.138655\n",
            "\n",
            "[1694 rows x 4 columns]\n"
          ]
        }
      ]
    },
    {
      "cell_type": "code",
      "source": [
        "Sseg = list()\n",
        "for koef in sorted_df['seg_markup']:\n",
        "  flag = 0\n",
        "  for l in range(0, len(Sseg)):\n",
        "    if koef == Sseg[l][0]:\n",
        "      Sseg[l][1] += 1\n",
        "      flag =1\n",
        "  if flag == 0:\n",
        "    Sseg.append([koef, 1])\n"
      ],
      "metadata": {
        "id": "6TBRkpFAsS3L"
      },
      "execution_count": null,
      "outputs": []
    },
    {
      "cell_type": "code",
      "source": [
        "Sseg"
      ],
      "metadata": {
        "id": "KfDj680MuIAc"
      },
      "execution_count": null,
      "outputs": []
    },
    {
      "cell_type": "code",
      "source": [
        "len(Sseg)"
      ],
      "metadata": {
        "colab": {
          "base_uri": "https://localhost:8080/"
        },
        "id": "67sp02eqwZgz",
        "outputId": "6b0ca05f-0df4-446d-b4a5-3af70fba42a7"
      },
      "execution_count": null,
      "outputs": [
        {
          "output_type": "execute_result",
          "data": {
            "text/plain": [
              "441"
            ]
          },
          "metadata": {},
          "execution_count": 24
        }
      ]
    },
    {
      "cell_type": "code",
      "source": [
        "m1 = int(len(Sseg)/10)"
      ],
      "metadata": {
        "id": "H99ijV70wy25"
      },
      "execution_count": null,
      "outputs": []
    },
    {
      "cell_type": "code",
      "source": [
        "MSeg = list()\n",
        "for i in range(0, m1):\n",
        "  MSeg.append(Sseg[i][0])"
      ],
      "metadata": {
        "id": "zZqWO9lZw-NY"
      },
      "execution_count": null,
      "outputs": []
    },
    {
      "cell_type": "code",
      "source": [
        "MSeg"
      ],
      "metadata": {
        "id": "0FAyCgxuxi7b"
      },
      "execution_count": null,
      "outputs": []
    },
    {
      "cell_type": "code",
      "source": [
        "import numpy as np"
      ],
      "metadata": {
        "id": "SnCeoaYmzOaG"
      },
      "execution_count": null,
      "outputs": []
    },
    {
      "cell_type": "code",
      "source": [
        "percent_10  = int(len(sorted_df) * 0.1)\n",
        "\n",
        "df_first_10_percent = sorted_df.iloc[:percent_10]"
      ],
      "metadata": {
        "id": "7Ezs9O2s252l"
      },
      "execution_count": null,
      "outputs": []
    },
    {
      "cell_type": "code",
      "source": [
        "percent_10  = int(len(sorted_df) * 0.1)\n",
        "\n",
        "df_first_20_percent = sorted_df.iloc[percent_10:percent_10*2]"
      ],
      "metadata": {
        "id": "n83tfSBF5uV9"
      },
      "execution_count": null,
      "outputs": []
    },
    {
      "cell_type": "code",
      "source": [
        "percent_10  = int(len(sorted_df) * 0.1)\n",
        "\n",
        "df_first_30_percent = sorted_df.iloc[percent_10*2:percent_10*3]"
      ],
      "metadata": {
        "id": "ZsorgeOV6tQQ"
      },
      "execution_count": null,
      "outputs": []
    },
    {
      "cell_type": "code",
      "source": [
        "percent_10  = int(len(sorted_df) * 0.1)\n",
        "\n",
        "df_first_40_percent = sorted_df.iloc[percent_10*3:percent_10*4]"
      ],
      "metadata": {
        "id": "GfnPdwYa6_Xa"
      },
      "execution_count": null,
      "outputs": []
    },
    {
      "cell_type": "code",
      "source": [
        "percent_10  = int(len(sorted_df) * 0.1)\n",
        "\n",
        "df_first_50_percent = sorted_df.iloc[percent_10*4:percent_10*5]"
      ],
      "metadata": {
        "id": "lbI9S7YG7VMx"
      },
      "execution_count": null,
      "outputs": []
    },
    {
      "cell_type": "code",
      "source": [
        "percent_10  = int(len(sorted_df) * 0.1)\n",
        "\n",
        "df_first_60_percent = sorted_df.iloc[percent_10*5:percent_10*6]"
      ],
      "metadata": {
        "id": "T1lmSzJ47Udh"
      },
      "execution_count": null,
      "outputs": []
    },
    {
      "cell_type": "code",
      "source": [
        "percent_10  = int(len(sorted_df) * 0.1)\n",
        "\n",
        "df_first_70_percent = sorted_df.iloc[percent_10*6:percent_10*7]"
      ],
      "metadata": {
        "id": "Sjuc9AhR7S_C"
      },
      "execution_count": null,
      "outputs": []
    },
    {
      "cell_type": "code",
      "source": [
        "percent_10  = int(len(sorted_df) * 0.1)\n",
        "\n",
        "df_first_80_percent = sorted_df.iloc[percent_10*7:percent_10*8]"
      ],
      "metadata": {
        "id": "b3etQyZe8QVi"
      },
      "execution_count": null,
      "outputs": []
    },
    {
      "cell_type": "code",
      "source": [
        "percent_10  = int(len(sorted_df) * 0.1)\n",
        "\n",
        "df_first_90_percent = sorted_df.iloc[percent_10*8:percent_10*9]"
      ],
      "metadata": {
        "id": "doPJtZSD8QCW"
      },
      "execution_count": null,
      "outputs": []
    },
    {
      "cell_type": "code",
      "source": [
        "percent_10  = int(len(sorted_df) * 0.1)\n",
        "\n",
        "df_first_100_percent = sorted_df.iloc[percent_10*9:]"
      ],
      "metadata": {
        "id": "C0etgcDf8PNk"
      },
      "execution_count": null,
      "outputs": []
    },
    {
      "cell_type": "code",
      "source": [
        "df_first_10_percent"
      ],
      "metadata": {
        "colab": {
          "base_uri": "https://localhost:8080/",
          "height": 423
        },
        "id": "gGPhrw-j44po",
        "outputId": "d8570659-7e40-45ce-c466-bfc50ec72da9"
      },
      "execution_count": null,
      "outputs": [
        {
          "output_type": "execute_result",
          "data": {
            "text/plain": [
              "         original       markup   new_markup  seg_markup\n",
              "1511       slough       slough       slough   -0.010343\n",
              "468       putrefy      putrefy      putrefy   -0.010343\n",
              "1045        giant        giant        giant   -0.010343\n",
              "1574       teasel       teasel       teasel   -0.010343\n",
              "813        caddie       caddie       caddie   -0.010343\n",
              "...           ...          ...          ...         ...\n",
              "830        celery       celery       celery   -0.010343\n",
              "32        aureola      aureola      aureola   -0.010343\n",
              "1351    prognoses    prognoses    prognoses   -0.010343\n",
              "826   catastrophe  catastrophe  catastrophe   -0.010343\n",
              "696      abrogate     abrogate     abrogate   -0.010343\n",
              "\n",
              "[169 rows x 4 columns]"
            ],
            "text/html": [
              "\n",
              "  <div id=\"df-9049cbd0-1be9-48a9-b29c-7fa15797e18f\">\n",
              "    <div class=\"colab-df-container\">\n",
              "      <div>\n",
              "<style scoped>\n",
              "    .dataframe tbody tr th:only-of-type {\n",
              "        vertical-align: middle;\n",
              "    }\n",
              "\n",
              "    .dataframe tbody tr th {\n",
              "        vertical-align: top;\n",
              "    }\n",
              "\n",
              "    .dataframe thead th {\n",
              "        text-align: right;\n",
              "    }\n",
              "</style>\n",
              "<table border=\"1\" class=\"dataframe\">\n",
              "  <thead>\n",
              "    <tr style=\"text-align: right;\">\n",
              "      <th></th>\n",
              "      <th>original</th>\n",
              "      <th>markup</th>\n",
              "      <th>new_markup</th>\n",
              "      <th>seg_markup</th>\n",
              "    </tr>\n",
              "  </thead>\n",
              "  <tbody>\n",
              "    <tr>\n",
              "      <th>1511</th>\n",
              "      <td>slough</td>\n",
              "      <td>slough</td>\n",
              "      <td>slough</td>\n",
              "      <td>-0.010343</td>\n",
              "    </tr>\n",
              "    <tr>\n",
              "      <th>468</th>\n",
              "      <td>putrefy</td>\n",
              "      <td>putrefy</td>\n",
              "      <td>putrefy</td>\n",
              "      <td>-0.010343</td>\n",
              "    </tr>\n",
              "    <tr>\n",
              "      <th>1045</th>\n",
              "      <td>giant</td>\n",
              "      <td>giant</td>\n",
              "      <td>giant</td>\n",
              "      <td>-0.010343</td>\n",
              "    </tr>\n",
              "    <tr>\n",
              "      <th>1574</th>\n",
              "      <td>teasel</td>\n",
              "      <td>teasel</td>\n",
              "      <td>teasel</td>\n",
              "      <td>-0.010343</td>\n",
              "    </tr>\n",
              "    <tr>\n",
              "      <th>813</th>\n",
              "      <td>caddie</td>\n",
              "      <td>caddie</td>\n",
              "      <td>caddie</td>\n",
              "      <td>-0.010343</td>\n",
              "    </tr>\n",
              "    <tr>\n",
              "      <th>...</th>\n",
              "      <td>...</td>\n",
              "      <td>...</td>\n",
              "      <td>...</td>\n",
              "      <td>...</td>\n",
              "    </tr>\n",
              "    <tr>\n",
              "      <th>830</th>\n",
              "      <td>celery</td>\n",
              "      <td>celery</td>\n",
              "      <td>celery</td>\n",
              "      <td>-0.010343</td>\n",
              "    </tr>\n",
              "    <tr>\n",
              "      <th>32</th>\n",
              "      <td>aureola</td>\n",
              "      <td>aureola</td>\n",
              "      <td>aureola</td>\n",
              "      <td>-0.010343</td>\n",
              "    </tr>\n",
              "    <tr>\n",
              "      <th>1351</th>\n",
              "      <td>prognoses</td>\n",
              "      <td>prognoses</td>\n",
              "      <td>prognoses</td>\n",
              "      <td>-0.010343</td>\n",
              "    </tr>\n",
              "    <tr>\n",
              "      <th>826</th>\n",
              "      <td>catastrophe</td>\n",
              "      <td>catastrophe</td>\n",
              "      <td>catastrophe</td>\n",
              "      <td>-0.010343</td>\n",
              "    </tr>\n",
              "    <tr>\n",
              "      <th>696</th>\n",
              "      <td>abrogate</td>\n",
              "      <td>abrogate</td>\n",
              "      <td>abrogate</td>\n",
              "      <td>-0.010343</td>\n",
              "    </tr>\n",
              "  </tbody>\n",
              "</table>\n",
              "<p>169 rows × 4 columns</p>\n",
              "</div>\n",
              "      <button class=\"colab-df-convert\" onclick=\"convertToInteractive('df-9049cbd0-1be9-48a9-b29c-7fa15797e18f')\"\n",
              "              title=\"Convert this dataframe to an interactive table.\"\n",
              "              style=\"display:none;\">\n",
              "        \n",
              "  <svg xmlns=\"http://www.w3.org/2000/svg\" height=\"24px\"viewBox=\"0 0 24 24\"\n",
              "       width=\"24px\">\n",
              "    <path d=\"M0 0h24v24H0V0z\" fill=\"none\"/>\n",
              "    <path d=\"M18.56 5.44l.94 2.06.94-2.06 2.06-.94-2.06-.94-.94-2.06-.94 2.06-2.06.94zm-11 1L8.5 8.5l.94-2.06 2.06-.94-2.06-.94L8.5 2.5l-.94 2.06-2.06.94zm10 10l.94 2.06.94-2.06 2.06-.94-2.06-.94-.94-2.06-.94 2.06-2.06.94z\"/><path d=\"M17.41 7.96l-1.37-1.37c-.4-.4-.92-.59-1.43-.59-.52 0-1.04.2-1.43.59L10.3 9.45l-7.72 7.72c-.78.78-.78 2.05 0 2.83L4 21.41c.39.39.9.59 1.41.59.51 0 1.02-.2 1.41-.59l7.78-7.78 2.81-2.81c.8-.78.8-2.07 0-2.86zM5.41 20L4 18.59l7.72-7.72 1.47 1.35L5.41 20z\"/>\n",
              "  </svg>\n",
              "      </button>\n",
              "      \n",
              "  <style>\n",
              "    .colab-df-container {\n",
              "      display:flex;\n",
              "      flex-wrap:wrap;\n",
              "      gap: 12px;\n",
              "    }\n",
              "\n",
              "    .colab-df-convert {\n",
              "      background-color: #E8F0FE;\n",
              "      border: none;\n",
              "      border-radius: 50%;\n",
              "      cursor: pointer;\n",
              "      display: none;\n",
              "      fill: #1967D2;\n",
              "      height: 32px;\n",
              "      padding: 0 0 0 0;\n",
              "      width: 32px;\n",
              "    }\n",
              "\n",
              "    .colab-df-convert:hover {\n",
              "      background-color: #E2EBFA;\n",
              "      box-shadow: 0px 1px 2px rgba(60, 64, 67, 0.3), 0px 1px 3px 1px rgba(60, 64, 67, 0.15);\n",
              "      fill: #174EA6;\n",
              "    }\n",
              "\n",
              "    [theme=dark] .colab-df-convert {\n",
              "      background-color: #3B4455;\n",
              "      fill: #D2E3FC;\n",
              "    }\n",
              "\n",
              "    [theme=dark] .colab-df-convert:hover {\n",
              "      background-color: #434B5C;\n",
              "      box-shadow: 0px 1px 3px 1px rgba(0, 0, 0, 0.15);\n",
              "      filter: drop-shadow(0px 1px 2px rgba(0, 0, 0, 0.3));\n",
              "      fill: #FFFFFF;\n",
              "    }\n",
              "  </style>\n",
              "\n",
              "      <script>\n",
              "        const buttonEl =\n",
              "          document.querySelector('#df-9049cbd0-1be9-48a9-b29c-7fa15797e18f button.colab-df-convert');\n",
              "        buttonEl.style.display =\n",
              "          google.colab.kernel.accessAllowed ? 'block' : 'none';\n",
              "\n",
              "        async function convertToInteractive(key) {\n",
              "          const element = document.querySelector('#df-9049cbd0-1be9-48a9-b29c-7fa15797e18f');\n",
              "          const dataTable =\n",
              "            await google.colab.kernel.invokeFunction('convertToInteractive',\n",
              "                                                     [key], {});\n",
              "          if (!dataTable) return;\n",
              "\n",
              "          const docLinkHtml = 'Like what you see? Visit the ' +\n",
              "            '<a target=\"_blank\" href=https://colab.research.google.com/notebooks/data_table.ipynb>data table notebook</a>'\n",
              "            + ' to learn more about interactive tables.';\n",
              "          element.innerHTML = '';\n",
              "          dataTable['output_type'] = 'display_data';\n",
              "          await google.colab.output.renderOutput(dataTable, element);\n",
              "          const docLink = document.createElement('div');\n",
              "          docLink.innerHTML = docLinkHtml;\n",
              "          element.appendChild(docLink);\n",
              "        }\n",
              "      </script>\n",
              "    </div>\n",
              "  </div>\n",
              "  "
            ]
          },
          "metadata": {},
          "execution_count": 19
        }
      ]
    },
    {
      "cell_type": "code",
      "source": [
        "df_first_100_percent[['original', 'new_markup']].to_csv('new_eng10.txt', sep='\\t', index=False, header=False)"
      ],
      "metadata": {
        "id": "14lOLC4P5CvE"
      },
      "execution_count": null,
      "outputs": []
    },
    {
      "cell_type": "code",
      "source": [
        "Statseg[3][1]"
      ],
      "metadata": {
        "colab": {
          "base_uri": "https://localhost:8080/"
        },
        "id": "gu-U_F8SccW2",
        "outputId": "20f6d12a-3fd5-4268-dd9c-58a79549b7c6"
      },
      "execution_count": null,
      "outputs": [
        {
          "output_type": "execute_result",
          "data": {
            "text/plain": [
              "53"
            ]
          },
          "metadata": {},
          "execution_count": 28
        }
      ]
    },
    {
      "cell_type": "code",
      "source": [
        "nonrep_words = list()\n",
        "for text in df['original']:\n",
        "  words = text.split()\n",
        "  for word in words: \n",
        "    if word in nonrep_words:\n",
        "      pass\n",
        "    else:\n",
        "      nonrep_words.append(word) "
      ],
      "metadata": {
        "id": "5p6A109ZzRAQ"
      },
      "execution_count": null,
      "outputs": []
    },
    {
      "cell_type": "code",
      "source": [
        "mas = [0] * len(nonrep_words) \n",
        "for i in range(len(nonrep_words)): \n",
        "    mas[i] = [0] * 2"
      ],
      "metadata": {
        "id": "fVRIcN2Qr6vo"
      },
      "execution_count": null,
      "outputs": []
    },
    {
      "cell_type": "code",
      "source": [
        "for i in range(0, len(mas)):\n",
        "  k = nonrep_words[i]\n",
        "  mas[i][0] = k\n",
        "  for text in df['original']:\n",
        "    words = text.split()\n",
        "    for word in words: \n",
        "      if word == mas[i][0]:\n",
        "        mas[i][1] +=1\n",
        "print(mas)"
      ],
      "metadata": {
        "colab": {
          "base_uri": "https://localhost:8080/"
        },
        "id": "gK0qFSRlpTug",
        "outputId": "f200dbc6-e398-4ec2-954e-96d7a2320ba6"
      },
      "execution_count": null,
      "outputs": [
        {
          "output_type": "stream",
          "name": "stdout",
          "text": [
            "[['амаравкэваратэн', 3], ['таа’койӈын', 1], ['йъйыӄык', 1], ['ныӄэԓпэратӄэн', 1], ['вытэчгытрыӄэргыԓьын', 1], ['йыӈэттэт', 2], ['мыкыӈ', 1], ['нывытрэтӄин', 1], ['чеԓгатвытрыԓьо', 1], ['ынӄорыым', 2], ['вытэчгытрыԓьо', 1], ['ныӄэргавыӈоӄэн', 1], ['нычеԓгъав', 1], ['ыԓьыԓе', 1], ['ыннаны', 1], ['гэнниӈэвԓин', 1], ['аэродром', 2], ['эԓгыкъаԓейпыгъат', 1], ['пыԓвынтымытӄыёчгыт', 1], ['эвыр', 6], ['оттыраӄагтэ', 2], ['ыԓьыԓ', 2], ['нэмыӄэй', 4], ['ӄынур', 20], ['амаԓваӈ', 7], ['нынъэԓӄин', 1], ['нычеԓгатӄэн', 1], ['нывытэчгытратӄэн', 1], ['аэродромык', 2], ['рымагты', 2], ['нувпэраӄэн', 1], ['гытгын', 6], ['пытӄы', 1], ['нывытрэтӄинэт', 1], ['маёԓгыт', 1], ['ынӈытэӄ', 1], ['наӄам', 2], ['чит', 3], ['гакыткытръоԓен', 1], ['маёԓгэпы', 1], ['гапыԓьыԓьатыӈоԓенат', 1], ['вээмӄэгти', 1], ['гатыԓгыӈӈоԓен', 2], ['энмэч', 16], ['уйӈэ', 4], ['эгиԓкэ', 2], ['гэнъэтԓин', 2], ['ԓюур', 3], ['нэмэ', 12], ['маччьачаӈатыӈогъэ', 2], ['ӈыронъыԓёк', 2], ['ԓёӈпаата', 2], ['пиӈэтык', 2], ['ԓьэԓеӈръугъи', 2], ['эквыргаым', 14], ['ӄонпы', 5], ['гапааԓен', 2], ['ӄитык', 2], ['гамгаярак', 1], ['оравэтԓьат', 7], ['гэйыԓӄэтԓинэт', 1], ['ытръэч', 9], ['ыннанрак', 1], ['нымэйӈъэв', 4], ['нынныԓьык', 2], ['аэровокзаԓык', 1], ['панэна', 2], ['нынԓетӄин', 1], ['ээк', 1], ['тытԓык', 1], ['ӄача', 2], ['нытвэтчатваӄэнат', 1], ['ӈирэӄ', 3], ['риӈэнэӈэткуԓьын', 2], ['савин', 4], ['ынкъам', 52], ['ыттъувги', 8], ['йыӈаё', 2], ['ынан', 20], ['тэԓенъеп', 7], ['нэнъатчаӄэн', 1], ['танрэӈаӈ', 1], ['ваԓьын', 11], ['ыԓёӈэт', 2], ['ынӄэн', 22], ['мэсӄупӄыԓьын', 1], ['ԓыгъоравэтԓьан', 1], ['ӄорагынрэтавэръыԓьын', 1], ['ытԓён', 26], ['нивӄин', 2], ['пэтԓе', 3], ['рэпиӈэръугъэ', 2], ['мэԓӄырым', 2], ['татԓыгнэн', 2], ['савинына', 3], ['игыр', 7], ['вэтыӄун', 2], ['мытрэриӈэгъэ', 2], ['нъэԓгъи', 3], ['ԓыги', 8], ['ӄорагынрэтыԓьыт', 1], ['мачванэван', 1], ['ныԓганэнат', 1], ['ӈаргынэнатватык', 1], ['ԓыԓепыткугъи', 1], ['гыргоԓягты', 1], ['татԓыӈыткогъэ', 1], ['ныпиӈэръугъэн', 1], ['киткит', 2], ['пиӈэпиӈ', 1], ['мурык', 2], ['айыԓгыкэгты', 1], ['вэнԓыги', 1], ['мачоратвагъат', 1], ['ытри', 8], ['авъеткынка', 3], ['вэтчатвак', 1], ['гэтама', 1], ['таӈпэрайыӈаттат', 1], ['ваԓьыт', 4], ['кыргычьыт', 2], ['ныймэтваӄэнат', 1], ['йъык', 1], ['ыргин', 1], ['выргыргын', 1], ['нэрэтӄин', 1], ['гыргоԓяйпы', 1], ['нотасӄэты', 1], ['выргыргэтыркын', 2], ['кытыйгын', 2], ['выяԓятыркын', 1], ['ӄэйвэ', 3], ['вэтгыры', 2], ['вагъэ', 1], ['танӈыткогты', 1], ['иквъи', 9], ['нивӄинэт', 2], ['гым', 11], ['еп', 13], ['ӈинӄэю', 1], ['вама', 3], ['ыныкит', 3], ['выёпчак', 1], ['ӈирэнрыԓгэ', 1], ['гынан', 8], ['ынкы', 5], ['мури', 3], ['ныппыԓюмури', 2], ['аԓваӈ', 5], ['рэнъэԓгъэ', 1], ['игырым', 1], ['ӄырым', 7], ['ӈаргынэн', 1], ['тэӈэвыргыргыкэ', 1], ['нытваӄэн', 4], ['тэӈэнвыргыргэвкэ', 1], ['таӈымыԓьо', 2], ['нъэԓыркын', 1], ['ԓымӈэ', 5], ['ымнутэйиквик', 2], ['йыԓӄэтыркыт', 1], ['тэӈуйӈэ', 1], ['имыръэнут', 4], ['амыргынан', 1], ['ӈотӄэнат', 1], ['ыԓьыԓти', 1], ['эпԓыткукэ', 2], ['чиниткин', 3], ['вэтгав', 3], ['мэӈӄо', 1], ['наваԓёмгъан', 1], ['ыттъин', 2], ['тавтав', 2], ['апԓёратвака', 1], ['маёԓгыеквэ', 1], ['вытрэтгъи', 1], ['магԓяԓьын', 1], ['ынӄоры', 2], ['тагратыӈогъэ', 1], ['гыроԓмакы', 2], ['танэн', 1], ['чывинин', 1], ['чекавэтываӄ', 1], ['нывиԓгъи', 1], ['орааканԓятыԓьык', 1], ['ярак', 2], ['торваԓёма', 1], ['ӈытоӈӈогъат', 1], ['ягнанво', 1], ['вуԓӄытвипыкитԓьэт', 1], ['рэмкыԓьыт', 1], ['ыргынан', 3], ['накамԓеԓтагъан', 1], ['ынин', 4], ['оргоор', 1], ['орвэпы', 1], ['ӄутгъи', 1], ['эквынпыначгын', 1], ['коԓё', 6], ['мэпэӈъивэтыԓьын', 1], ['ԓеԓют', 1], ['риԓвыт', 1], ['ԓыԓяргыт', 1], ['гъаӈойпыԓенат', 1], ['ӄъэԓитвыгъи', 1], ['нэԓьугъэн', 1], ['оравэтԓьата', 2], ['иԓгыкырвир', 1], ['анойпыԓьын', 1], ['ынпыначгын', 7], ['гатаӈавэръэпыԓен', 1], ['крычмыма', 1], ['ынык', 2], ['ныркувӄэн', 1], ['ԓымгиръын', 1], ['ӄоранаԓгэн', 1], ['яаԓеӈӄач', 1], ['ниԓгиӄэтӄин', 1], ['имчьэчукин', 1], ['нэԓгын', 1], ['пэнаӄаԓгын', 1], ['ынпыначгык', 1], ['гыткак', 1], ['торпанраӄонагтэ', 1], ['чечот', 1], ['ынӈин', 11], ['эвиръыт', 1], ['атымӈэйпыка', 1], ['нынтыӄинэт', 1], ['ынӄэната', 4], ['таӈаԓкыԓыӈ', 1], ['энмэн', 8], ['раӄэты', 1], ['энаача', 1], ['гаторавэръэпыԓен', 1], ['ивкэ', 1], ['еттык', 1], ['гагԓеты', 1], ['пынԓёнэнат', 1], ['мэчынкы', 4], ['гымнан', 16], ['трэԓьуӈын', 1], ['этԓы', 5], ['эриӈэкыԓьин', 2], ['чинит', 8], ['ыттъувгинэ', 1], ['нымэԓӄин', 2], ['мырковъентогъэ', 1], ['рамынноӈэты', 2], ['мынгаймэтыӈонэнат', 1], ['ыныкорвык', 1], ['камԓеԓтаткоԓьыт', 1], ['йыӄӄайым', 1], ['ныпытӄивӄин', 1], ['нычимгъуйгым', 1], ['вэчьым', 4], ['риӈэгъи', 1], ['гымнин', 3], ['нынны', 1], ['гэмавъе', 19], ['трэԓьуӈыркын', 1], ['ӄиквыткы', 1], ['рэԓьуӈыркынин', 1], ['гэмавъена', 26], ['нымытваԓьа', 2], ['коԓхозык', 2], ['эргыръон', 2], ['мынԓьувыԓгымык', 1], ['тумгигыт', 1], ['гэмавъей', 6], ['вай', 4], ['ыттувйигым', 1], ['тэԓенъепкин', 1], ['ымыԓьорык', 2], ['ԓынъё', 1], ['ваӈӄыттамэнӈыԓьын', 4], ['нытумгыԓьэтӄин', 1], ['гынниӈӈыттыԓьык', 1], ['мэмыԓына', 12], ['гэтумгэ', 1], ['таӈыннаны', 1], ['янорым', 1], ['ачгыта', 3], ['нынымытваӄэнат', 1], ['чамаым', 2], ['вэты', 1], ['ыԓгу', 1], ['ныԓгыӄин', 1], ['тамэнӈатгыргын', 1], ['йъаратым', 1], ['ваӈӄыттамэнӈатгыргын', 2], ['ӈыроӄавыкым', 1], ['гэӈэквъиԓинэт', 1], ['гэнмэйӈэвԓин', 1], ['экык', 6], ['мэмыԓынаым', 1], ['ӈээкык', 1], ['ӈыраӄавыкым', 1], ['ӈутку', 3], ['нъэԓгъэт', 1], ['амӄынъычо', 2], ['нывакъотваӄэн', 2], ['кытэ', 1], ['ныԓьуӄин', 1], ['миӈкыри', 8], ['ванэван', 2], ['ныԓӄытын', 1], ['нымнымгыпы', 1], ['пууръу', 1], ['мэмыԓ', 6], ['ныӄивриԓьэтӄин', 1], ['ԓымынкы', 2], ['вак', 1], ['пэнин', 2], ['айӈавъё', 1], ['эвын', 1], ['ымы', 10], ['энааԓьык', 1], ['поԓярнык', 1], ['станцияк', 1], ['ымыым', 1], ['йъарат', 1], ['ыяа', 2], ['нымытваԓьык', 1], ['чычеткинэк', 1], ['мэмыԓым', 2], ['ныпычвэтгавӄэн', 1], ['ынӄэнат', 2], ['вагыргыт', 1], ['нэнанъомравыткоӄэнат', 1], ['тантомгыԓьатгыргэты', 1], ['нитчыӄин', 1], ['мигчир', 5], ['ныкимыӄин', 1], ['таӈычьыгыргын', 1], ['титэ', 4], ['тумгытум', 4], ['амымӈыԓтэԓԓьан', 1], ['амрапаԓёмтэԓӈыԓьын', 1], ['мэгчеранма', 1], ['амрамӈыԓтэԓӈыԓьын', 1], ['нэнатвыӄэн', 2], ['ԓьоо', 2], ['ваԓёмъё', 1], ['ръэнут', 4], ['гэкэԓиԓин', 1], ['книгак', 1], ['агтыкаԓегъёԓяткыԓьэн', 1], ['ӈээккэтэ', 1], ['тэгрыӈэнэ', 2], ['нэнанымӈыԓявӄэн', 4], ['гамгакаԓевэтгавъё', 1], ['книга', 1], ['кытваӈӄытык', 1], ['нинэтэйкыӄин', 1], ['майӈырынныԓьын', 1], ['ирэмъетыԓьын', 2], ['ӄораӈы', 2], ['тайкыма', 3], ['рынныӄач', 3], ['яачыӈкэн', 2], ['гыннэӈыттыгыргын', 2], ['армачьатгыргыт', 2], ['гайаватэн', 2], ['чама', 3], ['ӈавтыӈгыргын', 2], ['ӄуԓинымнымкин', 2], ['механикэн', 2], ['ӈэвысӄэтык', 2], ['кыԓиныгйивэтыԓьык', 2], ['нина', 4], ['ивановна', 4], ['нытэӈычьэтӄин', 2], ['паԓёмтэԓык', 2], ['аԓымы', 5], ['механик', 2], ['геройтэ', 2], ['пыӈыԓкэн', 2], ['песня', 2], ['о', 2], ['гайавате', 2], ['вытку', 5], ['нэнаваԓёмӄэнат', 2], ['ӄынвэрым', 2], ['мытэймэвмык', 1], ['иам', 1], ['ныкитэ', 3], ['пыкиргъи', 1], ['эмрэԓьуӈэ', 1], ['амтымӈэ', 1], ['анкэтъоӈатка', 1], ['тынтыгъэн', 2], ['гайавата', 1], ['пыӈыԓ', 1], ['ынӈинвуԓӄытвик', 1], ['ӄорэн', 1], ['тэӈвытку', 1], ['ваԓёмнэн', 1], ['америкаԓьыргэн', 1], ['индейцаргэн', 1], ['пэтыпыӈыԓ', 1], ['ынӈот', 1], ['эчги', 3], ['нычеэкэвӄинэт', 1], ['нытааӄоӄэнат', 1], ['ыннантаакойӈа', 1], ['ӄырымэнат', 1], ['маравыԓьыԓӄыԓтэ', 1], ['ыргичгу', 1], ['нымэԓьэв', 4], ['нымытвак', 1], ['ваԓын', 1], ['вагыргын', 4], ['тывъё', 3], ['мэмыԓын', 1], ['ныркыԓеӄин', 1], ['индейцыԓьырык', 1], ['наӄамым', 1], ['ымыԓьо', 3], ['нымытваԓьырык', 1], ['америкак', 1], ['чемгъойпы', 1], ['руԓтыгъи', 1], ['гатваԓен', 4], ['рамӈыԓява', 1], ['эвытԓым', 2], ['ръапыӈыԓ', 1], ['нынымӈыԓявӄэн', 1], ['оптытъар', 2], ['ынанъяачы', 1], ['тывыткоԓьа', 1], ['ыттъыёԓкэнак', 1], ['тывыткоԓьык', 1], ['ганымӈыԓявԓен', 1], ['тэгрыӈэ', 2], ['экэԓиткусӄивкэ', 1], ['риӈэнэӈэтэ', 1], ['хабаровскагты', 2], ['пыӈыԓтэԓ', 1], ['гэмо', 4], ['маԓытчыё', 1], ['ӄун', 4], ['нымкыӄин', 1], ['пыӈыԓтэ', 1], ['нэнатвыӄэнат', 2], ['ӄоԓетъыԓё', 1], ['рымӈыԓявнэн', 3], ['иӈӄун', 6], ['москвак', 1], ['ратвагъа', 3], ['омакатгыргын', 1], ['конференция', 1], ['амаравкэтагъяӈыԓьэн', 1], ['тыӈэвыёно', 1], ['деԓегат', 3], ['чукоткайпы', 1], ['ритгъэ', 1], ['таӈӄорагынрэтыԓьын', 1], ['ыттувги', 2], ['ԓыгивуԓӄытвик', 1], ['рагтыпԓыткок', 1], ['чемгъоӈогъэ', 1], ['рыпэт', 2], ['ныԓвавӄэн', 1], ['йыԓӄэтык', 1], ['эргыръотагнэты', 1], ['тырэнӈивыӈын', 1], ['ыттувъейпы', 1], ['амарав', 1], ['кэваратэн', 1], ['таакойӈын', 11], ['чимгъупԓыткугъи', 1], ['тырэтэйкыӈын', 1], ['ынантаӈычьын', 1], ['микынэ', 1], ['эԓьукыԓьин', 1], ['тырэкэԓиӈын', 1], ['чемгъоӈӈогъэ', 2], ['гэмгэтэминӈыԓьэ', 1], ['чимгъунин', 1], ['рэкэԓигнин', 1], ['таакойӈык', 3], ['инъэ', 2], ['капчачавыӈогъэ', 1], ['эты', 1], ['рэӄивриԓтэтгъэ', 1], ['акваттагнэты', 1], ['тыӈэвыё', 1], ['эквэтгъи', 3], ['нымнымэты', 1], ['эмрэтчыӈэ', 1], ['рэквэтгъэ', 1], ['ыттувйи', 3], ['ԓюнԓьутэ', 1], ['рыннин', 2], ['эргыпӄорагынрэтыԓьын', 1], ['гаӈаԓвыԓьыма', 1], ['етыԓьыԓӄыԓ', 1], ['ӈэръамытԓыӈэн', 1], ['ыԓёӈэттэ', 2], ['гаԓяпԓыткок', 1], ['эквэтыԓьыԓӄыԓым', 1], ['москвагты', 2], ['йъиԓгын', 2], ['тэԓпык', 1], ['нанымӈыԓяквъан', 1], ['правԓенияк', 1], ['пэԓӄынтэтгъи', 2], ['ярагты', 1], ['онтымавэты', 1], ['ыннэнйъиԓгык', 1], ['рэтэйкыгнин', 3], ['гэчимгъуԓьин', 1], ['амынан', 1], ['амтаакойӈын', 1], ['нытвагъан', 1], ['ынкыри', 1], ['ԓым', 1], ['рырамавъёчгын', 5], ['ынӄэным', 2], ['ваԓьыԓӄыԓ', 1], ['таӈкаԓеӈ', 1], ['ынръам', 1], ['раԓьонъёԓӄыԓ', 1], ['ваӈӄыт', 13], ['чимгъуу', 1], ['нинэԓгыӄин', 2], ['майӈырыркэн', 1], ['гивиӈитти', 1], ['яаԓ', 1], ['каннайына', 2], ['гынниӈӈыттыԓьэ', 1], ['уӈииԓьэ', 1], ['коԓхозкэнак', 1], ['ԓенин', 2], ['ганмыԓен', 1], ['ԓыгэмайӈырыркы', 1], ['тыӈивынин', 2], ['ынӈэнкоԓхозэты', 1], ['коԓхоз', 1], ['ӈирэӄӄԓиккин', 1], ['киԓометрмэԓ', 1], ['урэԓьу', 1], ['коԓхозгыпы', 1], ['эккэтэ', 2], ['куннин', 1], ['таӈгыннэӈӈыттыԓьэпы', 1], ['ыннэн', 3], ['ынӈэн', 1], ['ваӈӄытгыпы', 1], ['гэтэйкыԓин', 2], ['нытэӈӄин', 1], ['тайкыгыргын', 1], ['ваӈӄытык', 2], ['ынанмайӈычьын', 1], ['картина', 1], ['гэнӈивыԓин', 1], ['ӄэвииръу', 1], ['стаԓинына', 1], ['вэтыӄуным', 1], ['ԓьооԓӄыԓ', 1], ['коԓхозэты', 1], ['нынныԓьэты', 1], ['ивнин', 2], ['эвнэпичгычьэткэ', 1], ['нитгъэн', 1], ['корма', 1], ['ӈыроча', 1], ['кивыпԓыткук', 1], ['аваӈӄытка', 1], ['ӈирэӄэв', 1], ['гапэԓятԓен', 1], ['мэкына', 1], ['аӄайыԓыӈ', 1], ['рыпаӈъэвӈытовыпԓыткок', 1], ['ыттъыт', 1], ['какомэй', 1], ['нъэнӄэтӄин', 1], ['пыӈыԓтэԓык', 1], ['тайкыё', 3], ['аккагты', 1], ['ыԓгытомгэты', 1], ['ԓёӈытва', 1], ['нинэнтыӄин', 1], ['йынатыӈонэн', 1], ['кытъаткэ', 1], ['гынниӈӈыттыԓьын', 1], ['ныгтачьатӄэн', 1], ['амрантанъымӈычвынӈа', 1], ['рырэсӄивэннин', 1], ['раԓкогты', 1], ['миӈкы', 1], ['ныймэтваӄэн', 1], ['ытръэчым', 2], ['йытԓёԓӄыԓ', 2], ['ӄуттиым', 1], ['тэгъеӈу', 1], ['ԓыӈкы', 1], ['ӄыркургынэт', 1], ['ӄутти', 1], ['варкыт', 1], ['ӈанӄэнат', 1], ['ныппыԓюӄинэт', 1], ['рэӄуым', 1], ['йымэтваркын', 1], ['ӄытвыгын', 1], ['вэчгыргын', 1], ['энӄэтыркын', 1], ['опопы', 1], ['мытвыгъан', 1], ['ынӈэ', 3], ['ԓюнрэпириӈэ', 1], ['тынтыркынэт', 1], ['гынин', 8], ['манэт', 3], ['нымкыче', 1], ['тиквыт', 1], ['ӄырымэн', 2], ['кэтъоёԓӄыԓ', 1], ['моонэн', 1], ['анъяк', 1], ['каннай', 7], ['тычичевыркын', 1], ['гыт', 3], ['чичевыркын', 1], ['атав', 1], ['тиквъэк', 1], ['нэнаратвыӈэгым', 1], ['айыԓгыкэчьатгыргын', 1], ['тамэнӈычьатгыргын', 1], ['гынниӈӈыттык', 1], ['нинивӄин', 1], ['аԓвагты', 1], ['гыннэӈӈыттыгыргыкэн', 1], ['кэтъоёԓгын', 1], ['ынанъыттъыёԓкэн', 1], ['ваӈӄыткэн', 1], ['котъён', 1], ['гынык', 1], ['рымэгчеравма', 1], ['чимгъуну', 1], ['нинэԓгигыт', 2], ['томгыԓьатгыргын', 1], ['варатэн', 1], ['чинитым', 1], ['рытчыгъэн', 1], ['уӈииԓьыт', 3], ['рытчынэт', 1], ['ӈэнку', 3], ['йыԓынэт', 1], ['морыкы', 1], ['тъыԓгыгъэн', 1], ['рэӄу', 1], ['рэтэйкыӈын', 1], ['тъыпиринэт', 1], ['ӄэгԓынангэт', 3], ['ԓюнчимгъутэ', 1], ['гитигым', 1], ['ԓюнрэнъээвӈэ', 1], ['тынтыгыт', 1], ['ӄыпаагэ', 2], ['анӈэначьатык', 1], ['гымыкы', 1], ['этрэркурӈынин', 1], ['гыннэӈӈыттываԓы', 1], ['ынантаӈпыԓвынтэн', 1], ['трэтэйкыӈын', 1], ['кэԓийыӄуйгын', 1], ['ынӈэнваԓягты', 1], ['вэԓынкыӄун', 1], ['ԓёнйъота', 1], ['ӄэвииръын', 1], ['нытэӈъэв', 1], ['нытаваӈӄынӈэгыт', 1], ['аткэвма', 1], ['оравэтԓьэн', 1], ['чимгъун', 3], ['омрыӈ', 1], ['каннайым', 1], ['анӈэначьатэты', 1], ['ԓыԓяпыткоӈӈогъэ', 1], ['ваӈӄытыӈӄачагты', 1], ['рэнмык', 1], ['йымэтваԓьэты', 1], ['ӄынвэр', 1], ['вэймэну', 1], ['тыԓгыркын', 1], ['аатгыргын', 1], ['ԓюнрэнйыркэвӈэ', 1], ['тынтыркын', 1], ['тыкычгэпын', 1], ['тивыркын', 1], ['мынамманаӈат', 1], ['ӈирэмури', 1], ['тэнтумгу', 1], ['тывыӈонэн', 1], ['ратайкынъё', 1], ['каннайынаым', 1], ['рывиривнин', 1], ['ранмэпы', 1], ['рыԓьэтэннин', 1], ['орвэты', 1], ['акватыԓьэты', 1], ['рэпԓыткуӈын', 1], ['рэнԓьэтэнӈын', 1], ['ыттувъена', 1], ['ӄынинъэйвыгын', 1], ['мачынан', 1], ['нивнинэт', 3], ['омакатынвык', 1], ['конференцияк', 1], ['советкэн', 1], ['вараттэ', 1], ['ԓёнрамаравӈа', 1], ['итыркыт', 1], ['майӈывараттэ', 1], ['мъавараттэ', 1], ['мэйӈэԓьын', 1], ['россэԓьыварат', 1], ['мъаварат', 2], ['ԓыгъоравэтԓьат', 2], ['ԓыгэн', 2], ['энанъяка', 2], ['ԓьунин', 2], ['маԓкоргавыԓьын', 2], ['эмӄитпымигчирэтэ', 1], ['ԓыгнин', 1], ['чывипыт', 1], ['гаԓяԓьын', 1], ['кэтэм', 1], ['таӈгаймавык', 1], ['рымӈыԓявнэнат', 1], ['винвэ', 1], ['аӄантыӈ', 1], ['каԓегырга', 1], ['чимгъут', 1], ['ԓыгаԓгыргыт', 1], ['ваӈкыттамэнӈыԓьэн', 1], ['ныԓгэргавӄэн', 1], ['нэнакачьаранъяӄэн', 1], ['тэминӈэтыԓьэ', 1], ['нинэйыԓӄин', 1], ['ыныкы', 1], ['иӄумиӈкыри', 1], ['йъын', 1], ['ӈайыткын', 1], ['мэчнытэминӈыӄин', 1], ['таваӈӄынӈык', 1], ['нэкэм', 1], ['тэйкык', 1], ['танӈавэты', 1], ['эквырга', 3], ['турэймэвкы', 1], ['итчымигчир', 1], ['ԓёӈӄыръачета', 1], ['нитӄин', 1], ['рээн', 1], ['айпэчгыткынык', 1], ['энаёчгык', 1], ['гэтэйкыԓинэт', 1], ['гамгавараткэнат', 1], ['ныԓеӄинэт', 1], ['нынрыӄинэт', 1], ['ынӈэнкыргычьык', 1], ['гэкэԓиԓинэт', 1], ['вэтгавыт', 2], ['гэмгэйиԓымиԓ', 1], ['амаравкэгыргын', 1], ['нинэрэкэԓиӈӄин', 1], ['ваԓьыеԓымэԓ', 1], ['руссиԓьымиԓ', 1], ['ԓыгъоравэтԓьаеԓымэԓ', 1], ['уӈииԓьымиԓ', 1], ['винрэннин', 1], ['каԓеткорак', 1], ['каԓеныгъёԓявыԓьэпы', 1], ['рытчынин', 1], ['ныкэԓиӄин', 1], ['ангԓияԓьыеԓымэԓ', 1], ['немцаԓьыеԓымэԓ', 1], ['каԓеткоракэнайпыым', 1], ['гынрыратыԓьэпы', 1], ['кабицкайпы', 1], ['поԓякыԓьымэԓ', 1], ['нывинрэтӄин', 1], ['ӄуԓимигчирык', 1], ['нинэԓьумыткуӄин', 1], ['рымъян', 1], ['койӈыԓявыт', 1], ['нинэнчеэкэвӄинэт', 1], ['энаёчгыт', 1], ['пԓыткооттэ', 1], ['пԓыткома', 1], ['ӈыроӄав', 1], ['недеԓя', 1], ['ымыԓьэты', 1], ['гэпԓыткуԓин', 1], ['ӈыраӄычьэты', 1], ['ёнэн', 1], ['энаёчгычыко', 1], ['недеԓяк', 1], ['ԓёӈыгтота', 1], ['ынӄоым', 1], ['йытонэн', 3], ['рычичьэннин', 1], ['нычимгъуӄин', 2], ['рэпиригнин', 2], ['чывиткунэӈ', 2], ['ратанкавӈыӈӈогнэн', 2], ['тэминӈыԓьэ', 2], ['йыръэннин', 2], ['таата', 2], ['качьарэты', 2], ['йыԓнин', 3], ['натааӄогъан', 1], ['ӈирэнԓеӈу', 1], ['ынӈэнтаакойӈа', 1], ['нъытааӄонат', 1], ['мытԓыӈэн', 1], ['ынантаагытԓечьыт', 1], ['ынӄо', 1], ['рагтыгъэ', 1], ['рыгъевнин', 1], ['гаԓяк', 1], ['гэквэтԓин', 1], ['мычвынъёԓгын', 1], ['ӄэйыӄын', 1], ['въэӈык', 1], ['риӈэнэӈ', 2], ['рэӈама', 1], ['каԓеткосӄэвынво', 1], ['атчанэн', 1], ['ръэтгыпыԓьын', 1], ['деԓегатык', 1], ['ԓыгэёанмачы', 1], ['атчакэн', 1], ['яраӈы', 1], ['эмэйӈыкыԓьин', 1], ['номӄэн', 1], ['ныӄэргыӄэн', 1], ['ковԓёкы', 1], ['стоԓык', 1], ['нывакъотваӄэнат', 1], ['ӄоԓ', 1], ['эԓгываԓӄыԓыргыԓьын', 1], ['нывэтчатваӄэнат', 1], ['ӈыроӄ', 1], ['йыӈаёттэ', 1], ['мигчитԓьэт', 1], ['аэропортакэн', 1], ['энаёчгын', 1], ['нынчичьэтӄинэт', 1], ['энэчгытэты', 1], ['нэнанмытԓыӈӄавӄэн', 1], ['пирик', 1], ['эмӄынгитэк', 1], ['нинэԓьуӄинэт', 1], ['турыԓьыт', 1], ['каԓегыргыт', 1], ['эԓьукэ', 1], ['рытъёттэ', 1], ['ыттъыёԓ', 1], ['ԓыԓет', 1], ['нунтымӄинэт', 1], ['мэԓпэӈъивэтыԓьыт', 1], ['майӈыръэтгыпы', 1], ['курык', 1], ['чимгъучыку', 1], ['крычмын', 1], ['гэчимгъуԓин', 1], ['ниничгытӄинэт', 1], ['ымнымытваӈэт', 1], ['мынԓьугъэн', 1], ['тэӈэԓьын', 1], ['аэропортармагты', 1], ['нъытвагъан', 1], ['ӈээӄ', 1], ['таӈычьатгыргын', 1], ['аӄатвагырга', 1], ['эвинрэткэ', 1], ['эпиӈэръукэ', 1], ['нъитгъэн', 1], ['нъыйъоткогъан', 2], ['тривӈыркынигыт', 2], ['таӈнымытвагыргын', 2], ['маԓӄырымэн', 2], ['америкаԓьэн', 2], ['тычимгъуркын', 2], ['индейцаԓьыргэн', 2], ['нырэӄыным', 1], ['нэнапаԓёмтэԓӄэнат', 1]]\n"
          ]
        }
      ]
    },
    {
      "cell_type": "code",
      "source": [
        "len(mas)"
      ],
      "metadata": {
        "colab": {
          "base_uri": "https://localhost:8080/"
        },
        "id": "VQfTJacp4knG",
        "outputId": "5f32d4ba-56fa-4ef2-ed50-e3d87d30b4e2"
      },
      "execution_count": null,
      "outputs": [
        {
          "output_type": "execute_result",
          "data": {
            "text/plain": [
              "891"
            ]
          },
          "metadata": {},
          "execution_count": 31
        }
      ]
    },
    {
      "cell_type": "code",
      "source": [
        "for l in range(0, len(mas)):\n",
        "  for m in range(0, len(mas)-1):\n",
        "    if mas[m][1] > mas[m + 1][1]:\n",
        "      t =  mas[m]\n",
        "      mas[m] = mas[m + 1]\n",
        "      mas[m + 1] = t\n",
        "print(mas)"
      ],
      "metadata": {
        "colab": {
          "base_uri": "https://localhost:8080/"
        },
        "id": "u5RiL1xDuAUX",
        "outputId": "1e3c7b04-1da9-46d2-f381-a7b34d8f44a6"
      },
      "execution_count": null,
      "outputs": [
        {
          "output_type": "stream",
          "name": "stdout",
          "text": [
            "[['таа’койӈын', 1], ['йъйыӄык', 1], ['ныӄэԓпэратӄэн', 1], ['вытэчгытрыӄэргыԓьын', 1], ['мыкыӈ', 1], ['нывытрэтӄин', 1], ['чеԓгатвытрыԓьо', 1], ['вытэчгытрыԓьо', 1], ['ныӄэргавыӈоӄэн', 1], ['нычеԓгъав', 1], ['ыԓьыԓе', 1], ['ыннаны', 1], ['гэнниӈэвԓин', 1], ['эԓгыкъаԓейпыгъат', 1], ['пыԓвынтымытӄыёчгыт', 1], ['нынъэԓӄин', 1], ['нычеԓгатӄэн', 1], ['нывытэчгытратӄэн', 1], ['нувпэраӄэн', 1], ['пытӄы', 1], ['нывытрэтӄинэт', 1], ['маёԓгыт', 1], ['ынӈытэӄ', 1], ['гакыткытръоԓен', 1], ['маёԓгэпы', 1], ['гапыԓьыԓьатыӈоԓенат', 1], ['вээмӄэгти', 1], ['гамгаярак', 1], ['гэйыԓӄэтԓинэт', 1], ['ыннанрак', 1], ['аэровокзаԓык', 1], ['нынԓетӄин', 1], ['ээк', 1], ['тытԓык', 1], ['нытвэтчатваӄэнат', 1], ['нэнъатчаӄэн', 1], ['танрэӈаӈ', 1], ['мэсӄупӄыԓьын', 1], ['ԓыгъоравэтԓьан', 1], ['ӄорагынрэтавэръыԓьын', 1], ['ӄорагынрэтыԓьыт', 1], ['мачванэван', 1], ['ныԓганэнат', 1], ['ӈаргынэнатватык', 1], ['ԓыԓепыткугъи', 1], ['гыргоԓягты', 1], ['татԓыӈыткогъэ', 1], ['ныпиӈэръугъэн', 1], ['пиӈэпиӈ', 1], ['айыԓгыкэгты', 1], ['вэнԓыги', 1], ['мачоратвагъат', 1], ['вэтчатвак', 1], ['гэтама', 1], ['таӈпэрайыӈаттат', 1], ['ныймэтваӄэнат', 1], ['йъык', 1], ['ыргин', 1], ['выргыргын', 1], ['нэрэтӄин', 1], ['гыргоԓяйпы', 1], ['нотасӄэты', 1], ['выяԓятыркын', 1], ['вагъэ', 1], ['танӈыткогты', 1], ['ӈинӄэю', 1], ['выёпчак', 1], ['ӈирэнрыԓгэ', 1], ['рэнъэԓгъэ', 1], ['игырым', 1], ['ӈаргынэн', 1], ['тэӈэвыргыргыкэ', 1], ['тэӈэнвыргыргэвкэ', 1], ['нъэԓыркын', 1], ['йыԓӄэтыркыт', 1], ['тэӈуйӈэ', 1], ['амыргынан', 1], ['ӈотӄэнат', 1], ['ыԓьыԓти', 1], ['мэӈӄо', 1], ['наваԓёмгъан', 1], ['апԓёратвака', 1], ['маёԓгыеквэ', 1], ['вытрэтгъи', 1], ['магԓяԓьын', 1], ['тагратыӈогъэ', 1], ['танэн', 1], ['чывинин', 1], ['чекавэтываӄ', 1], ['нывиԓгъи', 1], ['орааканԓятыԓьык', 1], ['торваԓёма', 1], ['ӈытоӈӈогъат', 1], ['ягнанво', 1], ['вуԓӄытвипыкитԓьэт', 1], ['рэмкыԓьыт', 1], ['накамԓеԓтагъан', 1], ['оргоор', 1], ['орвэпы', 1], ['ӄутгъи', 1], ['эквынпыначгын', 1], ['мэпэӈъивэтыԓьын', 1], ['ԓеԓют', 1], ['риԓвыт', 1], ['ԓыԓяргыт', 1], ['гъаӈойпыԓенат', 1], ['ӄъэԓитвыгъи', 1], ['нэԓьугъэн', 1], ['иԓгыкырвир', 1], ['анойпыԓьын', 1], ['гатаӈавэръэпыԓен', 1], ['крычмыма', 1], ['ныркувӄэн', 1], ['ԓымгиръын', 1], ['ӄоранаԓгэн', 1], ['яаԓеӈӄач', 1], ['ниԓгиӄэтӄин', 1], ['имчьэчукин', 1], ['нэԓгын', 1], ['пэнаӄаԓгын', 1], ['ынпыначгык', 1], ['гыткак', 1], ['торпанраӄонагтэ', 1], ['чечот', 1], ['эвиръыт', 1], ['атымӈэйпыка', 1], ['нынтыӄинэт', 1], ['таӈаԓкыԓыӈ', 1], ['раӄэты', 1], ['энаача', 1], ['гаторавэръэпыԓен', 1], ['ивкэ', 1], ['еттык', 1], ['гагԓеты', 1], ['пынԓёнэнат', 1], ['трэԓьуӈын', 1], ['ыттъувгинэ', 1], ['мырковъентогъэ', 1], ['мынгаймэтыӈонэнат', 1], ['ыныкорвык', 1], ['камԓеԓтаткоԓьыт', 1], ['йыӄӄайым', 1], ['ныпытӄивӄин', 1], ['нычимгъуйгым', 1], ['риӈэгъи', 1], ['нынны', 1], ['трэԓьуӈыркын', 1], ['ӄиквыткы', 1], ['рэԓьуӈыркынин', 1], ['мынԓьувыԓгымык', 1], ['тумгигыт', 1], ['ыттувйигым', 1], ['тэԓенъепкин', 1], ['ԓынъё', 1], ['нытумгыԓьэтӄин', 1], ['гынниӈӈыттыԓьык', 1], ['гэтумгэ', 1], ['таӈыннаны', 1], ['янорым', 1], ['нынымытваӄэнат', 1], ['вэты', 1], ['ыԓгу', 1], ['ныԓгыӄин', 1], ['тамэнӈатгыргын', 1], ['йъаратым', 1], ['ӈыроӄавыкым', 1], ['гэӈэквъиԓинэт', 1], ['гэнмэйӈэвԓин', 1], ['мэмыԓынаым', 1], ['ӈээкык', 1], ['ӈыраӄавыкым', 1], ['нъэԓгъэт', 1], ['кытэ', 1], ['ныԓьуӄин', 1], ['ныԓӄытын', 1], ['нымнымгыпы', 1], ['пууръу', 1], ['ныӄивриԓьэтӄин', 1], ['вак', 1], ['айӈавъё', 1], ['эвын', 1], ['энааԓьык', 1], ['поԓярнык', 1], ['станцияк', 1], ['ымыым', 1], ['йъарат', 1], ['нымытваԓьык', 1], ['чычеткинэк', 1], ['ныпычвэтгавӄэн', 1], ['вагыргыт', 1], ['нэнанъомравыткоӄэнат', 1], ['тантомгыԓьатгыргэты', 1], ['нитчыӄин', 1], ['ныкимыӄин', 1], ['таӈычьыгыргын', 1], ['амымӈыԓтэԓԓьан', 1], ['амрапаԓёмтэԓӈыԓьын', 1], ['мэгчеранма', 1], ['амрамӈыԓтэԓӈыԓьын', 1], ['ваԓёмъё', 1], ['гэкэԓиԓин', 1], ['книгак', 1], ['агтыкаԓегъёԓяткыԓьэн', 1], ['ӈээккэтэ', 1], ['гамгакаԓевэтгавъё', 1], ['книга', 1], ['кытваӈӄытык', 1], ['нинэтэйкыӄин', 1], ['майӈырынныԓьын', 1], ['мытэймэвмык', 1], ['иам', 1], ['пыкиргъи', 1], ['эмрэԓьуӈэ', 1], ['амтымӈэ', 1], ['анкэтъоӈатка', 1], ['гайавата', 1], ['пыӈыԓ', 1], ['ынӈинвуԓӄытвик', 1], ['ӄорэн', 1], ['тэӈвытку', 1], ['ваԓёмнэн', 1], ['америкаԓьыргэн', 1], ['индейцаргэн', 1], ['пэтыпыӈыԓ', 1], ['ынӈот', 1], ['нычеэкэвӄинэт', 1], ['нытааӄоӄэнат', 1], ['ыннантаакойӈа', 1], ['ӄырымэнат', 1], ['маравыԓьыԓӄыԓтэ', 1], ['ыргичгу', 1], ['нымытвак', 1], ['ваԓын', 1], ['мэмыԓын', 1], ['ныркыԓеӄин', 1], ['индейцыԓьырык', 1], ['наӄамым', 1], ['нымытваԓьырык', 1], ['америкак', 1], ['чемгъойпы', 1], ['руԓтыгъи', 1], ['рамӈыԓява', 1], ['ръапыӈыԓ', 1], ['нынымӈыԓявӄэн', 1], ['ынанъяачы', 1], ['тывыткоԓьа', 1], ['ыттъыёԓкэнак', 1], ['тывыткоԓьык', 1], ['ганымӈыԓявԓен', 1], ['экэԓиткусӄивкэ', 1], ['риӈэнэӈэтэ', 1], ['пыӈыԓтэԓ', 1], ['маԓытчыё', 1], ['нымкыӄин', 1], ['пыӈыԓтэ', 1], ['ӄоԓетъыԓё', 1], ['москвак', 1], ['омакатгыргын', 1], ['конференция', 1], ['амаравкэтагъяӈыԓьэн', 1], ['тыӈэвыёно', 1], ['чукоткайпы', 1], ['ритгъэ', 1], ['таӈӄорагынрэтыԓьын', 1], ['ԓыгивуԓӄытвик', 1], ['рагтыпԓыткок', 1], ['чемгъоӈогъэ', 1], ['ныԓвавӄэн', 1], ['йыԓӄэтык', 1], ['эргыръотагнэты', 1], ['тырэнӈивыӈын', 1], ['ыттувъейпы', 1], ['амарав', 1], ['кэваратэн', 1], ['чимгъупԓыткугъи', 1], ['тырэтэйкыӈын', 1], ['ынантаӈычьын', 1], ['микынэ', 1], ['эԓьукыԓьин', 1], ['тырэкэԓиӈын', 1], ['гэмгэтэминӈыԓьэ', 1], ['чимгъунин', 1], ['рэкэԓигнин', 1], ['капчачавыӈогъэ', 1], ['эты', 1], ['рэӄивриԓтэтгъэ', 1], ['акваттагнэты', 1], ['тыӈэвыё', 1], ['нымнымэты', 1], ['эмрэтчыӈэ', 1], ['рэквэтгъэ', 1], ['ԓюнԓьутэ', 1], ['эргыпӄорагынрэтыԓьын', 1], ['гаӈаԓвыԓьыма', 1], ['етыԓьыԓӄыԓ', 1], ['ӈэръамытԓыӈэн', 1], ['гаԓяпԓыткок', 1], ['эквэтыԓьыԓӄыԓым', 1], ['тэԓпык', 1], ['нанымӈыԓяквъан', 1], ['правԓенияк', 1], ['ярагты', 1], ['онтымавэты', 1], ['ыннэнйъиԓгык', 1], ['гэчимгъуԓьин', 1], ['амынан', 1], ['амтаакойӈын', 1], ['нытвагъан', 1], ['ынкыри', 1], ['ԓым', 1], ['ваԓьыԓӄыԓ', 1], ['таӈкаԓеӈ', 1], ['ынръам', 1], ['раԓьонъёԓӄыԓ', 1], ['чимгъуу', 1], ['майӈырыркэн', 1], ['гивиӈитти', 1], ['яаԓ', 1], ['гынниӈӈыттыԓьэ', 1], ['уӈииԓьэ', 1], ['коԓхозкэнак', 1], ['ганмыԓен', 1], ['ԓыгэмайӈырыркы', 1], ['ынӈэнкоԓхозэты', 1], ['коԓхоз', 1], ['ӈирэӄӄԓиккин', 1], ['киԓометрмэԓ', 1], ['урэԓьу', 1], ['коԓхозгыпы', 1], ['куннин', 1], ['таӈгыннэӈӈыттыԓьэпы', 1], ['ынӈэн', 1], ['ваӈӄытгыпы', 1], ['нытэӈӄин', 1], ['тайкыгыргын', 1], ['ынанмайӈычьын', 1], ['картина', 1], ['гэнӈивыԓин', 1], ['ӄэвииръу', 1], ['стаԓинына', 1], ['вэтыӄуным', 1], ['ԓьооԓӄыԓ', 1], ['коԓхозэты', 1], ['нынныԓьэты', 1], ['эвнэпичгычьэткэ', 1], ['нитгъэн', 1], ['корма', 1], ['ӈыроча', 1], ['кивыпԓыткук', 1], ['аваӈӄытка', 1], ['ӈирэӄэв', 1], ['гапэԓятԓен', 1], ['мэкына', 1], ['аӄайыԓыӈ', 1], ['рыпаӈъэвӈытовыпԓыткок', 1], ['ыттъыт', 1], ['какомэй', 1], ['нъэнӄэтӄин', 1], ['пыӈыԓтэԓык', 1], ['аккагты', 1], ['ыԓгытомгэты', 1], ['ԓёӈытва', 1], ['нинэнтыӄин', 1], ['йынатыӈонэн', 1], ['кытъаткэ', 1], ['гынниӈӈыттыԓьын', 1], ['ныгтачьатӄэн', 1], ['амрантанъымӈычвынӈа', 1], ['рырэсӄивэннин', 1], ['раԓкогты', 1], ['миӈкы', 1], ['ныймэтваӄэн', 1], ['ӄуттиым', 1], ['тэгъеӈу', 1], ['ԓыӈкы', 1], ['ӄыркургынэт', 1], ['ӄутти', 1], ['варкыт', 1], ['ӈанӄэнат', 1], ['ныппыԓюӄинэт', 1], ['рэӄуым', 1], ['йымэтваркын', 1], ['ӄытвыгын', 1], ['вэчгыргын', 1], ['энӄэтыркын', 1], ['опопы', 1], ['мытвыгъан', 1], ['ԓюнрэпириӈэ', 1], ['тынтыркынэт', 1], ['нымкыче', 1], ['тиквыт', 1], ['кэтъоёԓӄыԓ', 1], ['моонэн', 1], ['анъяк', 1], ['тычичевыркын', 1], ['чичевыркын', 1], ['атав', 1], ['тиквъэк', 1], ['нэнаратвыӈэгым', 1], ['айыԓгыкэчьатгыргын', 1], ['тамэнӈычьатгыргын', 1], ['гынниӈӈыттык', 1], ['нинивӄин', 1], ['аԓвагты', 1], ['гыннэӈӈыттыгыргыкэн', 1], ['кэтъоёԓгын', 1], ['ынанъыттъыёԓкэн', 1], ['ваӈӄыткэн', 1], ['котъён', 1], ['гынык', 1], ['рымэгчеравма', 1], ['чимгъуну', 1], ['томгыԓьатгыргын', 1], ['варатэн', 1], ['чинитым', 1], ['рытчыгъэн', 1], ['рытчынэт', 1], ['йыԓынэт', 1], ['морыкы', 1], ['тъыԓгыгъэн', 1], ['рэӄу', 1], ['рэтэйкыӈын', 1], ['тъыпиринэт', 1], ['ԓюнчимгъутэ', 1], ['гитигым', 1], ['ԓюнрэнъээвӈэ', 1], ['тынтыгыт', 1], ['анӈэначьатык', 1], ['гымыкы', 1], ['этрэркурӈынин', 1], ['гыннэӈӈыттываԓы', 1], ['ынантаӈпыԓвынтэн', 1], ['трэтэйкыӈын', 1], ['кэԓийыӄуйгын', 1], ['ынӈэнваԓягты', 1], ['вэԓынкыӄун', 1], ['ԓёнйъота', 1], ['ӄэвииръын', 1], ['нытэӈъэв', 1], ['нытаваӈӄынӈэгыт', 1], ['аткэвма', 1], ['оравэтԓьэн', 1], ['омрыӈ', 1], ['каннайым', 1], ['анӈэначьатэты', 1], ['ԓыԓяпыткоӈӈогъэ', 1], ['ваӈӄытыӈӄачагты', 1], ['рэнмык', 1], ['йымэтваԓьэты', 1], ['ӄынвэр', 1], ['вэймэну', 1], ['тыԓгыркын', 1], ['аатгыргын', 1], ['ԓюнрэнйыркэвӈэ', 1], ['тынтыркын', 1], ['тыкычгэпын', 1], ['тивыркын', 1], ['мынамманаӈат', 1], ['ӈирэмури', 1], ['тэнтумгу', 1], ['тывыӈонэн', 1], ['ратайкынъё', 1], ['каннайынаым', 1], ['рывиривнин', 1], ['ранмэпы', 1], ['рыԓьэтэннин', 1], ['орвэты', 1], ['акватыԓьэты', 1], ['рэпԓыткуӈын', 1], ['рэнԓьэтэнӈын', 1], ['ыттувъена', 1], ['ӄынинъэйвыгын', 1], ['мачынан', 1], ['омакатынвык', 1], ['конференцияк', 1], ['советкэн', 1], ['вараттэ', 1], ['ԓёнрамаравӈа', 1], ['итыркыт', 1], ['майӈывараттэ', 1], ['мъавараттэ', 1], ['мэйӈэԓьын', 1], ['россэԓьыварат', 1], ['эмӄитпымигчирэтэ', 1], ['ԓыгнин', 1], ['чывипыт', 1], ['гаԓяԓьын', 1], ['кэтэм', 1], ['таӈгаймавык', 1], ['рымӈыԓявнэнат', 1], ['винвэ', 1], ['аӄантыӈ', 1], ['каԓегырга', 1], ['чимгъут', 1], ['ԓыгаԓгыргыт', 1], ['ваӈкыттамэнӈыԓьэн', 1], ['ныԓгэргавӄэн', 1], ['нэнакачьаранъяӄэн', 1], ['тэминӈэтыԓьэ', 1], ['нинэйыԓӄин', 1], ['ыныкы', 1], ['иӄумиӈкыри', 1], ['йъын', 1], ['ӈайыткын', 1], ['мэчнытэминӈыӄин', 1], ['таваӈӄынӈык', 1], ['нэкэм', 1], ['тэйкык', 1], ['танӈавэты', 1], ['турэймэвкы', 1], ['итчымигчир', 1], ['ԓёӈӄыръачета', 1], ['нитӄин', 1], ['рээн', 1], ['айпэчгыткынык', 1], ['энаёчгык', 1], ['гэтэйкыԓинэт', 1], ['гамгавараткэнат', 1], ['ныԓеӄинэт', 1], ['нынрыӄинэт', 1], ['ынӈэнкыргычьык', 1], ['гэкэԓиԓинэт', 1], ['гэмгэйиԓымиԓ', 1], ['амаравкэгыргын', 1], ['нинэрэкэԓиӈӄин', 1], ['ваԓьыеԓымэԓ', 1], ['руссиԓьымиԓ', 1], ['ԓыгъоравэтԓьаеԓымэԓ', 1], ['уӈииԓьымиԓ', 1], ['винрэннин', 1], ['каԓеткорак', 1], ['каԓеныгъёԓявыԓьэпы', 1], ['рытчынин', 1], ['ныкэԓиӄин', 1], ['ангԓияԓьыеԓымэԓ', 1], ['немцаԓьыеԓымэԓ', 1], ['каԓеткоракэнайпыым', 1], ['гынрыратыԓьэпы', 1], ['кабицкайпы', 1], ['поԓякыԓьымэԓ', 1], ['нывинрэтӄин', 1], ['ӄуԓимигчирык', 1], ['нинэԓьумыткуӄин', 1], ['рымъян', 1], ['койӈыԓявыт', 1], ['нинэнчеэкэвӄинэт', 1], ['энаёчгыт', 1], ['пԓыткооттэ', 1], ['пԓыткома', 1], ['ӈыроӄав', 1], ['недеԓя', 1], ['ымыԓьэты', 1], ['гэпԓыткуԓин', 1], ['ӈыраӄычьэты', 1], ['ёнэн', 1], ['энаёчгычыко', 1], ['недеԓяк', 1], ['ԓёӈыгтота', 1], ['ынӄоым', 1], ['рычичьэннин', 1], ['натааӄогъан', 1], ['ӈирэнԓеӈу', 1], ['ынӈэнтаакойӈа', 1], ['нъытааӄонат', 1], ['мытԓыӈэн', 1], ['ынантаагытԓечьыт', 1], ['ынӄо', 1], ['рагтыгъэ', 1], ['рыгъевнин', 1], ['гаԓяк', 1], ['гэквэтԓин', 1], ['мычвынъёԓгын', 1], ['ӄэйыӄын', 1], ['въэӈык', 1], ['рэӈама', 1], ['каԓеткосӄэвынво', 1], ['атчанэн', 1], ['ръэтгыпыԓьын', 1], ['деԓегатык', 1], ['ԓыгэёанмачы', 1], ['атчакэн', 1], ['яраӈы', 1], ['эмэйӈыкыԓьин', 1], ['номӄэн', 1], ['ныӄэргыӄэн', 1], ['ковԓёкы', 1], ['стоԓык', 1], ['нывакъотваӄэнат', 1], ['ӄоԓ', 1], ['эԓгываԓӄыԓыргыԓьын', 1], ['нывэтчатваӄэнат', 1], ['ӈыроӄ', 1], ['йыӈаёттэ', 1], ['мигчитԓьэт', 1], ['аэропортакэн', 1], ['энаёчгын', 1], ['нынчичьэтӄинэт', 1], ['энэчгытэты', 1], ['нэнанмытԓыӈӄавӄэн', 1], ['пирик', 1], ['эмӄынгитэк', 1], ['нинэԓьуӄинэт', 1], ['турыԓьыт', 1], ['каԓегыргыт', 1], ['эԓьукэ', 1], ['рытъёттэ', 1], ['ыттъыёԓ', 1], ['ԓыԓет', 1], ['нунтымӄинэт', 1], ['мэԓпэӈъивэтыԓьыт', 1], ['майӈыръэтгыпы', 1], ['курык', 1], ['чимгъучыку', 1], ['крычмын', 1], ['гэчимгъуԓин', 1], ['ниничгытӄинэт', 1], ['ымнымытваӈэт', 1], ['мынԓьугъэн', 1], ['тэӈэԓьын', 1], ['аэропортармагты', 1], ['нъытвагъан', 1], ['ӈээӄ', 1], ['таӈычьатгыргын', 1], ['аӄатвагырга', 1], ['эвинрэткэ', 1], ['эпиӈэръукэ', 1], ['нъитгъэн', 1], ['нырэӄыным', 1], ['нэнапаԓёмтэԓӄэнат', 1], ['йыӈэттэт', 2], ['ынӄорыым', 2], ['аэродром', 2], ['оттыраӄагтэ', 2], ['ыԓьыԓ', 2], ['аэродромык', 2], ['рымагты', 2], ['наӄам', 2], ['гатыԓгыӈӈоԓен', 2], ['эгиԓкэ', 2], ['гэнъэтԓин', 2], ['маччьачаӈатыӈогъэ', 2], ['ӈыронъыԓёк', 2], ['ԓёӈпаата', 2], ['пиӈэтык', 2], ['ԓьэԓеӈръугъи', 2], ['гапааԓен', 2], ['ӄитык', 2], ['нынныԓьык', 2], ['панэна', 2], ['ӄача', 2], ['риӈэнэӈэткуԓьын', 2], ['йыӈаё', 2], ['ыԓёӈэт', 2], ['нивӄин', 2], ['рэпиӈэръугъэ', 2], ['мэԓӄырым', 2], ['татԓыгнэн', 2], ['вэтыӄун', 2], ['мытрэриӈэгъэ', 2], ['киткит', 2], ['мурык', 2], ['кыргычьыт', 2], ['выргыргэтыркын', 2], ['кытыйгын', 2], ['вэтгыры', 2], ['нивӄинэт', 2], ['ныппыԓюмури', 2], ['таӈымыԓьо', 2], ['ымнутэйиквик', 2], ['эпԓыткукэ', 2], ['ыттъин', 2], ['тавтав', 2], ['ынӄоры', 2], ['гыроԓмакы', 2], ['ярак', 2], ['оравэтԓьата', 2], ['ынык', 2], ['эриӈэкыԓьин', 2], ['нымэԓӄин', 2], ['рамынноӈэты', 2], ['нымытваԓьа', 2], ['коԓхозык', 2], ['эргыръон', 2], ['ымыԓьорык', 2], ['чамаым', 2], ['ваӈӄыттамэнӈатгыргын', 2], ['амӄынъычо', 2], ['нывакъотваӄэн', 2], ['ванэван', 2], ['ԓымынкы', 2], ['пэнин', 2], ['ыяа', 2], ['мэмыԓым', 2], ['ынӄэнат', 2], ['нэнатвыӄэн', 2], ['ԓьоо', 2], ['тэгрыӈэнэ', 2], ['ирэмъетыԓьын', 2], ['ӄораӈы', 2], ['яачыӈкэн', 2], ['гыннэӈыттыгыргын', 2], ['армачьатгыргыт', 2], ['гайаватэн', 2], ['ӈавтыӈгыргын', 2], ['ӄуԓинымнымкин', 2], ['механикэн', 2], ['ӈэвысӄэтык', 2], ['кыԓиныгйивэтыԓьык', 2], ['нытэӈычьэтӄин', 2], ['паԓёмтэԓык', 2], ['механик', 2], ['геройтэ', 2], ['пыӈыԓкэн', 2], ['песня', 2], ['о', 2], ['гайавате', 2], ['нэнаваԓёмӄэнат', 2], ['ӄынвэрым', 2], ['тынтыгъэн', 2], ['эвытԓым', 2], ['оптытъар', 2], ['тэгрыӈэ', 2], ['хабаровскагты', 2], ['нэнатвыӄэнат', 2], ['ыттувги', 2], ['рыпэт', 2], ['чемгъоӈӈогъэ', 2], ['инъэ', 2], ['рыннин', 2], ['ыԓёӈэттэ', 2], ['москвагты', 2], ['йъиԓгын', 2], ['пэԓӄынтэтгъи', 2], ['ынӄэным', 2], ['нинэԓгыӄин', 2], ['каннайына', 2], ['ԓенин', 2], ['тыӈивынин', 2], ['эккэтэ', 2], ['гэтэйкыԓин', 2], ['ваӈӄытык', 2], ['ивнин', 2], ['ытръэчым', 2], ['йытԓёԓӄыԓ', 2], ['ӄырымэн', 2], ['нинэԓгигыт', 2], ['ӄыпаагэ', 2], ['мъаварат', 2], ['ԓыгъоравэтԓьат', 2], ['ԓыгэн', 2], ['энанъяка', 2], ['ԓьунин', 2], ['маԓкоргавыԓьын', 2], ['вэтгавыт', 2], ['нычимгъуӄин', 2], ['рэпиригнин', 2], ['чывиткунэӈ', 2], ['ратанкавӈыӈӈогнэн', 2], ['тэминӈыԓьэ', 2], ['йыръэннин', 2], ['таата', 2], ['качьарэты', 2], ['риӈэнэӈ', 2], ['нъыйъоткогъан', 2], ['тривӈыркынигыт', 2], ['таӈнымытвагыргын', 2], ['маԓӄырымэн', 2], ['америкаԓьэн', 2], ['тычимгъуркын', 2], ['индейцаԓьыргэн', 2], ['амаравкэваратэн', 3], ['чит', 3], ['ԓюур', 3], ['ӈирэӄ', 3], ['пэтԓе', 3], ['савинына', 3], ['нъэԓгъи', 3], ['авъеткынка', 3], ['ӄэйвэ', 3], ['вама', 3], ['ыныкит', 3], ['мури', 3], ['чиниткин', 3], ['вэтгав', 3], ['ыргынан', 3], ['гымнин', 3], ['ачгыта', 3], ['ӈутку', 3], ['тайкыма', 3], ['рынныӄач', 3], ['чама', 3], ['ныкитэ', 3], ['эчги', 3], ['тывъё', 3], ['ымыԓьо', 3], ['рымӈыԓявнэн', 3], ['ратвагъа', 3], ['деԓегат', 3], ['таакойӈык', 3], ['эквэтгъи', 3], ['ыттувйи', 3], ['рэтэйкыгнин', 3], ['ыннэн', 3], ['тайкыё', 3], ['ынӈэ', 3], ['манэт', 3], ['гыт', 3], ['уӈииԓьыт', 3], ['ӈэнку', 3], ['ӄэгԓынангэт', 3], ['чимгъун', 3], ['нивнинэт', 3], ['эквырга', 3], ['йытонэн', 3], ['йыԓнин', 3], ['нэмыӄэй', 4], ['уйӈэ', 4], ['нымэйӈъэв', 4], ['савин', 4], ['ваԓьыт', 4], ['нытваӄэн', 4], ['имыръэнут', 4], ['ынин', 4], ['ынӄэната', 4], ['мэчынкы', 4], ['вэчьым', 4], ['вай', 4], ['ваӈӄыттамэнӈыԓьын', 4], ['титэ', 4], ['тумгытум', 4], ['ръэнут', 4], ['нэнанымӈыԓявӄэн', 4], ['нина', 4], ['ивановна', 4], ['нымэԓьэв', 4], ['вагыргын', 4], ['гатваԓен', 4], ['гэмо', 4], ['ӄун', 4], ['ӄонпы', 5], ['ынкы', 5], ['аԓваӈ', 5], ['ԓымӈэ', 5], ['этԓы', 5], ['мигчир', 5], ['аԓымы', 5], ['вытку', 5], ['рырамавъёчгын', 5], ['эвыр', 6], ['гытгын', 6], ['коԓё', 6], ['гэмавъей', 6], ['экык', 6], ['мэмыԓ', 6], ['иӈӄун', 6], ['амаԓваӈ', 7], ['оравэтԓьат', 7], ['тэԓенъеп', 7], ['игыр', 7], ['ӄырым', 7], ['ынпыначгын', 7], ['каннай', 7], ['ыттъувги', 8], ['ԓыги', 8], ['ытри', 8], ['гынан', 8], ['энмэн', 8], ['чинит', 8], ['миӈкыри', 8], ['гынин', 8], ['ытръэч', 9], ['иквъи', 9], ['ымы', 10], ['ваԓьын', 11], ['гым', 11], ['ынӈин', 11], ['таакойӈын', 11], ['нэмэ', 12], ['мэмыԓына', 12], ['еп', 13], ['ваӈӄыт', 13], ['эквыргаым', 14], ['энмэч', 16], ['гымнан', 16], ['гэмавъе', 19], ['ӄынур', 20], ['ынан', 20], ['ынӄэн', 22], ['ытԓён', 26], ['гэмавъена', 26], ['ынкъам', 52]]\n"
          ]
        }
      ]
    },
    {
      "cell_type": "code",
      "source": [
        "from pandas.core.indexes.datetimes import date_range\n",
        "Stat = list()\n",
        "for l in range(0, len(mas) + 1):\n",
        "  if l > 0:\n",
        "    flag = 0\n",
        "    for k in range(0, len(Stat)):\n",
        "      if mas[l-1][1] == Stat[k][0]:\n",
        "        flag = 1\n",
        "      else:\n",
        "        flag = 0\n",
        "    if flag == 0:\n",
        "      Stat.append([mas[l-1][1], Counts])\n",
        "  Counts = 0\n",
        "  for m in range(0, len(mas)):\n",
        "    if l < len(mas):\n",
        "      if mas[l][1] == mas[m][1]:\n",
        "        Counts += 1\n"
      ],
      "metadata": {
        "id": "i1MddnWxuyNO"
      },
      "execution_count": null,
      "outputs": []
    },
    {
      "cell_type": "code",
      "source": [
        "Stat"
      ],
      "metadata": {
        "colab": {
          "base_uri": "https://localhost:8080/"
        },
        "id": "Uj6XRR4fz37n",
        "outputId": "d48c59b0-3bd5-4e5b-c75e-5dfd53823163"
      },
      "execution_count": null,
      "outputs": [
        {
          "output_type": "execute_result",
          "data": {
            "text/plain": [
              "[[1, 629],\n",
              " [2, 141],\n",
              " [3, 45],\n",
              " [4, 24],\n",
              " [5, 9],\n",
              " [6, 7],\n",
              " [7, 7],\n",
              " [8, 8],\n",
              " [9, 2],\n",
              " [10, 1],\n",
              " [11, 4],\n",
              " [12, 2],\n",
              " [13, 2],\n",
              " [14, 1],\n",
              " [16, 2],\n",
              " [19, 1],\n",
              " [20, 2],\n",
              " [22, 1],\n",
              " [26, 2],\n",
              " [52, 1]]"
            ]
          },
          "metadata": {},
          "execution_count": 34
        }
      ]
    },
    {
      "cell_type": "code",
      "source": [
        "with open('new_c.txt') as f:\n",
        "    s = list(map(str.strip, f.readlines()))"
      ],
      "metadata": {
        "id": "OsdPqhzZACNm"
      },
      "execution_count": null,
      "outputs": []
    },
    {
      "cell_type": "code",
      "source": [
        "s"
      ],
      "metadata": {
        "id": "TDOsir5gALhj",
        "colab": {
          "base_uri": "https://localhost:8080/"
        },
        "outputId": "9ea7be03-2be1-47a1-811e-afbecf292365"
      },
      "execution_count": null,
      "outputs": [
        {
          "output_type": "execute_result",
          "data": {
            "text/plain": [
              "['nu\\tnu',\n",
              " 'iduka\\tidu/ka',\n",
              " 'baldit͡ʃaːw\\tbaldi/t͡ʃaː/w',\n",
              " 'bi\\tbi',\n",
              " 'mohaduː\\tmoha/duː',\n",
              " 'aha\\taha',\n",
              " 'ďuwun\\tďu/wun',\n",
              " 'həgdiŋə\\thəgdiŋə',\n",
              " 'bit͡ʃoːn\\tbi/t͡ʃoː/n',\n",
              " 'əɲijo\\təɲi/jo',\n",
              " 'ribat͡ʃitt͡ʃəŋkiːtin\\tribat͡ʃit/t͡ʃə/ŋkiː/tin',\n",
              " 'ďuγaɲiːwa\\tďuγa/ɲiː/wa',\n",
              " 'wek\\twek',\n",
              " 'ďuγaɲiːduː\\tďuγa/ɲiː/duː',\n",
              " 'wek\\twek',\n",
              " 'nulgiďəŋkiːwun\\tnulgi/ďə/ŋkiː/wun',\n",
              " 'əŋkiːwun\\tə/ŋkiː/wun',\n",
              " 'təγəttə\\ttəγə/t/tə',\n",
              " 'antimati\\tanti/mati',\n",
              " 'nu\\tnu',\n",
              " 'kuŋakarduːwun\\tkuŋaka/r/duː/wun',\n",
              " 'əntilwun\\təntil/wun',\n",
              " 'munə\\tmunə',\n",
              " 'ďawut͡ʃaďaŋkiːtin\\tďawut͡ʃa/ďa/ŋkiː/tin',\n",
              " 'ajakanďi\\taja/kan/ďi',\n",
              " 'ďawut͡ʃaďaŋkiːtin\\tďawut͡ʃa/ďa/ŋkiː/tin',\n",
              " 'oldolwə\\toldo/l/wə',\n",
              " 'hilkiďiŋnərəwun\\thilki/ďi/ŋnə/rə/wun',\n",
              " 'to\\tto',\n",
              " 'adilt͡ʃuhiniŋnərəwun\\tadil/t͡ʃu/hini/ŋnə/rə/wun',\n",
              " 'aďililwə\\taďili/l/wə',\n",
              " 'towuďət͡ʃoːtin\\ttowu/ďə/t͡ʃoː/tin',\n",
              " 'toːwər\\ttoː/wər',\n",
              " 'igo\\tigo',\n",
              " 'ilan\\tilan',\n",
              " 'əliː\\tə/liː',\n",
              " 'kilometrduliː\\tkilometr/duliː',\n",
              " 'girkumat\\tgirku/ma/t',\n",
              " 'ŋənəŋnərəwun\\tŋənə/ŋnə/rə/wun',\n",
              " 'oldolə\\toldo/l/ə',\n",
              " 'taduk\\ttaduk',\n",
              " 'girkumat\\tgirku/ma/t',\n",
              " 'iruŋnarawun\\tiru/ŋna/ra/wun',\n",
              " 'əkurďikə\\təku/r/ďi/kə',\n",
              " 'hutakarduː\\thuta/ka/r/duː',\n",
              " 'uγaďəŋnarawun\\tuγa/ďə/ŋna/ra/wun',\n",
              " 'oldokorwə\\toldo/ko/r/wə',\n",
              " 'i\\ti',\n",
              " 'wot\\twot',\n",
              " 'plan\\tplan',\n",
              " 'plan\\tplan',\n",
              " 'biŋkiːn\\tbi/ŋkiː/n',\n",
              " 'tarə\\ttarə',\n",
              " 'əkunka\\təkun/ka',\n",
              " 'ələwun\\tələ/wun',\n",
              " 'planmutin\\tplan/mu/tin',\n",
              " 'vipalɲatt͡ʃiŋnərəwun\\tvipalɲat/t͡ʃi/ŋnə/rə/wun',\n",
              " 'laŋilwər\\tlaŋi/l/wər',\n",
              " 'oďəŋnərəwun\\to/ďə/ŋnə/rə/wun',\n",
              " 'amiːja\\tamiː/ja',\n",
              " 'laŋilwər\\tlaŋi/l/wər',\n",
              " 'oďapkiːl\\to/ďa/pkiː/l',\n",
              " 'a\\ta',\n",
              " 'bu\\tbu',\n",
              " 'dundəwə\\tdundə/wə',\n",
              " 'ďuguďiŋnərəwun\\tďugu/ďi/ŋnə/rə/wun',\n",
              " 'patom\\tpatom',\n",
              " 'orokorwər\\toro/ko/r/wər',\n",
              " 'ďawu\\tďawu',\n",
              " 'orokorwər\\toro/ko/r/wər',\n",
              " 'ďawut͡ʃaďat͡ʃaːwun\\tďawut͡ʃa/ďa/t͡ʃaː/wun',\n",
              " 'əjaka\\tə/ja/ka',\n",
              " 'hamɲiːkarə\\thamɲiː/ka/r/ə',\n",
              " 'oŋnərəwun\\to/ŋnə/rə/wun',\n",
              " 'hamɲiːro\\thamɲiː/r/o',\n",
              " 'ʃkolalaː\\tʃkola/laː',\n",
              " 'hurut͡ʃoːw\\thuru/t͡ʃoː/w',\n",
              " 'bi\\tbi',\n",
              " 'ʒə\\tʒə',\n",
              " 'ət͡ʃəw\\tə/t͡ʃə/w',\n",
              " 'haːrə\\thaː/rə',\n",
              " 'əwa\\tə/wa',\n",
              " 'gunďərə\\tgun/ďə/rə',\n",
              " 'se\\tse',\n",
              " 'patom\\tpatom',\n",
              " 'uʒə\\tuʒə',\n",
              " 'əkunka\\təkun/ka',\n",
              " 'i\\ti',\n",
              " 'tuγə\\ttuγə',\n",
              " 'əməŋnərəwun\\təmə/ŋnə/rə/wun',\n",
              " 'internattulaː\\tinternat/tulaː',\n",
              " 'əntilwun\\təntil/wun',\n",
              " 'munə\\tmunə',\n",
              " 'gənnoːpkiːl\\tgənnoː/pkiː/l',\n",
              " 'patom\\tpatom',\n",
              " 'ɲan\\tɲan',\n",
              " 'əməwupkiːl\\təmə/wu/pkiː/l',\n",
              " 'ʃkolalaː\\tʃkola/laː',\n",
              " 'ut͡ʃitnaːŋnərəwun\\tut͡ʃit/naː/ŋnə/rə/wun',\n",
              " 'tigdəďərəkin\\ttigdə/ďə/rəki/n',\n",
              " 'əkunka\\təkun/ka',\n",
              " 'ďukakanə\\tďu/kakan/ə',\n",
              " 'oďarəwun\\to/ďa/rə/wun',\n",
              " 'i\\ti',\n",
              " 'ďuldəjə\\tďu/ldə/jə',\n",
              " 'əməŋnərəwun\\təmə/ŋnə/rə/wun',\n",
              " 'guləlduloː\\tgulə/l/duloː',\n",
              " 'ʃkolalaː\\tʃkola/laː',\n",
              " 'munə\\tmunə',\n",
              " 'əməwupkiːl\\təmə/wu/pkiː/l',\n",
              " 'ďuldəjə\\tďu/ldə/jə',\n",
              " 'nulgit\\tnulgi/t',\n",
              " 'əŋkiːtin\\tə/ŋkiː/tin',\n",
              " 'munə\\tmunə',\n",
              " 'sobirarə\\tsobira/rə',\n",
              " 'əduː\\təduː',\n",
              " 'inďərən\\tin/ďə/rə/n',\n",
              " 'tar\\ttar',\n",
              " 'ətiːrkot͡ʃomi\\tətiːrko/t͡ʃo/mi',\n",
              " 'jaŋəti\\tjaŋəti',\n",
              " 'danila\\tdanila',\n",
              " 'nikalajəvit͡ʃ\\tnikalajəvit͡ʃ',\n",
              " 'strogij\\tstrogij',\n",
              " 'biŋkiːntə\\tbi/ŋkiː/n/tə',\n",
              " 'wek\\twek',\n",
              " 'munə\\tmunə',\n",
              " 'ďawut͡ʃaďaŋkiːn\\tďawut͡ʃa/ďa/ŋkiː/n',\n",
              " 'patom\\tpatom',\n",
              " 'nu\\tnu',\n",
              " 'huruŋnərəwun\\thuru/ŋnə/rə/wun',\n",
              " 'goroʃihalaː\\tgoroʃiha/laː',\n",
              " 'toʒə\\ttoʒə',\n",
              " 'nu\\tnu',\n",
              " 'kanikulilwun\\tkanikuli/l/wun',\n",
              " 'hajalə\\thajalə',\n",
              " 'biŋkiːtin\\tbi/ŋkiː/tin',\n",
              " 'i\\ti',\n",
              " 'bi\\tbi',\n",
              " 'wəkitta\\twəki/t/ta',\n",
              " 'mohaduː\\tmoha/duː',\n",
              " 'inďət͡ʃoːw\\tin/ďə/t͡ʃoː/w',\n",
              " 'əduː\\təduː',\n",
              " 'hawalilt͡ʃalai\\thawali/l/t͡ʃala/i',\n",
              " 'inihit͡ʃoːw\\tini/hi/t͡ʃoː/w',\n",
              " 'patom\\tpatom',\n",
              " 'uʒə\\tuʒə',\n",
              " 'bi\\tbi',\n",
              " 'əkunka\\təkun/ka',\n",
              " 'turalaː\\ttura/laː',\n",
              " 'hurut͡ʃoːw\\thuru/t͡ʃoː/w',\n",
              " 'ut͡ʃitnaːhit͡ʃoːw\\tut͡ʃit/naː/hi/t͡ʃoː/w',\n",
              " 'taduː\\ttaduː',\n",
              " 'manamda\\tmana/m/da',\n",
              " 'taduː\\ttaduː',\n",
              " 'hawalim\\thawali/m',\n",
              " 'ollomoːrəw\\tollo/moː/rə/w',\n",
              " 'tapat͡ʃa\\ttapat͡ʃa',\n",
              " 'tapat͡ʃaːtil\\ttapat͡ʃaːti/l',\n",
              " 'taduː\\ttaduː',\n",
              " 'bit͡ʃotin\\tbi/t͡ʃo/tin',\n",
              " 'ďuːltin\\tďuː/l/tin',\n",
              " 'jaːdantsəwil\\tjaːdantsəwi/l',\n",
              " 'munŋi\\tmun/ŋi',\n",
              " 'haːdont͡ʃinil\\thaːdont͡ʃini/l',\n",
              " 'ďuːltin\\tďuː/l/tin',\n",
              " 'biː\\tbiː',\n",
              " 'ďabduː\\tďab/duː',\n",
              " 'təγəm\\ttəγə/m',\n",
              " 'ami\\tami',\n",
              " 'ďabduː\\tďab/duː',\n",
              " 'soloːki\\tsoloːki',\n",
              " 'turaːmiwa\\tturaːmi/wa',\n",
              " 'ollomoːrəw\\tollo/moː/rə/w',\n",
              " 'ollolo\\tollo/l/o',\n",
              " 'kətəkoːkuːnmə\\tkətə/koːkuːn/mə',\n",
              " 'waːrəw\\twaː/rə/w',\n",
              " 'amiːnən\\tamiː/nən',\n",
              " 'patom\\tpatom',\n",
              " 'aːgrəw\\taːg/rə/w',\n",
              " 'taduː\\ttaduː',\n",
              " 'amiːn\\tamiːn',\n",
              " 'amiːn\\tamiːn',\n",
              " 'minə\\tminə',\n",
              " 'aːsinmurən\\taː/sin/mu/rə/n',\n",
              " 'tirgallan\\ttirga/l/la/n',\n",
              " 'ŋinakirwun\\tŋinaki/r/wun',\n",
              " 'moːtiːwo\\tmoːtiː/wo',\n",
              " 'gowolt͡ʃol\\tgowo/l/t͡ʃo/l',\n",
              " 'gowollo\\tgowo/l/lo',\n",
              " 'iːduwəl\\tiːdu/wəl',\n",
              " 'amiːn\\tamiːn',\n",
              " 'arakuːkan\\tara/kuːkan',\n",
              " 'təγət͡ʃon\\ttəγə/t͡ʃo/n',\n",
              " 'minə\\tminə',\n",
              " 'ət͡ʃə\\tə/t͡ʃə',\n",
              " 'səriːwrə\\tsəriː/w/rə',\n",
              " 'surut͡ʃo\\tsuru/t͡ʃo',\n",
              " 'tar\\ttar',\n",
              " 'moːtiːwo\\tmoːtiː/wo',\n",
              " 'ŋinakirwə\\tŋinaki/r/wə',\n",
              " 'gowoďərilwo\\tgowo/ďə/ri/l/wo',\n",
              " 'moːtiːwo\\tmoːtiː/wo',\n",
              " 'waːnaːstən\\twaː/naː/s/tə/n',\n",
              " 'moːtiːwo\\tmoːtiː/wo',\n",
              " 'it͡ʃenoːst͡ʃo\\tit͡ʃe/noː/s/t͡ʃo',\n",
              " 'eːkurwa\\teːku/r/wa',\n",
              " 'ŋinakir\\tŋinaki/r',\n",
              " 'gowoďoro\\tgowo/ďo/ro',\n",
              " 'dilat͡ʃ\\tdilat͡ʃ',\n",
              " 'hətəkənəm\\thətəkənə/m',\n",
              " 'dilat͡ʃa\\tdilat͡ʃa',\n",
              " 'ďo\\tďo',\n",
              " 'aŋiďərən\\taŋi/ďə/rə/n',\n",
              " 'iːloːkə\\tiːloː/kə',\n",
              " 'suruďəm\\tsuru/ďə/m',\n",
              " 'gowondulaːtin\\tgowo/n/dulaː/tin',\n",
              " 'surum\\tsuru/m',\n",
              " 'ŋənəďəďəm\\tŋənə/ďə/ďə/m',\n",
              " 'ŋənəďəďəm\\tŋənə/ďə/ďə/m',\n",
              " 'urəwa\\turə/wa',\n",
              " 'kuktim\\tkukti/m',\n",
              " 'urəwa\\turə/wa',\n",
              " 'doːldiːm\\tdoːldiː/m',\n",
              " 'pəktironmə\\tpəktiron/mə',\n",
              " 'doːldiːm\\tdoːldiː/m',\n",
              " 'buːh\\tbuːh',\n",
              " 'pəktiron\\tpəktiron',\n",
              " 'ŋinakirwun\\tŋinaki/r/wun',\n",
              " 'ətərə\\tətə/rə',\n",
              " 'gowoďəmi\\tgowo/ďə/mi',\n",
              " 'ətərə\\tətə/rə',\n",
              " 'wras\\twras',\n",
              " 'tajgato\\ttajga/to',\n",
              " 'tihə\\ttihə',\n",
              " 'oːdan\\toː/da/n',\n",
              " 'əwuːst͡ʃam\\təwuː/s/t͡ʃa/m',\n",
              " 'urə\\turə',\n",
              " 'apať\\tapať',\n",
              " 'hoktowi\\thokto/wi',\n",
              " 'sokorim\\tsokori/m',\n",
              " 'abratnə\\tabratnə',\n",
              " 'uďalaːwi\\tuďa/laː/wi',\n",
              " 'abratnə\\tabratnə',\n",
              " 'əmədoːwi\\təmə/doː/wi',\n",
              " 'aŋilaːwi\\taŋi/laː/wi',\n",
              " 'biː\\tbiː',\n",
              " 'aːt͡ʃin\\taːt͡ʃin',\n",
              " 'bit͡ʃoːw\\tbi/t͡ʃoː/w',\n",
              " 'ət͡ʃəw\\tə/t͡ʃə/w',\n",
              " 'doːldiːra\\tdoːldiː/ra',\n",
              " 'biː\\tbiː',\n",
              " 'taigaduː\\ttaiga/duː',\n",
              " 'ŋinakinmə\\tŋinakin/mə',\n",
              " 'gadan\\tga/da/n',\n",
              " 'aŋi\\taŋi',\n",
              " 'ŋinakinmə\\tŋinakin/mə',\n",
              " 'ŋinakin\\tŋinakin',\n",
              " 'bit͡ʃoːn\\tbi/t͡ʃoː/n',\n",
              " 'damka\\tdamka',\n",
              " 'bi\\tbi',\n",
              " 'gərbiwi\\tgərbi/wi',\n",
              " 'nuŋan\\tnuŋan',\n",
              " 'saːnə\\tsaː/nə',\n",
              " 'i\\ti',\n",
              " 'nuŋan\\tnuŋan',\n",
              " 'tar\\ttar',\n",
              " 'ŋinakinmə\\tŋinakin/mə',\n",
              " 'haːŋiďaďan\\thaːŋi/ďa/ďa/n',\n",
              " 'amiːŋasaw\\tamiː/ŋasa/w',\n",
              " 'ŋənəďəďən\\tŋənə/ďə/ďə/n',\n",
              " 'ŋinakinmiː\\tŋinakin/miː',\n",
              " 'ŋinakin\\tŋinakin',\n",
              " 'uďalwaw\\tuďa/l/wa/w',\n",
              " 'bakaran\\tbaka/ra/n',\n",
              " 'tar\\ttar',\n",
              " 'uďalduliːw\\tuďa/l/duliː/w',\n",
              " 'iːloː\\tiːloː',\n",
              " 'ŋənəďənnə\\tŋənə/ďə/nnə',\n",
              " 'biː\\tbiː',\n",
              " 'sinə\\tsinə',\n",
              " 'pəktironməs\\tpəktiron/mə/s',\n",
              " 'doːldiːt͡ʃaw\\tdoːldiː/t͡ʃa/w',\n",
              " 'minə\\tminə',\n",
              " 'nuŋan\\tnuŋan',\n",
              " 'həŋkəttən\\thəŋkət/tə/n',\n",
              " 'əːwa\\təː/wa',\n",
              " 'surunnə\\tsuru/nnə',\n",
              " 'taduː\\ttaduː',\n",
              " 'alatt͡ʃet͡ʃa\\talat/t͡ʃe/t͡ʃa',\n",
              " 'bimt͡ʃes\\tbi/mt͡ʃe/s',\n",
              " 'əmə\\təmə',\n",
              " 'əmərəw\\təmə/rə/w',\n",
              " 'buː\\tbuː',\n",
              " 'tar\\ttar',\n",
              " 'guluwundulaːwər\\tguluwun/dulaː/wər',\n",
              " 'sawoːdalwər\\tsawoːda/l/wər',\n",
              " 'moːtiːwə\\tmoːtiː/wə',\n",
              " 'waːmi\\twaː/mi',\n",
              " 'ət͡ʃəw\\tə/t͡ʃə/w',\n",
              " 'higďərə\\thig/ďə/rə',\n",
              " 'taːnisinən\\ttaːni/sin/ə/n',\n",
              " 'taduː\\ttaduː',\n",
              " 'muː\\tmuː',\n",
              " 'bisin\\tbi/si/n',\n",
              " 'tigəkoːrwis\\ttigə/koː/r/wi/s',\n",
              " 'aŋikəl\\taŋi/kəl',\n",
              " 'tarə\\ttarə',\n",
              " 'moːtiːtkoːnin\\tmoːtiː/t/koː/nin',\n",
              " 'tar\\ttar',\n",
              " 'bit͡ʃon\\tbi/t͡ʃo/n',\n",
              " 'moːtiːtkoːnin\\tmoːtiː/t/koː/nin',\n",
              " 'moːtiːt\\tmoːtiːt',\n",
              " 'aŋit͡ʃa\\taŋi/t͡ʃa',\n",
              " 'i\\ti',\n",
              " 'əta\\təta',\n",
              " 'higrəw\\thig/rə/w',\n",
              " 'tar\\ttar',\n",
              " 'patom\\tpatom',\n",
              " 'minə\\tminə',\n",
              " 'gunən\\tgun/ə/n',\n",
              " 'uloːkkirən\\tuloːkki/rə/n',\n",
              " 'minə\\tminə',\n",
              " 'əː\\təː',\n",
              " 'surupďet\\tsuru/p/ďe/t',\n",
              " 'surupďet\\tsuru/p/ďe/t',\n",
              " 'moːtiːtkoːnmə\\tmoːtiː/t/koːn/mə',\n",
              " 'taduː\\ttaduː',\n",
              " 'ďuːduːwar\\tďuː/duː/war',\n",
              " 'uliďəďet\\tuli/ďə/ďe/t',\n",
              " 'tuγi\\ttuγi',\n",
              " 'ut͡ʃalaːďet\\tut͡ʃalaː/ďe/t',\n",
              " 'biː\\tbiː',\n",
              " 'əďammal\\tə/ďa/m/mal',\n",
              " 'əďammal\\tə/ďa/m/mal',\n",
              " 'ŋinakir\\tŋinaki/r',\n",
              " 'gowollo\\tgowo/l/lo',\n",
              " 'a\\ta',\n",
              " 'nuŋan\\tnuŋan',\n",
              " 'arakuːkaːn\\tara/kuːkaːn',\n",
              " 'ədaːw\\tə/daː/w',\n",
              " 'it͡ʃərə\\tit͡ʃə/rə',\n",
              " 'purtatpi\\tpurta/t/pi',\n",
              " 'ərkoːnduliː\\tər/koːn/duliː',\n",
              " 'aŋirən\\taŋi/rə/n',\n",
              " 'arkirən\\tarki/rə/n',\n",
              " 'tar\\ttar',\n",
              " 'əsilə\\təsilə',\n",
              " 'iːloːkə\\tiːloː/kə',\n",
              " 'moːtiːtkoːn\\tmoːtiː/t/koːn',\n",
              " 'oːdan\\toː/da/n',\n",
              " 'kikisinən\\tkiki/sin/ə/n',\n",
              " 'moːtiːtkoːnmə\\tmoːtiː/t/koːn/mə',\n",
              " 'patom\\tpatom',\n",
              " 'tak\\ttak',\n",
              " 'moːtiːtkoːnmə\\tmoːtiː/t/koːn/mə',\n",
              " 'tar\\ttar',\n",
              " 'higrəw\\thig/rə/w',\n",
              " 'ol\\tol',\n",
              " 'ulləŋilwər\\tullə/ŋi/l/wər',\n",
              " 'ďuwurəw\\tďuwu/rə/w',\n",
              " 'ďawdulaːwər\\tďaw/dulaː/wər',\n",
              " 'i\\ti',\n",
              " 'halwatin\\tha/l/wa/tin',\n",
              " 'omoːnəw\\tomoːn/ə/w',\n",
              " 'maleɲka\\tmaleɲka',\n",
              " 'suʃiť\\tsuʃiť',\n",
              " 'tagda\\ttagda',\n",
              " 'sə\\tsə',\n",
              " 'sururəw\\tsuru/rə/w',\n",
              " 'ďawduːwər\\tďaw/duː/wər',\n",
              " 'ulləkoːrwə\\tullə/koː/r/wə',\n",
              " 'noːttəw\\tnoː/t/tə/w',\n",
              " 'i\\ti',\n",
              " 'sururəw\\tsuru/rə/w',\n",
              " 'fśe\\tfśe',\n",
              " 'apať\\tapať',\n",
              " 'aŋilaːwər\\taŋi/laː/wər',\n",
              " 'ďuldulaːwər\\tďu/l/dulaː/wər',\n",
              " 'nuliwoj\\tnuliwoj',\n",
              " 'klastuː\\tklas/tuː',\n",
              " 'minduː\\tmin/duː',\n",
              " 'bit͡ʃoːn\\tbi/t͡ʃoː/n',\n",
              " 'ut͡ʃenikilwiː\\tut͡ʃeniki/l/wiː',\n",
              " 'ilan\\tilan',\n",
              " 'ďaːr\\tďaːr',\n",
              " 'ilan\\tilan',\n",
              " 'ďaːr\\tďaːr',\n",
              " 'tunŋa\\ttunŋa',\n",
              " 'kuŋaːkaːr\\tkuŋaːkaː/r',\n",
              " 'bit͡ʃoːtin\\tbi/t͡ʃoː/tin',\n",
              " 'nuŋartin\\tnuŋartin',\n",
              " 'ət͡ʃoːtin\\tə/t͡ʃoː/tin',\n",
              " 'kət\\tkət',\n",
              " 'staːdəduː\\tstaːdə/duː',\n",
              " 'kətəkoːkun\\tkətə/koːkun',\n",
              " 'əduː\\təduː',\n",
              " 'poligustuː\\tpoligus/tuː',\n",
              " 'bit͡ʃoːtin\\tbi/t͡ʃoː/tin',\n",
              " 'oror\\toro/r',\n",
              " 'śergejif\\tśergejif',\n",
              " 'familijən\\tfamilijə/n',\n",
              " 'sergejew\\tsergejew',\n",
              " 'gərbiːn\\tgərbiː/n',\n",
              " 'trəfim\\ttrəfim',\n",
              " 'manarən\\tmana/rə/n',\n",
              " 'nuŋan\\tnuŋan',\n",
              " 'nuliwoj\\tnuliwoj',\n",
              " 'klaswa\\tklas/wa',\n",
              " 'staːdolaː\\tstaːdo/laː',\n",
              " 'sururən\\tsuru/rə/n',\n",
              " 'orordi\\toro/r/di',\n",
              " 'amtiːldulaːwi\\tamtiːl/dulaː/wi',\n",
              " 'əhiːkoːn\\təhiː/koːn',\n",
              " 'ʃkolalaː\\tʃkola/laː',\n",
              " 'kuŋaːkaːr\\tkuŋaːkaː/r',\n",
              " 'staːdoduk\\tstaːdo/duk',\n",
              " 'əməwusinə\\təmə/wu/sin/ə',\n",
              " 'kuŋaːkaːrwə\\tkuŋaːkaː/r/wə',\n",
              " 'nor\\tnor',\n",
              " 'əlaː\\tə/laː',\n",
              " 'ʃkolalaː\\tʃkola/laː',\n",
              " 'biː\\tbiː',\n",
              " 'fśo\\tfśo',\n",
              " 'nuŋan\\tnuŋan',\n",
              " 'əwədit\\təwə/di/t',\n",
              " 'biː\\tbiː',\n",
              " 'nuŋanduːn\\tnuŋan/duː/n',\n",
              " 'ɲaŋtala\\tɲaŋta/l/a',\n",
              " 'aŋiďam\\taŋi/ďa/m',\n",
              " 'aŋila\\taŋi/l/a',\n",
              " 'ɲaŋtala\\tɲaŋta/l/a',\n",
              " 'surupďem\\tsuru/p/ďe/m',\n",
              " 'tug\\ttug',\n",
              " 'əɲininnə\\təɲini/n/nə',\n",
              " 'əɲinin\\təɲini/n',\n",
              " 'əːkəː\\təː/kəː',\n",
              " 'oːn\\toːn',\n",
              " 'ut͡ʃiťelɲitsa\\tut͡ʃiťelɲitsa',\n",
              " 'grit\\tgrit',\n",
              " 'tuγi\\ttuγi',\n",
              " 'tuγ\\ttuγ',\n",
              " 'gərbin\\tgərbi/n',\n",
              " 'familjawan\\tfamilja/wa/n',\n",
              " 'omŋom\\tomŋo/m',\n",
              " 'siː\\tsiː',\n",
              " 'siː\\tsiː',\n",
              " 'siː\\tsiː',\n",
              " 'əɲoː\\təɲoː',\n",
              " 'əɲimtiki\\təɲi/m/tiki',\n",
              " 'gunə\\tgu/nə',\n",
              " 'siː\\tsiː',\n",
              " 'əɲoː\\təɲoː',\n",
              " 'aŋikaːnə\\taŋi/kaːn/ə',\n",
              " 'oːkal\\toː/kal',\n",
              " 'hutakat͡ʃaːnə\\thutaka/t͡ʃaːn/ə',\n",
              " 'hutakat͡ʃaːnə\\thutaka/t͡ʃaːn/ə',\n",
              " 'oːkal\\toː/kal',\n",
              " 'biː\\tbiː',\n",
              " 'taduː\\tta/duː',\n",
              " 'ɲaŋtala\\tɲaŋta/l/a',\n",
              " 'aŋiďam\\taŋi/ďa/m',\n",
              " 'ɲaŋtatiːďam\\tɲaŋta/tiː/ďa/m',\n",
              " 'taduː\\ttaduː',\n",
              " 'aŋiďam\\taŋi/ďa/m',\n",
              " 'i\\ti',\n",
              " 'potom\\tpotom',\n",
              " 'nuŋandulaːn\\tnuŋan/dulaː/n',\n",
              " 'surupďem\\tsuru/p/ďe/m',\n",
              " 'padaːrəkjəwi\\tpadaːrək/jə/wi',\n",
              " 'əːjawiw\\təː/ja/wi/w',\n",
              " 'suru\\tsuru',\n",
              " 'surupďem\\tsuru/p/ďe/m',\n",
              " 'ut͡ʃiťelɲitsaduːwi\\tut͡ʃiťelɲitsa/duː/wi',\n",
              " 'nuŋaŋilin\\tnuŋa/ŋi/li/n',\n",
              " 'jeʃo\\tjeʃo',\n",
              " 'tar\\ttar',\n",
              " 'trofimŋil\\ttrofim/ŋi/l',\n",
              " 'bit͡ʃoːtin\\tbi/t͡ʃoː/tin',\n",
              " 'aknilin\\takni/li/n',\n",
              " 'tar\\ttar',\n",
              " 'əsilə\\təsilə',\n",
              " 'nuŋan\\tnuŋan',\n",
              " 'ďajaďan\\tďaja/ďa/n',\n",
              " 'tar\\ttar',\n",
              " 'miʃokpi\\tmiʃok/pi',\n",
              " 'aknilin\\takni/li/n',\n",
              " 'aknilin\\takni/li/n',\n",
              " 'bakaďara\\tbaka/ďa/ra',\n",
              " 'tar\\ttar',\n",
              " 'aŋiwan\\taŋi/wa/n',\n",
              " 'aŋiwan\\taŋi/wa/n',\n",
              " 'tar\\ttar',\n",
              " 'əɲi\\təɲi',\n",
              " 'niːkə\\tniː/kə',\n",
              " 'ɲaŋtaŋilwəm\\tɲaŋta/ŋi/l/wə/m',\n",
              " 'nuŋan\\tnuŋan',\n",
              " 'əpať\\təpať',\n",
              " 'snowa\\tsnowa',\n",
              " 'əpať\\təpať',\n",
              " 'snowa\\tsnowa',\n",
              " 'ɲaŋtalə\\tɲaŋta/l/ə',\n",
              " 'ɲaŋtalə\\tɲaŋta/l/ə',\n",
              " 'aŋiďan\\taŋi/ďa/n',\n",
              " 'əpať\\təpať',\n",
              " 'əɲoː\\təɲ/oː',\n",
              " 'ajamamat\\taja/mama/t',\n",
              " 'ďajakal\\tďaja/kal',\n",
              " 'ədoːtin\\tə/doː/tin',\n",
              " 'bakara\\tbaka/ra',\n",
              " 'tar\\ttar',\n",
              " 'patəjil\\tpatəji/l',\n",
              " 'əmərə\\təmə/rə',\n",
              " 'klastuːi\\tklas/tuː/i',\n",
              " 'təγətt͡ʃəm\\ttəγə/t/t͡ʃə/m',\n",
              " 'tar\\ttar',\n",
              " 'trafim\\ttrafim',\n",
              " 'ut͡ʃeɲikiw\\tut͡ʃeɲiki/w',\n",
              " 'zdraːstwujťe\\tzdraːstwujťe',\n",
              " 'aŋiwi\\taŋi/wi',\n",
              " 'karmandukpi\\tkarman/duk/pi',\n",
              " 'aŋiran\\taŋi/ra/n',\n",
              " 'gadan\\tga/da/n',\n",
              " 'əːdukpiwəl\\təːduk/pi/wəl',\n",
              " 'tarə\\ttarə',\n",
              " 'aŋikaːnmə\\taŋi/kaːn/mə',\n",
              " 'tarə\\ttarə',\n",
              " 'ərdikoːnmə\\tərdi/koːn/mə',\n",
              " 't͡ʃemokokoːn\\tt͡ʃemo/kokoːn',\n",
              " 'taduː\\ttaduː',\n",
              " 'ɲaŋtal\\tɲaŋta/l',\n",
              " 't͡ʃenokoːnkə\\tt͡ʃeno/koːn/kə',\n",
              " 'tarə\\ttarə',\n",
              " 'aŋi\\taŋi',\n",
              " 'ɲaŋɲa\\tɲaŋɲa',\n",
              " 'upkat͡ʃin\\tupkat͡ʃi/n',\n",
              " 'ɲaŋɲaja\\tɲaŋɲa/ja',\n",
              " 'əbəj\\təbəj',\n",
              " 'ə\\tə',\n",
              " 'biː\\tbiː',\n",
              " 'snowa\\tsnowa',\n",
              " 'əpať\\təpať',\n",
              " 'aŋiďam\\taŋi/ďa/m',\n",
              " 'nuŋartin\\tnuŋartin',\n",
              " 'əpať\\təpať',\n",
              " 'ďepďerə\\tďep/ďe/rə',\n",
              " 'adiːraːdaː\\tadiː/raː/daː',\n",
              " 'əɲoː\\təɲoː',\n",
              " 'ajamamat\\taja/mama/t',\n",
              " 'ďajan\\tďaja/n',\n",
              " 'ər\\tər',\n",
              " 'əsile\\təsile',\n",
              " 'biː\\tbiː',\n",
              " 'sinduː\\tsin/duː',\n",
              " 'əməwum\\təmə/wu/m',\n",
              " 'bun\\tbun',\n",
              " 'tuktə\\ttuk/tə',\n",
              " 'guďeːj\\tguďeːj',\n",
              " 'eːkun\\teːkun',\n",
              " 'nəlki\\tnəlki',\n",
              " 'əduː\\təduː',\n",
              " 'əduː\\təduː',\n",
              " 'baldit͡ʃam\\tbaldi/t͡ʃa/m',\n",
              " 'poligustuː\\tpoligus/tuː',\n",
              " 'a\\ta',\n",
              " 'bit͡ʃon\\tbi/t͡ʃo/n',\n",
              " 'amaskiː\\tamaskiː',\n",
              " 'balnitsa\\tbalnitsa',\n",
              " 'bit͡ʃoːn\\tbi/t͡ʃoː/n',\n",
              " 'əduː\\təduː',\n",
              " 'baldit͡ʃaːm\\tbaldi/t͡ʃaː/m',\n",
              " 'poligustuː\\tpoligus/tuː',\n",
              " 'əduː\\təduː',\n",
              " 'uʒə\\tuʒə',\n",
              " 'duːkuďat͡ʃaːtin\\tduːku/ďa/t͡ʃaː/tin',\n",
              " 'minə\\tminə',\n",
              " 'ďapkundulaː\\tďapkun/dulaː',\n",
              " 'klasəldulaː\\tklasə/l/dulaː',\n",
              " 'ďapkun\\tďapkun',\n",
              " 'ɲuŋunduː\\tɲuŋun/duː',\n",
              " 'surut͡ʃoːm\\tsuru/t͡ʃoː/m',\n",
              " 'ďapkun\\tďapkun',\n",
              " 'əməm\\təmə/m',\n",
              " 'patom\\tpatom',\n",
              " 'hawalilim\\thawali/li/m',\n",
              " 'oror\\toro/r',\n",
              " 'bit͡ʃotin\\tbi/t͡ʃo/tin',\n",
              " 'amaskiː\\tamaskiː',\n",
              " 'a\\ta',\n",
              " 'śit͡ʃastə\\tśit͡ʃas/tə',\n",
              " 'aːt͡ʃir\\taːt͡ʃi/r',\n",
              " 'nuŋartin\\tnuŋartin',\n",
              " 'məːrwəl\\tməːr/wəl',\n",
              " 'aŋirə\\taŋi/rə',\n",
              " 'dapdarə\\tdapda/rə',\n",
              " 'ʃas\\tʃas',\n",
              " 'əːkunka\\təːkun/ka',\n",
              " 'minə\\tminə',\n",
              " 'orirə\\tori/rə',\n",
              " 'amija\\tami/ja',\n",
              " 'gunən\\tgun/ə/n',\n",
              " 'əːkunka\\təːkun/ka',\n",
              " 'nado\\tnado',\n",
              " 'onmər\\ton/mər',\n",
              " 'ɲəkəmi\\tɲəkə/mi',\n",
              " 'nuŋanman\\tnuŋan/ma/n',\n",
              " 'ətəjəːtnoːmi\\tətəjəː/t/noː/mi',\n",
              " 'nu\\tnu',\n",
              " 'ladno\\tladno',\n",
              " 'gunim\\tguni/m',\n",
              " 'vet͡ʃərəm\\tvet͡ʃərəm',\n",
              " 'əməďim\\təmə/ďi/m',\n",
              " 'əmərəwun\\təmə/rə/wun',\n",
              " 'ďirikat͡ʃaːn\\tďirika/t͡ʃaːn',\n",
              " 'umukoːn\\tumukoːn',\n",
              " 'i\\ti',\n",
              " 'fśo\\tfśo',\n",
              " 'əːkundaː\\təːkun/daː',\n",
              " 'bolʃə\\tbolʃə',\n",
              " 'aːt͡ʃin\\taːt͡ʃin',\n",
              " 'iːduː\\tiːduː',\n",
              " 't͡ʃikilmi\\tt͡ʃikil/mi',\n",
              " 'ətəjəːtmi\\tətəjəː/t/mi',\n",
              " 'paka\\tpaka',\n",
              " 'taːduː\\ttaːduː',\n",
              " 'horolďit͡ʃoːwun\\thorol/ďi/t͡ʃoː/wun',\n",
              " 'ulgut͡ʃoːmott͡ʃit͡ʃoːwun\\tulgut͡ʃoː/mot/t͡ʃi/t͡ʃoː/wun',\n",
              " 'it͡ʃərəwunduː\\tit͡ʃə/rə/wun/duː',\n",
              " 'tawarka\\tta/war/ka',\n",
              " 'uʒe\\tuʒe',\n",
              " 'uʃ\\tuʃ',\n",
              " 'loporoːrən\\tloporoː/rə/n',\n",
              " 'ďirikaltuk\\tďirika/l/tuk',\n",
              " 'nu\\tnu',\n",
              " 'i\\ti',\n",
              " 'əməldəkin\\təmə/ldək/in',\n",
              " 'əduk\\təduk',\n",
              " 'it͡ʃəwun\\tit͡ʃə/wun',\n",
              " 'oːďan\\toː/ďa/n',\n",
              " 'gunim\\tguni/m',\n",
              " 'əγiː\\təγiː',\n",
              " 'loporoːrakin\\tloporoː/rak/in',\n",
              " 'ŋəpkəkəːlaː\\tŋəpkəkəː/laː',\n",
              " 'təpkəhinďəm\\ttəpkə/hin/ďə/m',\n",
              " 'nu\\tnu',\n",
              " 'gojoːwlipt͡ʃə\\tgojoːwli/p/t͡ʃə',\n",
              " 'hururəwun\\thuru/rə/wun',\n",
              " 'taːlaː\\ttaːlaː',\n",
              " 'ŋəpkəkəːləː\\tŋəpkəkəː/ləː',\n",
              " 'nu\\tnu',\n",
              " 'i\\ti',\n",
              " 'omoːnəwun\\tomoːn/ə/wun',\n",
              " 'amaskiːwər\\tamaskiː/wər',\n",
              " 'hururəwun\\thuru/rə/wun',\n",
              " 'haŋkəlwun\\thaŋkə/l/wun',\n",
              " 'taːlaː\\ttaːlaː',\n",
              " 'biďit͡ʃəːtin\\tbi/ďi/t͡ʃəː/tin',\n",
              " 'ďuːlduː\\tďuː/l/duː',\n",
              " 'ujuːt͡ʃəjit͡ʃəːtin\\tujuː/t͡ʃə/ji/t͡ʃəː/tin',\n",
              " 'hururəwun\\thuru/rə/wun',\n",
              " 'haŋkəlwər\\thaŋkə/l/wər',\n",
              " 'gənnoːrəwun\\tgənnoː/rə/wun',\n",
              " 'haŋkəlďi\\thaŋkə/l/ďi',\n",
              " 'hururəwun\\thuru/rə/wun',\n",
              " 'ŋinaγiːrawun\\tŋinaγiː/ra/wun',\n",
              " 'uːďaliːn\\tuːďa/liː/n',\n",
              " 'nu\\tnu',\n",
              " 'hururəwun\\thuru/rə/wun',\n",
              " 'ŋinaki\\tŋinaki',\n",
              " 'znat͡ʃit\\tznat͡ʃit',\n",
              " 'ďawaran\\tďawa/ra/n',\n",
              " 'ŋinakirwun\\tŋinaki/r/wun',\n",
              " 'geːtəː\\tgeː/təː',\n",
              " 'ŋinakin\\tŋinakin',\n",
              " 'ŋoːləlt͡ʃə\\tŋoːlə/l/t͡ʃə',\n",
              " 'a\\ta',\n",
              " 'geː\\tgeː',\n",
              " 'taːlaː\\ttaːlaː',\n",
              " 'goγoďəkoːrən\\tgoγo/ďə/koː/rə/n',\n",
              " 'taːlaː\\ttaːlaː',\n",
              " 'tuksarawun\\ttuksa/ra/wun',\n",
              " 'it͡ʃə\\tit͡ʃə',\n",
              " 'it͡ʃərəwun\\tit͡ʃə/rə/wun',\n",
              " 'təːr\\ttəːr',\n",
              " 'aːmutkaːn\\taːmut/kaːn',\n",
              " 'bargiːγiďin\\tbargiː/γiďi/n',\n",
              " 'ŋinakinmə\\tŋinakin/mə',\n",
              " 'aːŋďərən\\taːŋ/ďə/rə/n',\n",
              " 'bəjiːtt͡ʃərən\\tbəjiː/t/t͡ʃə/rə/n',\n",
              " 'pəktirəːnim\\tpəktirəːni/m',\n",
              " 'məlt͡ʃoːt͡ʃə\\tməlt͡ʃoː/t͡ʃə',\n",
              " 'iːkəːriːwon\\tiːkəːriː/wo/n',\n",
              " 'tariŋiːwun\\ttari/ŋiː/wun',\n",
              " 'muːloː\\tmuː/loː',\n",
              " 'oːŋkaːnən\\toːŋkaːn/ə/n',\n",
              " 'bururən\\tburu/rə/n',\n",
              " 'əmə\\təmə',\n",
              " 'əmərəwun\\təmə/rə/wun',\n",
              " 'taːduː\\ttaːduː',\n",
              " 'ďetŋoγow\\tďet/ŋoγo/w',\n",
              " 'pətkət\\tpətkət',\n",
              " 'tozowkatpi\\ttozowka/t/pi',\n",
              " 'dilmaːliːn\\tdil/maː/liː/n',\n",
              " 'pəktiroːnən\\tpəktiroːn/ə/n',\n",
              " 'naːpkaːnən\\tnaː/p/kaː/nə/n',\n",
              " 'əjəːďənnə\\təjəː/ďə/n/nə',\n",
              " 'muːduː\\tmuː/duː',\n",
              " 'guɲďərən\\tguɲ/ďə/rə/n',\n",
              " 'əjəːpkiː\\təjəː/pkiː',\n",
              " 'tuksarawun\\ttuksa/ra/wun',\n",
              " 'taːduː\\ttaːduː',\n",
              " 'i\\ti',\n",
              " 'iɲďərən\\tiɲ/ďə/rə/n',\n",
              " 'jeʃo\\tjeʃo',\n",
              " 'tihaktaďərən\\ttiha/kta/ďə/rə/n',\n",
              " 'nuŋan\\tnuŋan',\n",
              " 'on\\ton',\n",
              " 'ďawaďəndə\\tďawa/ďə/ndə',\n",
              " 'aramaː\\taramaː',\n",
              " 'diːskiː\\tdiːskiː',\n",
              " 'nuŋənməːn\\tnuŋənməːn',\n",
              " 'urihinəwun\\turi/hin/ə/wun',\n",
              " 'taːduːdaː\\ttaːduː/daː',\n",
              " 'irəːksəwən\\tirəːksə/wə/n',\n",
              " 'əːt͡ʃaːwunkə\\təː/t͡ʃaː/wun/kə',\n",
              " 'luktawundaː\\tluk/ta/wun/daː',\n",
              " 'nuŋəməːn\\tnuŋəməːn',\n",
              " 'təlgətnəl\\ttəlgə/t/nə/l',\n",
              " 'omoːt͡ʃəːwun\\tomoː/t͡ʃəː/wun',\n",
              " 'əːwankə\\təː/wa/n/kə',\n",
              " 'gadawun\\tga/da/wun',\n",
              " 'hiːwon\\thiː/wo/n',\n",
              " 'gat͡ʃaːwun\\tga/t͡ʃaː/wun',\n",
              " 'əːwankə\\təː/wa/n/kə',\n",
              " 'irəːksəwən\\tirəːksə/wə/n',\n",
              " 'tukdoː\\ttuk/doː',\n",
              " 'bimnin\\tbimnin',\n",
              " 'omoːt͡ʃəːwun\\tomoː/t͡ʃəː/wun',\n",
              " 'ej\\tej',\n",
              " 'əːwankə\\təː/wa/n/kə',\n",
              " 'uldəwən\\tuldə/wə/n',\n",
              " 'ət͡ʃəːwun\\tə/t͡ʃəː/wun',\n",
              " 'gadə\\tga/də',\n",
              " 'əːwa\\təː/wa',\n",
              " 'tuk\\ttuk',\n",
              " 'biďən\\tbi/ďə/n',\n",
              " 'amiː\\tamiː',\n",
              " 'minə\\tminə',\n",
              " 'təruːttan\\ttəruːt/ta/n',\n",
              " 'guləlduloː\\tgulə/l/duloː',\n",
              " 'tar\\ttar',\n",
              " 'kuŋakar\\tkuŋaka/r',\n",
              " 'əmonmut͡ʃoːtin\\təmon/mu/t͡ʃoː/tin',\n",
              " 'ďuːduː\\tďuː/duː',\n",
              " 'uďaltin\\tuďa/l/tin',\n",
              " 'bit͡ʃoːtin\\tbi/t͡ʃoː/tin',\n",
              " 'guləlduː\\tgulə/l/duː',\n",
              " 'tam\\ttam',\n",
              " 'oːkiː\\toːkiː',\n",
              " 'tri\\ttri',\n",
              " 'ilaldawa\\tila/lda/wa',\n",
              " 'bit͡ʃoːwun\\tbi/t͡ʃoː/wun',\n",
              " 'potom\\tpotom',\n",
              " 'wirtolotit\\twirtoloti/t',\n",
              " 'dəγirəwun\\tdəγi/rə/wun',\n",
              " 'kuŋakar\\tkuŋaka/r',\n",
              " 'hajalə\\thajalə',\n",
              " 'ďuːduːwər\\tďuː/duː/wər',\n",
              " 'ŋinakinmi\\tŋinakin/mi',\n",
              " 'hukuləː\\thukuləː',\n",
              " 'əji\\təji',\n",
              " 'hata\\thata',\n",
              " 'gunďəm\\tgun/ďə/m',\n",
              " 'wirtolottulaː\\twirtolot/tulaː',\n",
              " 'ədaːji\\tə/daː/ji',\n",
              " 'ət͡ʃə\\tə/t͡ʃə',\n",
              " 'əmərə\\təmə/rə',\n",
              " 'hurum\\thuru/m',\n",
              " 'it͡ʃətnoːm\\tit͡ʃə/t/noː/m',\n",
              " 'əwanda\\tə/wa/n/da',\n",
              " 'ət͡ʃəːw\\tə/t͡ʃəː/w',\n",
              " 'it͡ʃəttə\\tit͡ʃə/t/tə',\n",
              " 'eːkunka\\teːkun/ka',\n",
              " 'nawerna\\tnawerna',\n",
              " 'ŋinakir\\tŋinaki/r',\n",
              " 'kikirkal\\tkiki/rka/l',\n",
              " 'kujiːkoːtt͡ʃənəl\\tkujiː/koːt/t͡ʃə/nə/l',\n",
              " 'potom\\tpotom',\n",
              " 'ajamamat\\taja/mama/t',\n",
              " 'eːkunka\\teːkun/ka',\n",
              " 'dolboltono\\tdolboltono',\n",
              " 'it͡ʃətt͡ʃilim\\tit͡ʃə/t/t͡ʃi/li/m',\n",
              " 'umukoːn\\tumukoːn',\n",
              " 'hagditmər\\thagdi/tmər',\n",
              " 'biďirən\\tbi/ďi/rə/n',\n",
              " 'giːl\\tgiː/l',\n",
              " 'hajalə\\thajalə',\n",
              " 'nu\\tnu',\n",
              " 'gunəm\\tgunə/m',\n",
              " 'goʃajaduː\\tgoʃa/ja/duː',\n",
              " 'biďənorə\\tbi/ďə/no/rə',\n",
              " 'nawerna\\tnawerna',\n",
              " 'goʃajaduː\\tgoʃa/ja/duː',\n",
              " 'bi\\tbi',\n",
              " 'goʃaja=\\tgoʃa/ja=',\n",
              " 'biďit͡ʃoːtin\\tbi/ďi/t͡ʃoː/tin',\n",
              " 'patom\\tpatom',\n",
              " 'əh\\təh',\n",
              " 'potom\\tpotom',\n",
              " 'uʒə\\tuʒə',\n",
              " 'tilim\\ttili/m',\n",
              " 'tilim\\ttili/m',\n",
              " 'kak\\tkak',\n",
              " 'tolko\\ttolko',\n",
              " 'gunə\\tgun/ə',\n",
              " 'ratsijaliː\\tratsija/liː',\n",
              " 'hanŋuːktam\\thanŋuːkta/m',\n",
              " 'potom\\tpotom',\n",
              " 'hurum\\thuru/m',\n",
              " 'boγ\\tboγ',\n",
              " 'ďapkaliːn\\tďapka/liː/n',\n",
              " 'it͡ʃəm\\tit͡ʃə/m',\n",
              " 'wolka\\twolka',\n",
              " 'uďalin\\tuďa/li/n',\n",
              " 'taduː\\ttaduː',\n",
              " 'wizďə\\twizďə',\n",
              " 't͡ʃaːγit\\tt͡ʃaː/γit',\n",
              " 'ďapkaliː\\tďapka/liː',\n",
              " 'girkum\\tgirku/m',\n",
              " 't͡ʃaːskiː\\tt͡ʃaːskiː',\n",
              " 'girkum\\tgirku/m',\n",
              " 'tariγit\\ttari/γit',\n",
              " 'girkut͡ʃa\\tgirku/t͡ʃa',\n",
              " 'i\\ti',\n",
              " 'goʃajaduː\\tgoʃa/ja/duː',\n",
              " 'ŋinakirwi\\tŋinaki/r/wi',\n",
              " 'at͡ʃir\\tat͡ʃi/r',\n",
              " 'taduː\\ttaduː',\n",
              " 't͡ʃipkaːn\\tt͡ʃipkaːn',\n",
              " 'nawerna\\tnawerna',\n",
              " 'warkə\\twa/rkə',\n",
              " 'ďəwurkəlti\\tďəwu/rkə/lti',\n",
              " 'tar\\ttar',\n",
              " 'nuŋarwatin\\tnuŋar/wa/tin',\n",
              " 'iloː\\tiloː',\n",
              " 'bolʃə\\tbolʃə',\n",
              " 'oďərə\\to/ďə/rə',\n",
              " 'ər\\tər',\n",
              " 'amaːkaː\\tamaːkaː',\n",
              " 'eːkuninkək\\teːkuni/n/kək',\n",
              " 'lapən\\tlapə/n',\n",
              " 'jaʃaja\\tjaʃa/ja',\n",
              " 't͡ʃoknatin\\tt͡ʃok/na/tin',\n",
              " 'biʃo\\tbi/ʃo',\n",
              " 'orolo\\torolo',\n",
              " 'oromilowun\\toro/mi/l/o/wun',\n",
              " 'taduː\\ttaduː',\n",
              " 'tirəmtit͡ʃo\\ttirə/mti/t͡ʃo',\n",
              " 'bit͡ʃo\\tbi/t͡ʃo',\n",
              " 'pau\\tpau',\n",
              " 'ət͡ʃol\\tə/t͡ʃo/l',\n",
              " 'bihiwun\\tbi/hi/wun',\n",
              " 'haːrə\\thaː/rə',\n",
              " 'pəktiroːwunmə\\tpəktiroː/wun/mə',\n",
              " 'karabinmə\\tkarabin/mə',\n",
              " 'gat͡ʃal\\tga/t͡ʃa/l',\n",
              " 'pəktiroːwun\\tpəktiroː/wun',\n",
              " 'haraʃo\\tharaʃo',\n",
              " 'karabinmə\\tkarabin/mə',\n",
              " 'ganal\\tga/na/l',\n",
              " 'hurut͡ʃol\\thuru/t͡ʃo/l',\n",
              " 'bit͡ʃol\\tbi/t͡ʃo/l',\n",
              " 'toːliː\\ttoːliː',\n",
              " 'taduː\\ttaduː',\n",
              " 'mut͡ʃuďəraktin\\tmut͡ʃu/ďə/rak/tin',\n",
              " 'ərə\\tərə',\n",
              " 'uďaduːtin\\tuďa/duː/tin',\n",
              " 'ihit͡ʃakə\\tihi/t͡ʃa/kə',\n",
              " 'bit͡ʃo\\tbi/t͡ʃo',\n",
              " 'ədin\\tədin',\n",
              " 'hukuγit͡ʃo\\thuku/γi/t͡ʃo',\n",
              " 'nuŋariγitin\\tnuŋari/γi/tin',\n",
              " 'dinŋiːləːγit͡ʃo\\tdinŋiːləː/γi/t͡ʃo',\n",
              " 'təpkəďənə\\ttəpkə/ďə/nə',\n",
              " 'nuŋardulaːtin\\tnuŋar/dulaː/tin',\n",
              " 'dinŋiːləːhint͡ʃit͡ʃo\\tdinŋiːləː/hin/t͡ʃi/t͡ʃo',\n",
              " 'taduː\\ttaduː',\n",
              " 'maril\\tmari/l',\n",
              " 'jaktaliː\\tjakta/liː',\n",
              " 'dinŋiːləːt͡ʃo\\tdinŋiːləː/t͡ʃo',\n",
              " 'taduː\\ttaduː',\n",
              " 'haraʃo\\tharaʃo',\n",
              " 'aŋti\\taŋti',\n",
              " 'eːkunka\\teːkun/ka',\n",
              " 'taduː\\ttaduː',\n",
              " 'meːwuːjit͡ʃa\\tmeːwuː/ji/t͡ʃa',\n",
              " 'bit͡ʃo\\tbi/t͡ʃo',\n",
              " 'nuŋarwatin\\tnuŋar/wa/tin',\n",
              " 'bəjunmə\\tbəjun/mə',\n",
              " 'ɲan\\tɲan',\n",
              " 'əton\\tə/to/n',\n",
              " 'tuk\\ttuk',\n",
              " 'pəktiroːrə\\tpəktiroː/rə',\n",
              " 'padrat\\tpadrat',\n",
              " 'potom\\tpotom',\n",
              " 'əmərə\\təmə/rə',\n",
              " 'potom\\tpotom',\n",
              " 'əmərə\\təmə/rə',\n",
              " 'amaːkaːwə\\tamaːkaː/wə',\n",
              " 't͡ʃoktaw\\tt͡ʃok/ta/w',\n",
              " 'potaptulaː\\tpotap/tulaː',\n",
              " 'irəmoːďit͡ʃəːw\\tirəmoː/ďi/t͡ʃəː/w',\n",
              " 'taːlaːkə\\ttaːlaː/kə',\n",
              " 'ar\\tar',\n",
              " 'art͡ʃəmkat͡ʃal\\tart͡ʃəmka/t͡ʃa/l',\n",
              " 'əːduk\\təːduk',\n",
              " 'telegrammawə\\ttelegramma/wə',\n",
              " 'buːt͡ʃəːwun\\tbuː/t͡ʃəː/wun',\n",
              " 'art͡ʃəmkadaːtin\\tart͡ʃəmka/daː/tin',\n",
              " 'a\\ta',\n",
              " 'taːlaː\\ttaːlaː',\n",
              " 'telegrammuwə\\ttelegrammu/wə',\n",
              " 'bakat͡ʃal\\tbaka/t͡ʃa/l',\n",
              " 'pətoːm\\tpətoːm',\n",
              " 'wuse\\twuse',\n",
              " 'uʃli\\tuʃli',\n",
              " 'kəgda\\tkəgda',\n",
              " 'uʒ\\tuʒ',\n",
              " 'davno\\tdavno',\n",
              " 'hawalit͡ʃalaːwun\\thawali/t͡ʃalaː/wun',\n",
              " 'art͡ʃəmkat͡ʃaldəː\\tart͡ʃəmka/t͡ʃa/l/dəː',\n",
              " 'munə\\tmunə',\n",
              " 'hajaːlə\\thajaːlə',\n",
              " 'amandiːt͡ʃal\\tamandiː/t͡ʃa/l',\n",
              " 'staːdəwətin\\tstaːdə/wə/tin',\n",
              " 'dariːliː\\tdariː/liː',\n",
              " 'ŋənət͡ʃo\\tŋənə/t͡ʃo',\n",
              " 'bəγəːm\\tbə/γəː/m',\n",
              " 'dariːləː\\tdariː/ləː',\n",
              " 'ďuːtaːďət͡ʃəːl\\tďuː/taː/ďə/t͡ʃəː/l',\n",
              " 'amarduliːwun\\tamar/duliː/wun',\n",
              " 'ahat͡ʃa\\taha/t͡ʃa',\n",
              " 'brigaďiritin\\tbrigaďiri/tin',\n",
              " 'hoːjduk\\thoːj/duk',\n",
              " 'mut͡ʃuːt͡ʃa\\tmut͡ʃuː/t͡ʃa',\n",
              " 'uďaliːn\\tuďa/liː/n',\n",
              " 'ŋənəm\\tŋənə/m',\n",
              " 'ŋənəm\\tŋənə/m',\n",
              " 'tajmeɲ\\ttajmeɲ',\n",
              " 'ďapkaduːn\\tďapka/duː/n',\n",
              " 'urinərəwun\\turinə/rə/wun',\n",
              " 'taːduː\\ttaːduː',\n",
              " 'art͡ʃarəwun\\tart͡ʃa/rə/wun',\n",
              " 'timaːnəktawan\\ttimaːnə/ktawa/n',\n",
              " 'huktəhinəw\\thuktə/hinə/w',\n",
              " 'art͡ʃərəwun\\tart͡ʃə/rə/wun',\n",
              " 'taːduː\\ttaːduː',\n",
              " 'haːlwətin\\thaː/l/wə/tin',\n",
              " 'taγim\\ttaγi/m',\n",
              " 'znəkomijilbi\\tznəkomiji/l/bi',\n",
              " 'bit͡ʃol\\tbi/t͡ʃo/l',\n",
              " 'hururə\\thuru/rə',\n",
              " 'taːliː\\ttaːliː',\n",
              " 'ďuːliːwun\\tďuː/liː/wun',\n",
              " 'ŋənərə\\tŋənə/rə',\n",
              " 'haruːkkar\\tharuːk/ka/r',\n",
              " 'huktiwuhijnə\\thuktiwu/hijn/ə',\n",
              " 'tarjaːkaklaː\\ttarjaːka/klaː',\n",
              " 'ororwətin\\toro/r/wə/tin',\n",
              " 'taŋnaːhiːt͡ʃal\\ttaŋ/naː/hiː/t͡ʃa/l',\n",
              " 'bit͡ʃoːl\\tbi/t͡ʃoː/l',\n",
              " 'taːduktaː\\ttaːduk/taː',\n",
              " 'potaptulaː\\tpotap/tulaː',\n",
              " 'girkujit͡ʃaːwun\\tgirku/ji/t͡ʃaː/wun',\n",
              " 'nu\\tnu',\n",
              " 'inďit͡ʃoːwun\\tin/ďi/t͡ʃoː/wun',\n",
              " 'taːduː\\ttaːduː',\n",
              " 'ďuːlduːtin\\tďuː/l/duː/tin',\n",
              " 'balokilduːtin\\tbaloki/l/duː/tin',\n",
              " 'ďuːkakaːnďiwər\\tďuː/kakaːn/ďi/wər',\n",
              " 'bit͡ʃoːwun\\tbi/t͡ʃoː/wun',\n",
              " 'taːduk\\ttaːduk',\n",
              " 'irəmiːďət͡ʃoːwun\\tirəmiː/ďə/t͡ʃoː/wun',\n",
              " 'taːliː\\ttaːliː',\n",
              " 'vtəroj\\tvtəroj',\n",
              " 'staːdəduː\\tstaːdə/duː',\n",
              " 'pervij\\tpervij',\n",
              " 'staːdəduː\\tstaːdə/duː',\n",
              " 'potaptulaː\\tpotap/tulaː',\n",
              " 'tarilduk\\ttari/l/duk',\n",
              " 'girkuďəŋnərəwun\\tgirku/ďə/ŋnə/rə/wun',\n",
              " 'gorokoːnmə\\tgoro/koːn/mə',\n",
              " 'bit͡ʃoːwun\\tbi/t͡ʃoː/wun',\n",
              " 'taːduː\\ttaːduː',\n",
              " 'pətom\\tpətom',\n",
              " 'tarγit\\ttar/γit',\n",
              " 'alikjə\\talik/jə',\n",
              " 'əmət͡ʃoːtin\\təmə/t͡ʃoː/tin',\n",
              " 'ďiːγit\\tďiːγit',\n",
              " 'ororďi\\toro/r/ďi',\n",
              " 'taːduk\\ttaːduk',\n",
              " ...]"
            ]
          },
          "metadata": {},
          "execution_count": 17
        }
      ]
    },
    {
      "cell_type": "code",
      "source": [
        "mar = list()\n",
        "for line in s:\n",
        "  mar.append(line.split('\\t'))"
      ],
      "metadata": {
        "id": "AXEBeg5jA9be"
      },
      "execution_count": null,
      "outputs": []
    },
    {
      "cell_type": "code",
      "source": [
        "mar"
      ],
      "metadata": {
        "id": "bU_l1K-gBX3j"
      },
      "execution_count": null,
      "outputs": []
    },
    {
      "cell_type": "code",
      "source": [
        "df3 = pd.DataFrame(columns = ['original', 'newmarkup'])\n",
        "for k in range(0, len(mar)):\n",
        "  for n in range(0, len(mas)):\n",
        "    if mas[n][1] == 1:\n",
        "      if mar[k][0] == mas[n][0]:\n",
        "        original = mar[k][0]\n",
        "        markup = mar[k][1]\n",
        "        d = {'original': original, 'newmarkup': markup}\n",
        "        df3 = df3.append(d, ignore_index=True)\n"
      ],
      "metadata": {
        "id": "fi9B67dgBcvB"
      },
      "execution_count": null,
      "outputs": []
    },
    {
      "cell_type": "code",
      "source": [
        "df4 = pd.DataFrame(columns = ['original', 'newmarkup'])\n",
        "df5 = pd.DataFrame(columns = ['original', 'newmarkup'])\n",
        "trip = (len(df) - len(df3)) * 0.9\n",
        "sum = 0\n",
        "for k in range(0, len(mar)):\n",
        "  for n in range(0, len(mas)):\n",
        "     if mas[n][1] > 1 and sum < trip:\n",
        "      if mar[k][0] == mas[n][0]:\n",
        "        original = mar[k][0]\n",
        "        markup = mar[k][1]\n",
        "        sum += mas[n][1]\n",
        "        d = {'original': original, 'newmarkup': markup}\n",
        "        df4 = df4.append(d, ignore_index=True)\n",
        "     if sum >= trip:\n",
        "       if mar[k][0] == mas[n][0]:\n",
        "          original = mar[k][0]\n",
        "          markup = mar[k][1]\n",
        "          sum += mas[n][1]\n",
        "          d = {'original': original, 'newmarkup': markup}\n",
        "          df5 = df5.append(d, ignore_index=True)\n"
      ],
      "metadata": {
        "id": "AjsjVdjYFDaF"
      },
      "execution_count": null,
      "outputs": []
    },
    {
      "cell_type": "code",
      "source": [
        "df5 = pd.DataFrame(columns = ['original', 'newmarkup'])\n",
        "for k in range(0, len(mar)):\n",
        "  for n in range(0, len(mas)):\n",
        "     if mas[n][1] > 4:\n",
        "      if mar[k][0] == mas[n][0]:\n",
        "        original = mar[k][0]\n",
        "        markup = mar[k][1]\n",
        "        d = {'original': original, 'newmarkup': markup}\n",
        "        df5 = df5.append(d, ignore_index=True)"
      ],
      "metadata": {
        "id": "14pXU5aoGvL9"
      },
      "execution_count": null,
      "outputs": []
    },
    {
      "cell_type": "code",
      "source": [
        "df3"
      ],
      "metadata": {
        "id": "VJGkrXXkCwEJ"
      },
      "execution_count": null,
      "outputs": []
    },
    {
      "cell_type": "code",
      "source": [
        "len(df5)"
      ],
      "metadata": {
        "colab": {
          "base_uri": "https://localhost:8080/"
        },
        "id": "rmA-8Z5ACzbG",
        "outputId": "a1bbe61c-d298-4153-89f3-748e72129d56"
      },
      "execution_count": null,
      "outputs": [
        {
          "output_type": "execute_result",
          "data": {
            "text/plain": [
              "1481"
            ]
          },
          "metadata": {},
          "execution_count": 27
        }
      ]
    },
    {
      "cell_type": "code",
      "source": [
        "df3[['original', 'newmarkup']].to_csv('new_c_1.txt', sep='\\t', index=False, header=False)"
      ],
      "metadata": {
        "id": "We6NE8fwC3OY"
      },
      "execution_count": null,
      "outputs": []
    },
    {
      "cell_type": "code",
      "source": [
        "df4[['original', 'newmarkup']].to_csv('new_c_2.txt', sep='\\t', index=False, header=False)"
      ],
      "metadata": {
        "id": "vRKbj9yDFrzJ"
      },
      "execution_count": null,
      "outputs": []
    },
    {
      "cell_type": "code",
      "source": [
        "df5[['original', 'newmarkup']].to_csv('new_c_3.txt', sep='\\t', index=False, header=False)"
      ],
      "metadata": {
        "id": "egJ9IWGAG7Hr"
      },
      "execution_count": null,
      "outputs": []
    },
    {
      "cell_type": "code",
      "source": [
        "nonrep_words[0]"
      ],
      "metadata": {
        "colab": {
          "base_uri": "https://localhost:8080/",
          "height": 36
        },
        "id": "HuXYeOUb05kx",
        "outputId": "340631d9-5acf-4492-ac5d-c2ed4a434f71"
      },
      "execution_count": null,
      "outputs": [
        {
          "output_type": "execute_result",
          "data": {
            "text/plain": [
              "'Itʼe'"
            ],
            "application/vnd.google.colaboratory.intrinsic+json": {
              "type": "string"
            }
          },
          "metadata": {},
          "execution_count": 16
        }
      ]
    },
    {
      "cell_type": "code",
      "source": [
        "len(nonrep_words)"
      ],
      "metadata": {
        "colab": {
          "base_uri": "https://localhost:8080/"
        },
        "id": "p_faATNE0_Nk",
        "outputId": "a2a2d769-4650-4019-8bc3-2680f0e2b136"
      },
      "execution_count": null,
      "outputs": [
        {
          "output_type": "execute_result",
          "data": {
            "text/plain": [
              "1694"
            ]
          },
          "metadata": {},
          "execution_count": 9
        }
      ]
    }
  ]
}